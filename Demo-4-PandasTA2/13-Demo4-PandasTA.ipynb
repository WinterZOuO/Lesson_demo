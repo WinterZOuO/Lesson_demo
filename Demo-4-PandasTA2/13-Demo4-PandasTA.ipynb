{
 "cells": [
  {
   "cell_type": "code",
   "execution_count": 1,
   "id": "db46c241",
   "metadata": {},
   "outputs": [
    {
     "data": {
      "text/html": [
       "<style>.container { width:100% !important; }</style>"
      ],
      "text/plain": [
       "<IPython.core.display.HTML object>"
      ]
     },
     "metadata": {},
     "output_type": "display_data"
    }
   ],
   "source": [
    "import pandas as pd\n",
    "import numpy as np\n",
    "import pandas_ta as ta\n",
    "\n",
    "import math\n",
    "import yfinance as yf\n",
    "import plotly.express as px\n",
    "import plotly.graph_objects as go\n",
    "from plotly.subplots import make_subplots\n",
    "\n",
    "from IPython.display import display, HTML\n",
    "display(HTML(\"<style>.container { width:100% !important; }</style>\"))"
   ]
  },
  {
   "cell_type": "code",
   "execution_count": 2,
   "id": "9e9eaaa1",
   "metadata": {
    "scrolled": false
   },
   "outputs": [
    {
     "name": "stdout",
     "output_type": "stream",
     "text": [
      "[*********************100%***********************]  1 of 1 completed\n"
     ]
    },
    {
     "data": {
      "text/html": [
       "<div>\n",
       "<style scoped>\n",
       "    .dataframe tbody tr th:only-of-type {\n",
       "        vertical-align: middle;\n",
       "    }\n",
       "\n",
       "    .dataframe tbody tr th {\n",
       "        vertical-align: top;\n",
       "    }\n",
       "\n",
       "    .dataframe thead th {\n",
       "        text-align: right;\n",
       "    }\n",
       "</style>\n",
       "<table border=\"1\" class=\"dataframe\">\n",
       "  <thead>\n",
       "    <tr style=\"text-align: right;\">\n",
       "      <th></th>\n",
       "      <th>Open</th>\n",
       "      <th>High</th>\n",
       "      <th>Low</th>\n",
       "      <th>Close</th>\n",
       "      <th>Adj Close</th>\n",
       "      <th>Volume</th>\n",
       "    </tr>\n",
       "    <tr>\n",
       "      <th>Date</th>\n",
       "      <th></th>\n",
       "      <th></th>\n",
       "      <th></th>\n",
       "      <th></th>\n",
       "      <th></th>\n",
       "      <th></th>\n",
       "    </tr>\n",
       "  </thead>\n",
       "  <tbody>\n",
       "    <tr>\n",
       "      <th>2003-01-02</th>\n",
       "      <td>0.100000</td>\n",
       "      <td>0.103750</td>\n",
       "      <td>0.096583</td>\n",
       "      <td>0.102583</td>\n",
       "      <td>0.094092</td>\n",
       "      <td>1302540000</td>\n",
       "    </tr>\n",
       "    <tr>\n",
       "      <th>2003-01-03</th>\n",
       "      <td>0.102917</td>\n",
       "      <td>0.106250</td>\n",
       "      <td>0.100833</td>\n",
       "      <td>0.102583</td>\n",
       "      <td>0.094092</td>\n",
       "      <td>1037496000</td>\n",
       "    </tr>\n",
       "    <tr>\n",
       "      <th>2003-01-06</th>\n",
       "      <td>0.105083</td>\n",
       "      <td>0.112583</td>\n",
       "      <td>0.105000</td>\n",
       "      <td>0.110917</td>\n",
       "      <td>0.101736</td>\n",
       "      <td>1033428000</td>\n",
       "    </tr>\n",
       "    <tr>\n",
       "      <th>2003-01-07</th>\n",
       "      <td>0.113083</td>\n",
       "      <td>0.115667</td>\n",
       "      <td>0.109333</td>\n",
       "      <td>0.110583</td>\n",
       "      <td>0.101430</td>\n",
       "      <td>1498272000</td>\n",
       "    </tr>\n",
       "    <tr>\n",
       "      <th>2003-01-08</th>\n",
       "      <td>0.107750</td>\n",
       "      <td>0.110917</td>\n",
       "      <td>0.098833</td>\n",
       "      <td>0.099583</td>\n",
       "      <td>0.091340</td>\n",
       "      <td>1852524000</td>\n",
       "    </tr>\n",
       "    <tr>\n",
       "      <th>...</th>\n",
       "      <td>...</td>\n",
       "      <td>...</td>\n",
       "      <td>...</td>\n",
       "      <td>...</td>\n",
       "      <td>...</td>\n",
       "      <td>...</td>\n",
       "    </tr>\n",
       "    <tr>\n",
       "      <th>2022-12-23</th>\n",
       "      <td>15.196000</td>\n",
       "      <td>15.339000</td>\n",
       "      <td>14.883000</td>\n",
       "      <td>15.206000</td>\n",
       "      <td>15.197295</td>\n",
       "      <td>349326000</td>\n",
       "    </tr>\n",
       "    <tr>\n",
       "      <th>2022-12-27</th>\n",
       "      <td>15.074000</td>\n",
       "      <td>15.100000</td>\n",
       "      <td>14.056000</td>\n",
       "      <td>14.121000</td>\n",
       "      <td>14.112916</td>\n",
       "      <td>464902000</td>\n",
       "    </tr>\n",
       "    <tr>\n",
       "      <th>2022-12-28</th>\n",
       "      <td>13.927000</td>\n",
       "      <td>14.262000</td>\n",
       "      <td>13.884000</td>\n",
       "      <td>14.036000</td>\n",
       "      <td>14.027966</td>\n",
       "      <td>351066000</td>\n",
       "    </tr>\n",
       "    <tr>\n",
       "      <th>2022-12-29</th>\n",
       "      <td>14.402000</td>\n",
       "      <td>14.683000</td>\n",
       "      <td>14.227000</td>\n",
       "      <td>14.603000</td>\n",
       "      <td>14.594641</td>\n",
       "      <td>354923000</td>\n",
       "    </tr>\n",
       "    <tr>\n",
       "      <th>2022-12-30</th>\n",
       "      <td>14.334000</td>\n",
       "      <td>14.629000</td>\n",
       "      <td>14.233000</td>\n",
       "      <td>14.614000</td>\n",
       "      <td>14.605634</td>\n",
       "      <td>310490000</td>\n",
       "    </tr>\n",
       "  </tbody>\n",
       "</table>\n",
       "<p>5035 rows × 6 columns</p>\n",
       "</div>"
      ],
      "text/plain": [
       "                 Open       High        Low      Close  Adj Close      Volume\n",
       "Date                                                                         \n",
       "2003-01-02   0.100000   0.103750   0.096583   0.102583   0.094092  1302540000\n",
       "2003-01-03   0.102917   0.106250   0.100833   0.102583   0.094092  1037496000\n",
       "2003-01-06   0.105083   0.112583   0.105000   0.110917   0.101736  1033428000\n",
       "2003-01-07   0.113083   0.115667   0.109333   0.110583   0.101430  1498272000\n",
       "2003-01-08   0.107750   0.110917   0.098833   0.099583   0.091340  1852524000\n",
       "...               ...        ...        ...        ...        ...         ...\n",
       "2022-12-23  15.196000  15.339000  14.883000  15.206000  15.197295   349326000\n",
       "2022-12-27  15.074000  15.100000  14.056000  14.121000  14.112916   464902000\n",
       "2022-12-28  13.927000  14.262000  13.884000  14.036000  14.027966   351066000\n",
       "2022-12-29  14.402000  14.683000  14.227000  14.603000  14.594641   354923000\n",
       "2022-12-30  14.334000  14.629000  14.233000  14.614000  14.605634   310490000\n",
       "\n",
       "[5035 rows x 6 columns]"
      ]
     },
     "execution_count": 2,
     "metadata": {},
     "output_type": "execute_result"
    }
   ],
   "source": [
    "df_nvda = yf.download('NVDA', start='2003-01-01',\n",
    "               end='2023-01-01')\n",
    "df_nvda"
   ]
  },
  {
   "cell_type": "markdown",
   "id": "55ddafd1",
   "metadata": {},
   "source": [
    "# Label Target"
   ]
  },
  {
   "cell_type": "code",
   "execution_count": 3,
   "id": "e1013f2a",
   "metadata": {},
   "outputs": [],
   "source": [
    "df_nvda['Log_rtn'] = df_nvda['Close'].pct_change(1)\n",
    "df_nvda['Target'] = df_nvda['Log_rtn'].shift(-1)"
   ]
  },
  {
   "cell_type": "code",
   "execution_count": 4,
   "id": "6a3d5864",
   "metadata": {},
   "outputs": [
    {
     "data": {
      "text/html": [
       "<div>\n",
       "<style scoped>\n",
       "    .dataframe tbody tr th:only-of-type {\n",
       "        vertical-align: middle;\n",
       "    }\n",
       "\n",
       "    .dataframe tbody tr th {\n",
       "        vertical-align: top;\n",
       "    }\n",
       "\n",
       "    .dataframe thead th {\n",
       "        text-align: right;\n",
       "    }\n",
       "</style>\n",
       "<table border=\"1\" class=\"dataframe\">\n",
       "  <thead>\n",
       "    <tr style=\"text-align: right;\">\n",
       "      <th></th>\n",
       "      <th>Open</th>\n",
       "      <th>High</th>\n",
       "      <th>Low</th>\n",
       "      <th>Close</th>\n",
       "      <th>Adj Close</th>\n",
       "      <th>Volume</th>\n",
       "      <th>Log_rtn</th>\n",
       "      <th>Target</th>\n",
       "    </tr>\n",
       "    <tr>\n",
       "      <th>Date</th>\n",
       "      <th></th>\n",
       "      <th></th>\n",
       "      <th></th>\n",
       "      <th></th>\n",
       "      <th></th>\n",
       "      <th></th>\n",
       "      <th></th>\n",
       "      <th></th>\n",
       "    </tr>\n",
       "  </thead>\n",
       "  <tbody>\n",
       "    <tr>\n",
       "      <th>2003-01-02</th>\n",
       "      <td>0.100000</td>\n",
       "      <td>0.103750</td>\n",
       "      <td>0.096583</td>\n",
       "      <td>0.102583</td>\n",
       "      <td>0.094092</td>\n",
       "      <td>1302540000</td>\n",
       "      <td>NaN</td>\n",
       "      <td>0.000000</td>\n",
       "    </tr>\n",
       "    <tr>\n",
       "      <th>2003-01-03</th>\n",
       "      <td>0.102917</td>\n",
       "      <td>0.106250</td>\n",
       "      <td>0.100833</td>\n",
       "      <td>0.102583</td>\n",
       "      <td>0.094092</td>\n",
       "      <td>1037496000</td>\n",
       "      <td>0.000000</td>\n",
       "      <td>0.081242</td>\n",
       "    </tr>\n",
       "    <tr>\n",
       "      <th>2003-01-06</th>\n",
       "      <td>0.105083</td>\n",
       "      <td>0.112583</td>\n",
       "      <td>0.105000</td>\n",
       "      <td>0.110917</td>\n",
       "      <td>0.101736</td>\n",
       "      <td>1033428000</td>\n",
       "      <td>0.081242</td>\n",
       "      <td>-0.003011</td>\n",
       "    </tr>\n",
       "    <tr>\n",
       "      <th>2003-01-07</th>\n",
       "      <td>0.113083</td>\n",
       "      <td>0.115667</td>\n",
       "      <td>0.109333</td>\n",
       "      <td>0.110583</td>\n",
       "      <td>0.101430</td>\n",
       "      <td>1498272000</td>\n",
       "      <td>-0.003011</td>\n",
       "      <td>-0.099473</td>\n",
       "    </tr>\n",
       "    <tr>\n",
       "      <th>2003-01-08</th>\n",
       "      <td>0.107750</td>\n",
       "      <td>0.110917</td>\n",
       "      <td>0.098833</td>\n",
       "      <td>0.099583</td>\n",
       "      <td>0.091340</td>\n",
       "      <td>1852524000</td>\n",
       "      <td>-0.099473</td>\n",
       "      <td>0.017573</td>\n",
       "    </tr>\n",
       "    <tr>\n",
       "      <th>...</th>\n",
       "      <td>...</td>\n",
       "      <td>...</td>\n",
       "      <td>...</td>\n",
       "      <td>...</td>\n",
       "      <td>...</td>\n",
       "      <td>...</td>\n",
       "      <td>...</td>\n",
       "      <td>...</td>\n",
       "    </tr>\n",
       "    <tr>\n",
       "      <th>2022-12-23</th>\n",
       "      <td>15.196000</td>\n",
       "      <td>15.339000</td>\n",
       "      <td>14.883000</td>\n",
       "      <td>15.206000</td>\n",
       "      <td>15.197295</td>\n",
       "      <td>349326000</td>\n",
       "      <td>-0.008671</td>\n",
       "      <td>-0.071353</td>\n",
       "    </tr>\n",
       "    <tr>\n",
       "      <th>2022-12-27</th>\n",
       "      <td>15.074000</td>\n",
       "      <td>15.100000</td>\n",
       "      <td>14.056000</td>\n",
       "      <td>14.121000</td>\n",
       "      <td>14.112916</td>\n",
       "      <td>464902000</td>\n",
       "      <td>-0.071353</td>\n",
       "      <td>-0.006019</td>\n",
       "    </tr>\n",
       "    <tr>\n",
       "      <th>2022-12-28</th>\n",
       "      <td>13.927000</td>\n",
       "      <td>14.262000</td>\n",
       "      <td>13.884000</td>\n",
       "      <td>14.036000</td>\n",
       "      <td>14.027966</td>\n",
       "      <td>351066000</td>\n",
       "      <td>-0.006019</td>\n",
       "      <td>0.040396</td>\n",
       "    </tr>\n",
       "    <tr>\n",
       "      <th>2022-12-29</th>\n",
       "      <td>14.402000</td>\n",
       "      <td>14.683000</td>\n",
       "      <td>14.227000</td>\n",
       "      <td>14.603000</td>\n",
       "      <td>14.594641</td>\n",
       "      <td>354923000</td>\n",
       "      <td>0.040396</td>\n",
       "      <td>0.000753</td>\n",
       "    </tr>\n",
       "    <tr>\n",
       "      <th>2022-12-30</th>\n",
       "      <td>14.334000</td>\n",
       "      <td>14.629000</td>\n",
       "      <td>14.233000</td>\n",
       "      <td>14.614000</td>\n",
       "      <td>14.605634</td>\n",
       "      <td>310490000</td>\n",
       "      <td>0.000753</td>\n",
       "      <td>NaN</td>\n",
       "    </tr>\n",
       "  </tbody>\n",
       "</table>\n",
       "<p>5035 rows × 8 columns</p>\n",
       "</div>"
      ],
      "text/plain": [
       "                 Open       High        Low      Close  Adj Close      Volume   \n",
       "Date                                                                            \n",
       "2003-01-02   0.100000   0.103750   0.096583   0.102583   0.094092  1302540000  \\\n",
       "2003-01-03   0.102917   0.106250   0.100833   0.102583   0.094092  1037496000   \n",
       "2003-01-06   0.105083   0.112583   0.105000   0.110917   0.101736  1033428000   \n",
       "2003-01-07   0.113083   0.115667   0.109333   0.110583   0.101430  1498272000   \n",
       "2003-01-08   0.107750   0.110917   0.098833   0.099583   0.091340  1852524000   \n",
       "...               ...        ...        ...        ...        ...         ...   \n",
       "2022-12-23  15.196000  15.339000  14.883000  15.206000  15.197295   349326000   \n",
       "2022-12-27  15.074000  15.100000  14.056000  14.121000  14.112916   464902000   \n",
       "2022-12-28  13.927000  14.262000  13.884000  14.036000  14.027966   351066000   \n",
       "2022-12-29  14.402000  14.683000  14.227000  14.603000  14.594641   354923000   \n",
       "2022-12-30  14.334000  14.629000  14.233000  14.614000  14.605634   310490000   \n",
       "\n",
       "             Log_rtn    Target  \n",
       "Date                            \n",
       "2003-01-02       NaN  0.000000  \n",
       "2003-01-03  0.000000  0.081242  \n",
       "2003-01-06  0.081242 -0.003011  \n",
       "2003-01-07 -0.003011 -0.099473  \n",
       "2003-01-08 -0.099473  0.017573  \n",
       "...              ...       ...  \n",
       "2022-12-23 -0.008671 -0.071353  \n",
       "2022-12-27 -0.071353 -0.006019  \n",
       "2022-12-28 -0.006019  0.040396  \n",
       "2022-12-29  0.040396  0.000753  \n",
       "2022-12-30  0.000753       NaN  \n",
       "\n",
       "[5035 rows x 8 columns]"
      ]
     },
     "execution_count": 4,
     "metadata": {},
     "output_type": "execute_result"
    }
   ],
   "source": [
    "df_nvda"
   ]
  },
  {
   "cell_type": "code",
   "execution_count": 5,
   "id": "9987cf03",
   "metadata": {},
   "outputs": [],
   "source": [
    "df_nvda['rsi'] = ta.rsi(df_nvda['Close'], length=14)\n",
    "df_nvda[['k','d']] = ta.stochrsi(df_nvda['Close'])\n",
    "df_nvda[['macd','macdhist','macdsignal']] = ta.macd(df_nvda['Close'], \n",
    "                                                        fastperiod=12, slowperiod=26, signalperiod=9)\n",
    "df_nvda['adosc'] = ta.adosc(df_nvda['High'], df_nvda['Low'],df_nvda['Close'],\n",
    "                    df_nvda['Volume'],fastperiod=3, slowperiod=10)\n",
    "df_nvda['atr'] = ta.atr(df_nvda['High'], df_nvda['Low'],df_nvda['Close'], timeperiod=14)\n",
    "df_nvda['tr'] = ta.true_range(df_nvda['High'], df_nvda['Low'],df_nvda['Close'])"
   ]
  },
  {
   "cell_type": "code",
   "execution_count": 6,
   "id": "35613d63",
   "metadata": {},
   "outputs": [],
   "source": [
    "df_nvda = df_nvda.dropna()"
   ]
  },
  {
   "cell_type": "code",
   "execution_count": 7,
   "id": "7b1f9d36",
   "metadata": {
    "scrolled": false
   },
   "outputs": [
    {
     "data": {
      "text/html": [
       "<div>\n",
       "<style scoped>\n",
       "    .dataframe tbody tr th:only-of-type {\n",
       "        vertical-align: middle;\n",
       "    }\n",
       "\n",
       "    .dataframe tbody tr th {\n",
       "        vertical-align: top;\n",
       "    }\n",
       "\n",
       "    .dataframe thead th {\n",
       "        text-align: right;\n",
       "    }\n",
       "</style>\n",
       "<table border=\"1\" class=\"dataframe\">\n",
       "  <thead>\n",
       "    <tr style=\"text-align: right;\">\n",
       "      <th></th>\n",
       "      <th>Open</th>\n",
       "      <th>High</th>\n",
       "      <th>Low</th>\n",
       "      <th>Close</th>\n",
       "      <th>Adj Close</th>\n",
       "      <th>Volume</th>\n",
       "      <th>Log_rtn</th>\n",
       "      <th>Target</th>\n",
       "      <th>rsi</th>\n",
       "      <th>k</th>\n",
       "      <th>d</th>\n",
       "      <th>macd</th>\n",
       "      <th>macdhist</th>\n",
       "      <th>macdsignal</th>\n",
       "      <th>adosc</th>\n",
       "      <th>atr</th>\n",
       "      <th>tr</th>\n",
       "    </tr>\n",
       "    <tr>\n",
       "      <th>Date</th>\n",
       "      <th></th>\n",
       "      <th></th>\n",
       "      <th></th>\n",
       "      <th></th>\n",
       "      <th></th>\n",
       "      <th></th>\n",
       "      <th></th>\n",
       "      <th></th>\n",
       "      <th></th>\n",
       "      <th></th>\n",
       "      <th></th>\n",
       "      <th></th>\n",
       "      <th></th>\n",
       "      <th></th>\n",
       "      <th></th>\n",
       "      <th></th>\n",
       "      <th></th>\n",
       "    </tr>\n",
       "  </thead>\n",
       "  <tbody>\n",
       "    <tr>\n",
       "      <th>2003-02-20</th>\n",
       "      <td>0.107500</td>\n",
       "      <td>0.110333</td>\n",
       "      <td>0.106667</td>\n",
       "      <td>0.107083</td>\n",
       "      <td>0.098219</td>\n",
       "      <td>978132000</td>\n",
       "      <td>0.000000</td>\n",
       "      <td>0.000784</td>\n",
       "      <td>66.586115</td>\n",
       "      <td>1.000000e+02</td>\n",
       "      <td>97.448754</td>\n",
       "      <td>0.000236</td>\n",
       "      <td>0.005019</td>\n",
       "      <td>-0.004783</td>\n",
       "      <td>1.262528e+09</td>\n",
       "      <td>0.006064</td>\n",
       "      <td>0.003666</td>\n",
       "    </tr>\n",
       "    <tr>\n",
       "      <th>2003-02-21</th>\n",
       "      <td>0.107000</td>\n",
       "      <td>0.107417</td>\n",
       "      <td>0.103333</td>\n",
       "      <td>0.107167</td>\n",
       "      <td>0.098296</td>\n",
       "      <td>913260000</td>\n",
       "      <td>0.000784</td>\n",
       "      <td>0.012439</td>\n",
       "      <td>66.655213</td>\n",
       "      <td>1.000000e+02</td>\n",
       "      <td>100.000000</td>\n",
       "      <td>0.001243</td>\n",
       "      <td>0.004821</td>\n",
       "      <td>-0.003578</td>\n",
       "      <td>1.308923e+09</td>\n",
       "      <td>0.005922</td>\n",
       "      <td>0.004084</td>\n",
       "    </tr>\n",
       "    <tr>\n",
       "      <th>2003-02-24</th>\n",
       "      <td>0.106250</td>\n",
       "      <td>0.112417</td>\n",
       "      <td>0.105667</td>\n",
       "      <td>0.108500</td>\n",
       "      <td>0.099519</td>\n",
       "      <td>1137012000</td>\n",
       "      <td>0.012439</td>\n",
       "      <td>-0.006147</td>\n",
       "      <td>67.793435</td>\n",
       "      <td>1.000000e+02</td>\n",
       "      <td>100.000000</td>\n",
       "      <td>0.002125</td>\n",
       "      <td>0.004562</td>\n",
       "      <td>-0.002437</td>\n",
       "      <td>1.150811e+09</td>\n",
       "      <td>0.005982</td>\n",
       "      <td>0.006750</td>\n",
       "    </tr>\n",
       "    <tr>\n",
       "      <th>2003-02-25</th>\n",
       "      <td>0.105000</td>\n",
       "      <td>0.108333</td>\n",
       "      <td>0.103333</td>\n",
       "      <td>0.107833</td>\n",
       "      <td>0.098907</td>\n",
       "      <td>1239204000</td>\n",
       "      <td>-0.006147</td>\n",
       "      <td>-0.048686</td>\n",
       "      <td>66.568958</td>\n",
       "      <td>9.878567e+01</td>\n",
       "      <td>99.595224</td>\n",
       "      <td>0.002737</td>\n",
       "      <td>0.004140</td>\n",
       "      <td>-0.001402</td>\n",
       "      <td>1.296943e+09</td>\n",
       "      <td>0.005923</td>\n",
       "      <td>0.005167</td>\n",
       "    </tr>\n",
       "    <tr>\n",
       "      <th>2003-02-26</th>\n",
       "      <td>0.106417</td>\n",
       "      <td>0.108167</td>\n",
       "      <td>0.102333</td>\n",
       "      <td>0.102583</td>\n",
       "      <td>0.094092</td>\n",
       "      <td>746892000</td>\n",
       "      <td>-0.048686</td>\n",
       "      <td>0.021124</td>\n",
       "      <td>57.730306</td>\n",
       "      <td>8.880596e+01</td>\n",
       "      <td>95.863877</td>\n",
       "      <td>0.002768</td>\n",
       "      <td>0.003336</td>\n",
       "      <td>-0.000568</td>\n",
       "      <td>1.021541e+09</td>\n",
       "      <td>0.005917</td>\n",
       "      <td>0.005834</td>\n",
       "    </tr>\n",
       "    <tr>\n",
       "      <th>...</th>\n",
       "      <td>...</td>\n",
       "      <td>...</td>\n",
       "      <td>...</td>\n",
       "      <td>...</td>\n",
       "      <td>...</td>\n",
       "      <td>...</td>\n",
       "      <td>...</td>\n",
       "      <td>...</td>\n",
       "      <td>...</td>\n",
       "      <td>...</td>\n",
       "      <td>...</td>\n",
       "      <td>...</td>\n",
       "      <td>...</td>\n",
       "      <td>...</td>\n",
       "      <td>...</td>\n",
       "      <td>...</td>\n",
       "      <td>...</td>\n",
       "    </tr>\n",
       "    <tr>\n",
       "      <th>2022-12-22</th>\n",
       "      <td>16.094000</td>\n",
       "      <td>16.138000</td>\n",
       "      <td>14.882000</td>\n",
       "      <td>15.339000</td>\n",
       "      <td>15.330219</td>\n",
       "      <td>565045000</td>\n",
       "      <td>-0.070420</td>\n",
       "      <td>-0.008671</td>\n",
       "      <td>43.401160</td>\n",
       "      <td>6.355944e+00</td>\n",
       "      <td>4.237296</td>\n",
       "      <td>0.257200</td>\n",
       "      <td>-0.258452</td>\n",
       "      <td>0.515653</td>\n",
       "      <td>-1.246632e+08</td>\n",
       "      <td>0.785993</td>\n",
       "      <td>1.618999</td>\n",
       "    </tr>\n",
       "    <tr>\n",
       "      <th>2022-12-23</th>\n",
       "      <td>15.196000</td>\n",
       "      <td>15.339000</td>\n",
       "      <td>14.883000</td>\n",
       "      <td>15.206000</td>\n",
       "      <td>15.197295</td>\n",
       "      <td>349326000</td>\n",
       "      <td>-0.008671</td>\n",
       "      <td>-0.071353</td>\n",
       "      <td>42.506114</td>\n",
       "      <td>6.355944e+00</td>\n",
       "      <td>6.355944</td>\n",
       "      <td>0.138132</td>\n",
       "      <td>-0.302017</td>\n",
       "      <td>0.440148</td>\n",
       "      <td>-7.345105e+07</td>\n",
       "      <td>0.762422</td>\n",
       "      <td>0.455999</td>\n",
       "    </tr>\n",
       "    <tr>\n",
       "      <th>2022-12-27</th>\n",
       "      <td>15.074000</td>\n",
       "      <td>15.100000</td>\n",
       "      <td>14.056000</td>\n",
       "      <td>14.121000</td>\n",
       "      <td>14.112916</td>\n",
       "      <td>464902000</td>\n",
       "      <td>-0.071353</td>\n",
       "      <td>-0.006019</td>\n",
       "      <td>35.986160</td>\n",
       "      <td>-1.302662e-14</td>\n",
       "      <td>4.237296</td>\n",
       "      <td>-0.043282</td>\n",
       "      <td>-0.386744</td>\n",
       "      <td>0.343462</td>\n",
       "      <td>-1.753269e+08</td>\n",
       "      <td>0.790107</td>\n",
       "      <td>1.150001</td>\n",
       "    </tr>\n",
       "    <tr>\n",
       "      <th>2022-12-28</th>\n",
       "      <td>13.927000</td>\n",
       "      <td>14.262000</td>\n",
       "      <td>13.884000</td>\n",
       "      <td>14.036000</td>\n",
       "      <td>14.027966</td>\n",
       "      <td>351066000</td>\n",
       "      <td>-0.006019</td>\n",
       "      <td>0.040396</td>\n",
       "      <td>35.526414</td>\n",
       "      <td>-1.302662e-14</td>\n",
       "      <td>2.118648</td>\n",
       "      <td>-0.191703</td>\n",
       "      <td>-0.428132</td>\n",
       "      <td>0.236429</td>\n",
       "      <td>-2.229321e+08</td>\n",
       "      <td>0.760670</td>\n",
       "      <td>0.378000</td>\n",
       "    </tr>\n",
       "    <tr>\n",
       "      <th>2022-12-29</th>\n",
       "      <td>14.402000</td>\n",
       "      <td>14.683000</td>\n",
       "      <td>14.227000</td>\n",
       "      <td>14.603000</td>\n",
       "      <td>14.594641</td>\n",
       "      <td>354923000</td>\n",
       "      <td>0.040396</td>\n",
       "      <td>0.000753</td>\n",
       "      <td>40.946164</td>\n",
       "      <td>5.700969e+00</td>\n",
       "      <td>1.900323</td>\n",
       "      <td>-0.260572</td>\n",
       "      <td>-0.397601</td>\n",
       "      <td>0.137029</td>\n",
       "      <td>-1.488350e+08</td>\n",
       "      <td>0.752551</td>\n",
       "      <td>0.646999</td>\n",
       "    </tr>\n",
       "  </tbody>\n",
       "</table>\n",
       "<p>5001 rows × 17 columns</p>\n",
       "</div>"
      ],
      "text/plain": [
       "                 Open       High        Low      Close  Adj Close      Volume   \n",
       "Date                                                                            \n",
       "2003-02-20   0.107500   0.110333   0.106667   0.107083   0.098219   978132000  \\\n",
       "2003-02-21   0.107000   0.107417   0.103333   0.107167   0.098296   913260000   \n",
       "2003-02-24   0.106250   0.112417   0.105667   0.108500   0.099519  1137012000   \n",
       "2003-02-25   0.105000   0.108333   0.103333   0.107833   0.098907  1239204000   \n",
       "2003-02-26   0.106417   0.108167   0.102333   0.102583   0.094092   746892000   \n",
       "...               ...        ...        ...        ...        ...         ...   \n",
       "2022-12-22  16.094000  16.138000  14.882000  15.339000  15.330219   565045000   \n",
       "2022-12-23  15.196000  15.339000  14.883000  15.206000  15.197295   349326000   \n",
       "2022-12-27  15.074000  15.100000  14.056000  14.121000  14.112916   464902000   \n",
       "2022-12-28  13.927000  14.262000  13.884000  14.036000  14.027966   351066000   \n",
       "2022-12-29  14.402000  14.683000  14.227000  14.603000  14.594641   354923000   \n",
       "\n",
       "             Log_rtn    Target        rsi             k           d      macd   \n",
       "Date                                                                            \n",
       "2003-02-20  0.000000  0.000784  66.586115  1.000000e+02   97.448754  0.000236  \\\n",
       "2003-02-21  0.000784  0.012439  66.655213  1.000000e+02  100.000000  0.001243   \n",
       "2003-02-24  0.012439 -0.006147  67.793435  1.000000e+02  100.000000  0.002125   \n",
       "2003-02-25 -0.006147 -0.048686  66.568958  9.878567e+01   99.595224  0.002737   \n",
       "2003-02-26 -0.048686  0.021124  57.730306  8.880596e+01   95.863877  0.002768   \n",
       "...              ...       ...        ...           ...         ...       ...   \n",
       "2022-12-22 -0.070420 -0.008671  43.401160  6.355944e+00    4.237296  0.257200   \n",
       "2022-12-23 -0.008671 -0.071353  42.506114  6.355944e+00    6.355944  0.138132   \n",
       "2022-12-27 -0.071353 -0.006019  35.986160 -1.302662e-14    4.237296 -0.043282   \n",
       "2022-12-28 -0.006019  0.040396  35.526414 -1.302662e-14    2.118648 -0.191703   \n",
       "2022-12-29  0.040396  0.000753  40.946164  5.700969e+00    1.900323 -0.260572   \n",
       "\n",
       "            macdhist  macdsignal         adosc       atr        tr  \n",
       "Date                                                                \n",
       "2003-02-20  0.005019   -0.004783  1.262528e+09  0.006064  0.003666  \n",
       "2003-02-21  0.004821   -0.003578  1.308923e+09  0.005922  0.004084  \n",
       "2003-02-24  0.004562   -0.002437  1.150811e+09  0.005982  0.006750  \n",
       "2003-02-25  0.004140   -0.001402  1.296943e+09  0.005923  0.005167  \n",
       "2003-02-26  0.003336   -0.000568  1.021541e+09  0.005917  0.005834  \n",
       "...              ...         ...           ...       ...       ...  \n",
       "2022-12-22 -0.258452    0.515653 -1.246632e+08  0.785993  1.618999  \n",
       "2022-12-23 -0.302017    0.440148 -7.345105e+07  0.762422  0.455999  \n",
       "2022-12-27 -0.386744    0.343462 -1.753269e+08  0.790107  1.150001  \n",
       "2022-12-28 -0.428132    0.236429 -2.229321e+08  0.760670  0.378000  \n",
       "2022-12-29 -0.397601    0.137029 -1.488350e+08  0.752551  0.646999  \n",
       "\n",
       "[5001 rows x 17 columns]"
      ]
     },
     "execution_count": 7,
     "metadata": {},
     "output_type": "execute_result"
    }
   ],
   "source": [
    "df_nvda"
   ]
  },
  {
   "cell_type": "markdown",
   "id": "374e33fe",
   "metadata": {},
   "source": [
    "## Define how signal raise"
   ]
  },
  {
   "cell_type": "code",
   "execution_count": 8,
   "id": "fd2b9a25",
   "metadata": {},
   "outputs": [],
   "source": [
    "# RSI 30 oversold, 70 overbought\n",
    "df_nvda.loc[df_nvda.index, ['rsi_signal']] = np.where(df_nvda['rsi']<30, 1, \n",
    "                                np.where(df_nvda['rsi']>70, -1, 0)).tolist()"
   ]
  },
  {
   "cell_type": "code",
   "execution_count": 9,
   "id": "704e28da",
   "metadata": {},
   "outputs": [],
   "source": [
    "# STOCHASTIC k & d below 20, and k > d, buy for oversold\n",
    "df_nvda.loc[df_nvda.index, ['stoch_signal']] = np.where(\n",
    "    (df_nvda['k']<20)&(df_nvda['d']<20)&(df_nvda['k']>df_nvda['d']), 1, \n",
    "        np.where((df_nvda['k']>80)&(df_nvda['d']>80)&(df_nvda['k']<df_nvda['d']),-1,0)).tolist()"
   ]
  },
  {
   "cell_type": "code",
   "execution_count": 10,
   "id": "20f438ad",
   "metadata": {},
   "outputs": [],
   "source": [
    "# MACD-histogram > 0, buy signal\n",
    "df_nvda.loc[df_nvda.index, ['macd_signal']] = np.where(df_nvda['macdhist']>0, 1,\n",
    "                                        np.where(df_nvda['macdhist']<0, -1, 0)).tolist()"
   ]
  },
  {
   "cell_type": "code",
   "execution_count": 11,
   "id": "7f3e0e56",
   "metadata": {},
   "outputs": [],
   "source": [
    "# ADOSC: 0 is threshold line, from <0 to >0, buy signal\n",
    "df_nvda.loc[df_nvda.index, ['adosc_signal']] = np.where(\n",
    "            (df_nvda['adosc'].shift(1)<0) & (df_nvda['adosc']>0), 1,\n",
    "                np.where((df_nvda['adosc'].shift(1)>0) & (df_nvda['adosc']<0), -1, 0)).tolist()"
   ]
  },
  {
   "cell_type": "code",
   "execution_count": 12,
   "id": "3d78030a",
   "metadata": {},
   "outputs": [],
   "source": [
    "# if current close higher than average range, buy signal\n",
    "df_nvda.loc[df_nvda.index, ['atr_signal']] = np.where(df_nvda['tr']>df_nvda['atr'], 1,\n",
    "                                                np.where(df_nvda['tr']<df_nvda['atr'], -1, 0)).tolist()"
   ]
  },
  {
   "cell_type": "markdown",
   "id": "9de99d4a",
   "metadata": {},
   "source": [
    "## Create features and label"
   ]
  },
  {
   "cell_type": "code",
   "execution_count": 13,
   "id": "2953c035",
   "metadata": {},
   "outputs": [],
   "source": [
    "feats = df_nvda[['rsi_signal','stoch_signal','macd_signal',\n",
    "                      'adosc_signal','atr_signal','Log_rtn','Target']].copy()"
   ]
  },
  {
   "cell_type": "code",
   "execution_count": 14,
   "id": "520fa9ad",
   "metadata": {},
   "outputs": [
    {
     "data": {
      "text/html": [
       "<div>\n",
       "<style scoped>\n",
       "    .dataframe tbody tr th:only-of-type {\n",
       "        vertical-align: middle;\n",
       "    }\n",
       "\n",
       "    .dataframe tbody tr th {\n",
       "        vertical-align: top;\n",
       "    }\n",
       "\n",
       "    .dataframe thead th {\n",
       "        text-align: right;\n",
       "    }\n",
       "</style>\n",
       "<table border=\"1\" class=\"dataframe\">\n",
       "  <thead>\n",
       "    <tr style=\"text-align: right;\">\n",
       "      <th></th>\n",
       "      <th>rsi_signal</th>\n",
       "      <th>stoch_signal</th>\n",
       "      <th>macd_signal</th>\n",
       "      <th>adosc_signal</th>\n",
       "      <th>atr_signal</th>\n",
       "      <th>Log_rtn</th>\n",
       "      <th>Target</th>\n",
       "    </tr>\n",
       "    <tr>\n",
       "      <th>Date</th>\n",
       "      <th></th>\n",
       "      <th></th>\n",
       "      <th></th>\n",
       "      <th></th>\n",
       "      <th></th>\n",
       "      <th></th>\n",
       "      <th></th>\n",
       "    </tr>\n",
       "  </thead>\n",
       "  <tbody>\n",
       "    <tr>\n",
       "      <th>2021-03-09</th>\n",
       "      <td>0.0</td>\n",
       "      <td>1.0</td>\n",
       "      <td>-1.0</td>\n",
       "      <td>0.0</td>\n",
       "      <td>1.0</td>\n",
       "      <td>0.079960</td>\n",
       "      <td>-0.004153</td>\n",
       "    </tr>\n",
       "    <tr>\n",
       "      <th>2014-05-07</th>\n",
       "      <td>0.0</td>\n",
       "      <td>0.0</td>\n",
       "      <td>-1.0</td>\n",
       "      <td>0.0</td>\n",
       "      <td>-1.0</td>\n",
       "      <td>0.001096</td>\n",
       "      <td>0.012589</td>\n",
       "    </tr>\n",
       "    <tr>\n",
       "      <th>2005-11-03</th>\n",
       "      <td>0.0</td>\n",
       "      <td>0.0</td>\n",
       "      <td>1.0</td>\n",
       "      <td>0.0</td>\n",
       "      <td>1.0</td>\n",
       "      <td>-0.011695</td>\n",
       "      <td>-0.017029</td>\n",
       "    </tr>\n",
       "  </tbody>\n",
       "</table>\n",
       "</div>"
      ],
      "text/plain": [
       "            rsi_signal  stoch_signal  macd_signal  adosc_signal  atr_signal   \n",
       "Date                                                                          \n",
       "2021-03-09         0.0           1.0         -1.0           0.0         1.0  \\\n",
       "2014-05-07         0.0           0.0         -1.0           0.0        -1.0   \n",
       "2005-11-03         0.0           0.0          1.0           0.0         1.0   \n",
       "\n",
       "             Log_rtn    Target  \n",
       "Date                            \n",
       "2021-03-09  0.079960 -0.004153  \n",
       "2014-05-07  0.001096  0.012589  \n",
       "2005-11-03 -0.011695 -0.017029  "
      ]
     },
     "execution_count": 14,
     "metadata": {},
     "output_type": "execute_result"
    }
   ],
   "source": [
    "feats.sample(3)"
   ]
  },
  {
   "cell_type": "code",
   "execution_count": 15,
   "id": "646145eb",
   "metadata": {},
   "outputs": [
    {
     "data": {
      "text/plain": [
       "78"
      ]
     },
     "execution_count": 15,
     "metadata": {},
     "output_type": "execute_result"
    }
   ],
   "source": [
    "# correctly predicted buy\n",
    "feats['Target'].loc[(feats['rsi_signal']==1)&(feats['Target']>0)].count()"
   ]
  },
  {
   "cell_type": "code",
   "execution_count": 16,
   "id": "a44e0c33",
   "metadata": {},
   "outputs": [
    {
     "data": {
      "text/plain": [
       "0.03375589607398304"
      ]
     },
     "execution_count": 16,
     "metadata": {},
     "output_type": "execute_result"
    }
   ],
   "source": [
    "# mean of correct predict buy log_return\n",
    "feats['Target'].loc[(feats['rsi_signal']==1)&(feats['Target']>0)].mean()"
   ]
  },
  {
   "cell_type": "code",
   "execution_count": 17,
   "id": "f3562512",
   "metadata": {},
   "outputs": [
    {
     "data": {
      "text/plain": [
       "77"
      ]
     },
     "execution_count": 17,
     "metadata": {},
     "output_type": "execute_result"
    }
   ],
   "source": [
    "# incorrectly predicted buy\n",
    "feats['Target'].loc[(feats['rsi_signal']==1)&(feats['Target']<0)].count()"
   ]
  },
  {
   "cell_type": "code",
   "execution_count": 18,
   "id": "bf0283c8",
   "metadata": {},
   "outputs": [
    {
     "data": {
      "text/plain": [
       "-0.02939396313899889"
      ]
     },
     "execution_count": 18,
     "metadata": {},
     "output_type": "execute_result"
    }
   ],
   "source": [
    "# mean of incorrect predict buy log_return\n",
    "feats['Target'].loc[(feats['rsi_signal']==1)&(feats['Target']<0)].mean()"
   ]
  },
  {
   "cell_type": "code",
   "execution_count": 19,
   "id": "8c6f5ed5",
   "metadata": {},
   "outputs": [
    {
     "data": {
      "text/plain": [
       "262"
      ]
     },
     "execution_count": 19,
     "metadata": {},
     "output_type": "execute_result"
    }
   ],
   "source": [
    "# correctly predicted sell\n",
    "feats['Target'].loc[(feats['rsi_signal']==-1)&(feats['Target']<0)].count()"
   ]
  },
  {
   "cell_type": "code",
   "execution_count": 20,
   "id": "8c1f79f2",
   "metadata": {},
   "outputs": [
    {
     "data": {
      "text/plain": [
       "-0.015680214684159133"
      ]
     },
     "execution_count": 20,
     "metadata": {},
     "output_type": "execute_result"
    }
   ],
   "source": [
    "# mean of correct predict sell log_return\n",
    "feats['Target'].loc[(feats['rsi_signal']==-1)&(feats['Target']<0)].mean()"
   ]
  },
  {
   "cell_type": "code",
   "execution_count": 21,
   "id": "ec6d259b",
   "metadata": {},
   "outputs": [
    {
     "data": {
      "text/plain": [
       "285"
      ]
     },
     "execution_count": 21,
     "metadata": {},
     "output_type": "execute_result"
    }
   ],
   "source": [
    "# incorrectly predicted sell\n",
    "feats['Target'].loc[(feats['rsi_signal']==-1)&(feats['Target']>0)].count()"
   ]
  },
  {
   "cell_type": "code",
   "execution_count": 22,
   "id": "3f0f57db",
   "metadata": {},
   "outputs": [
    {
     "data": {
      "text/plain": [
       "0.018688513521895437"
      ]
     },
     "execution_count": 22,
     "metadata": {},
     "output_type": "execute_result"
    }
   ],
   "source": [
    "# mean of incorrect predict sell log_return\n",
    "feats['Target'].loc[(feats['rsi_signal']==-1)&(feats['Target']>0)].mean()"
   ]
  },
  {
   "cell_type": "code",
   "execution_count": 23,
   "id": "57470034",
   "metadata": {},
   "outputs": [],
   "source": [
    "def indicator_result(indicator, feats):\n",
    "    buy_correct_time = feats['Target'].loc[(feats[indicator]==1)&(feats['Target']>0)].count()\n",
    "    buy_correct_mean = feats['Target'].loc[(feats[indicator]==1)&(feats['Target']>0)].mean()\n",
    "    buy_incorrect_time = feats['Target'].loc[(feats[indicator]==1)&(feats['Target']<0)].count()\n",
    "    buy_incorrect_mean = feats['Target'].loc[(feats[indicator]==1)&(feats['Target']<0)].mean()\n",
    "    buy_correct_ratio = buy_correct_time / (buy_correct_time + buy_incorrect_time)\n",
    "    \n",
    "    sell_correct_time = feats['Target'].loc[(feats[indicator]==-1)&(feats['Target']<0)].count()\n",
    "    sell_correct_mean = feats['Target'].loc[(feats[indicator]==-1)&(feats['Target']<0)].mean()\n",
    "    sell_incorrect_time = feats['Target'].loc[(feats[indicator]==-1)&(feats['Target']>0)].count()\n",
    "    sell_incorrect_mean = feats['Target'].loc[(feats[indicator]==-1)&(feats['Target']>0)].mean()\n",
    "    sell_correct_ratio = sell_correct_time / (sell_correct_time + sell_incorrect_time)\n",
    "    return [ indicator, f\"buy_correct_ratio: {buy_correct_ratio:.4f}\", \n",
    "                        f\"buy_correct_mean: {buy_correct_mean*100:.4f}%\", \n",
    "                        f\"sell_correct_ratio: {sell_correct_ratio:.4f}\", \n",
    "                        f\"sell_correct_mean: {sell_correct_mean*100:.4f}%\"]"
   ]
  },
  {
   "cell_type": "code",
   "execution_count": 24,
   "id": "2a6e2c4d",
   "metadata": {},
   "outputs": [
    {
     "data": {
      "text/plain": [
       "['rsi_signal',\n",
       " 'buy_correct_ratio: 0.5032',\n",
       " 'buy_correct_mean: 3.3756%',\n",
       " 'sell_correct_ratio: 0.4790',\n",
       " 'sell_correct_mean: -1.5680%']"
      ]
     },
     "execution_count": 24,
     "metadata": {},
     "output_type": "execute_result"
    }
   ],
   "source": [
    "indicator_result('rsi_signal', feats)"
   ]
  },
  {
   "cell_type": "code",
   "execution_count": 25,
   "id": "24df616c",
   "metadata": {},
   "outputs": [
    {
     "data": {
      "text/plain": [
       "['stoch_signal',\n",
       " 'buy_correct_ratio: 0.5094',\n",
       " 'buy_correct_mean: 2.1895%',\n",
       " 'sell_correct_ratio: 0.4748',\n",
       " 'sell_correct_mean: -2.0151%']"
      ]
     },
     "execution_count": 25,
     "metadata": {},
     "output_type": "execute_result"
    }
   ],
   "source": [
    "indicator_result('stoch_signal', feats)"
   ]
  },
  {
   "cell_type": "code",
   "execution_count": 26,
   "id": "9b983c44",
   "metadata": {},
   "outputs": [
    {
     "data": {
      "text/plain": [
       "['macd_signal',\n",
       " 'buy_correct_ratio: 0.5177',\n",
       " 'buy_correct_mean: 2.2111%',\n",
       " 'sell_correct_ratio: 0.4691',\n",
       " 'sell_correct_mean: -2.2187%']"
      ]
     },
     "execution_count": 26,
     "metadata": {},
     "output_type": "execute_result"
    }
   ],
   "source": [
    "indicator_result('macd_signal', feats)"
   ]
  },
  {
   "cell_type": "code",
   "execution_count": 27,
   "id": "55ae8535",
   "metadata": {},
   "outputs": [
    {
     "data": {
      "text/plain": [
       "['adosc_signal',\n",
       " 'buy_correct_ratio: 0.5451',\n",
       " 'buy_correct_mean: 1.8422%',\n",
       " 'sell_correct_ratio: 0.4721',\n",
       " 'sell_correct_mean: -2.4982%']"
      ]
     },
     "execution_count": 27,
     "metadata": {},
     "output_type": "execute_result"
    }
   ],
   "source": [
    "indicator_result('adosc_signal', feats)"
   ]
  },
  {
   "cell_type": "code",
   "execution_count": 28,
   "id": "7d5179f5",
   "metadata": {},
   "outputs": [
    {
     "data": {
      "text/plain": [
       "['atr_signal',\n",
       " 'buy_correct_ratio: 0.5165',\n",
       " 'buy_correct_mean: 2.2973%',\n",
       " 'sell_correct_ratio: 0.4709',\n",
       " 'sell_correct_mean: -2.0649%']"
      ]
     },
     "execution_count": 28,
     "metadata": {},
     "output_type": "execute_result"
    }
   ],
   "source": [
    "indicator_result('atr_signal', feats)"
   ]
  },
  {
   "cell_type": "markdown",
   "id": "23481cf3",
   "metadata": {},
   "source": [
    "## Comprehensive analyse"
   ]
  },
  {
   "cell_type": "code",
   "execution_count": 35,
   "id": "458375c4",
   "metadata": {},
   "outputs": [],
   "source": [
    "# We perform buy if triggered by only 1 indicator, we may have 756 correct, and 690 wrong\n",
    "feats['Comp_signal'] = np.where((np.where(feats['rsi_signal']==1,1,0) +\n",
    "            np.where(feats['stoch_signal']==1,1,0)+\n",
    "            np.where(feats['macd_signal']==1,1,0)+\n",
    "            np.where(feats['adosc_signal']==1,1,0)+\n",
    "            np.where(feats['atr_signal']==1,1,0)\n",
    "         )>1 , 1, 0 )"
   ]
  },
  {
   "cell_type": "code",
   "execution_count": 30,
   "id": "facaa6ab",
   "metadata": {},
   "outputs": [
    {
     "data": {
      "text/plain": [
       "756"
      ]
     },
     "execution_count": 30,
     "metadata": {},
     "output_type": "execute_result"
    }
   ],
   "source": [
    "feats['Target'].loc[(feats['Comp_signal']==1) & (feats['Target']>0)].count()"
   ]
  },
  {
   "cell_type": "code",
   "execution_count": 31,
   "id": "d5d438c7",
   "metadata": {},
   "outputs": [
    {
     "data": {
      "text/plain": [
       "690"
      ]
     },
     "execution_count": 31,
     "metadata": {},
     "output_type": "execute_result"
    }
   ],
   "source": [
    "feats['Target'].loc[(feats['Comp_signal']==1) & (feats['Target']<0)].count()"
   ]
  },
  {
   "cell_type": "code",
   "execution_count": 32,
   "id": "ff292bc2",
   "metadata": {},
   "outputs": [],
   "source": [
    "# We perform buy if triggered by at least 2 indicator, we may have 48 correct, and 45 wrong.\n",
    "feats['Comp_signal'] = np.where((np.where(feats['rsi_signal']==1,1,0) +\n",
    "            np.where(feats['stoch_signal']==1,1,0)+\n",
    "            np.where(feats['macd_signal']==1,1,0)+\n",
    "            np.where(feats['adosc_signal']==1,1,0)+\n",
    "            np.where(feats['atr_signal']==1,1,0)\n",
    "         )>2 , 1, 0 )"
   ]
  },
  {
   "cell_type": "code",
   "execution_count": 33,
   "id": "2f162368",
   "metadata": {},
   "outputs": [
    {
     "data": {
      "text/plain": [
       "48"
      ]
     },
     "execution_count": 33,
     "metadata": {},
     "output_type": "execute_result"
    }
   ],
   "source": [
    "feats['Target'].loc[(feats['Comp_signal']==1) & (feats['Target']>0)].count()"
   ]
  },
  {
   "cell_type": "code",
   "execution_count": 34,
   "id": "a1aaa9a9",
   "metadata": {},
   "outputs": [
    {
     "data": {
      "text/plain": [
       "45"
      ]
     },
     "execution_count": 34,
     "metadata": {},
     "output_type": "execute_result"
    }
   ],
   "source": [
    "feats['Target'].loc[(feats['Comp_signal']==1) & (feats['Target']<0)].count()"
   ]
  },
  {
   "cell_type": "code",
   "execution_count": null,
   "id": "519b8cf5",
   "metadata": {},
   "outputs": [],
   "source": []
  }
 ],
 "metadata": {
  "kernelspec": {
   "display_name": "Python 3 (ipykernel)",
   "language": "python",
   "name": "python3"
  },
  "language_info": {
   "codemirror_mode": {
    "name": "ipython",
    "version": 3
   },
   "file_extension": ".py",
   "mimetype": "text/x-python",
   "name": "python",
   "nbconvert_exporter": "python",
   "pygments_lexer": "ipython3",
   "version": "3.9.13"
  }
 },
 "nbformat": 4,
 "nbformat_minor": 5
}
