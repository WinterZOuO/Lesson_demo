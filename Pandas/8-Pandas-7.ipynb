{
 "cells": [
  {
   "cell_type": "markdown",
   "id": "0b04b68a",
   "metadata": {},
   "source": [
    "# Pandas Review"
   ]
  },
  {
   "cell_type": "code",
   "execution_count": 1,
   "id": "c55d14bf",
   "metadata": {},
   "outputs": [],
   "source": [
    "import numpy as np\n",
    "import pandas as pd"
   ]
  },
  {
   "cell_type": "markdown",
   "id": "e9fec620",
   "metadata": {},
   "source": [
    "## 1. Create new columns from existing columns in Pandas"
   ]
  },
  {
   "cell_type": "code",
   "execution_count": 2,
   "id": "59125145",
   "metadata": {},
   "outputs": [
    {
     "data": {
      "text/html": [
       "<div>\n",
       "<style scoped>\n",
       "    .dataframe tbody tr th:only-of-type {\n",
       "        vertical-align: middle;\n",
       "    }\n",
       "\n",
       "    .dataframe tbody tr th {\n",
       "        vertical-align: top;\n",
       "    }\n",
       "\n",
       "    .dataframe thead th {\n",
       "        text-align: right;\n",
       "    }\n",
       "</style>\n",
       "<table border=\"1\" class=\"dataframe\">\n",
       "  <thead>\n",
       "    <tr style=\"text-align: right;\">\n",
       "      <th></th>\n",
       "      <th>A</th>\n",
       "      <th>B</th>\n",
       "      <th>C</th>\n",
       "    </tr>\n",
       "  </thead>\n",
       "  <tbody>\n",
       "    <tr>\n",
       "      <th>0</th>\n",
       "      <td>420</td>\n",
       "      <td>50</td>\n",
       "      <td>21000</td>\n",
       "    </tr>\n",
       "    <tr>\n",
       "      <th>1</th>\n",
       "      <td>380</td>\n",
       "      <td>40</td>\n",
       "      <td>15200</td>\n",
       "    </tr>\n",
       "    <tr>\n",
       "      <th>2</th>\n",
       "      <td>390</td>\n",
       "      <td>45</td>\n",
       "      <td>17550</td>\n",
       "    </tr>\n",
       "  </tbody>\n",
       "</table>\n",
       "</div>"
      ],
      "text/plain": [
       "     A   B      C\n",
       "0  420  50  21000\n",
       "1  380  40  15200\n",
       "2  390  45  17550"
      ]
     },
     "execution_count": 2,
     "metadata": {},
     "output_type": "execute_result"
    }
   ],
   "source": [
    "# Create example data\n",
    "df = pd.DataFrame({\n",
    "  \"A\": [420, 380, 390],\n",
    "  \"B\": [50, 40, 45]\n",
    "})\n",
    "\n",
    "df[\"C\"] = df[\"A\"] * df[\"B\"]\n",
    "df"
   ]
  },
  {
   "cell_type": "markdown",
   "id": "6dd58768",
   "metadata": {},
   "source": [
    "## 2. Create new column with series.apply()"
   ]
  },
  {
   "cell_type": "code",
   "execution_count": 4,
   "id": "76b92a3b",
   "metadata": {},
   "outputs": [
    {
     "data": {
      "text/html": [
       "<div>\n",
       "<style scoped>\n",
       "    .dataframe tbody tr th:only-of-type {\n",
       "        vertical-align: middle;\n",
       "    }\n",
       "\n",
       "    .dataframe tbody tr th {\n",
       "        vertical-align: top;\n",
       "    }\n",
       "\n",
       "    .dataframe thead th {\n",
       "        text-align: right;\n",
       "    }\n",
       "</style>\n",
       "<table border=\"1\" class=\"dataframe\">\n",
       "  <thead>\n",
       "    <tr style=\"text-align: right;\">\n",
       "      <th></th>\n",
       "      <th>A</th>\n",
       "      <th>B</th>\n",
       "      <th>C</th>\n",
       "      <th>D</th>\n",
       "    </tr>\n",
       "  </thead>\n",
       "  <tbody>\n",
       "    <tr>\n",
       "      <th>0</th>\n",
       "      <td>420</td>\n",
       "      <td>50</td>\n",
       "      <td>21000</td>\n",
       "      <td>True</td>\n",
       "    </tr>\n",
       "    <tr>\n",
       "      <th>1</th>\n",
       "      <td>380</td>\n",
       "      <td>40</td>\n",
       "      <td>15200</td>\n",
       "      <td>False</td>\n",
       "    </tr>\n",
       "    <tr>\n",
       "      <th>2</th>\n",
       "      <td>390</td>\n",
       "      <td>45</td>\n",
       "      <td>17550</td>\n",
       "      <td>True</td>\n",
       "    </tr>\n",
       "  </tbody>\n",
       "</table>\n",
       "</div>"
      ],
      "text/plain": [
       "     A   B      C      D\n",
       "0  420  50  21000   True\n",
       "1  380  40  15200  False\n",
       "2  390  45  17550   True"
      ]
     },
     "execution_count": 4,
     "metadata": {},
     "output_type": "execute_result"
    }
   ],
   "source": [
    "df['D'] = df['C'].apply(lambda x: x>=16000)\n",
    "df"
   ]
  },
  {
   "cell_type": "code",
   "execution_count": 5,
   "id": "99b4082e",
   "metadata": {},
   "outputs": [
    {
     "name": "stdout",
     "output_type": "stream",
     "text": [
      "<class 'pandas.core.frame.DataFrame'>\n",
      "RangeIndex: 3 entries, 0 to 2\n",
      "Data columns (total 4 columns):\n",
      " #   Column  Non-Null Count  Dtype\n",
      "---  ------  --------------  -----\n",
      " 0   A       3 non-null      int64\n",
      " 1   B       3 non-null      int64\n",
      " 2   C       3 non-null      int64\n",
      " 3   D       3 non-null      bool \n",
      "dtypes: bool(1), int64(3)\n",
      "memory usage: 203.0 bytes\n"
     ]
    }
   ],
   "source": [
    "df.info()"
   ]
  },
  {
   "cell_type": "markdown",
   "id": "f2fff6c8",
   "metadata": {},
   "source": [
    "## 3. Change Boolean dtype to integer category dtype "
   ]
  },
  {
   "cell_type": "code",
   "execution_count": 8,
   "id": "7e5fceb5",
   "metadata": {},
   "outputs": [
    {
     "name": "stdout",
     "output_type": "stream",
     "text": [
      "<class 'pandas.core.frame.DataFrame'>\n",
      "RangeIndex: 3 entries, 0 to 2\n",
      "Data columns (total 4 columns):\n",
      " #   Column  Non-Null Count  Dtype   \n",
      "---  ------  --------------  -----   \n",
      " 0   A       3 non-null      int64   \n",
      " 1   B       3 non-null      int64   \n",
      " 2   C       3 non-null      int64   \n",
      " 3   D       3 non-null      category\n",
      "dtypes: category(1), int64(3)\n",
      "memory usage: 327.0 bytes\n"
     ]
    }
   ],
   "source": [
    "df['D'] = df['D'].astype(int).astype('category')\n",
    "df.info()"
   ]
  },
  {
   "cell_type": "code",
   "execution_count": 9,
   "id": "99a63f44",
   "metadata": {},
   "outputs": [
    {
     "data": {
      "text/html": [
       "<div>\n",
       "<style scoped>\n",
       "    .dataframe tbody tr th:only-of-type {\n",
       "        vertical-align: middle;\n",
       "    }\n",
       "\n",
       "    .dataframe tbody tr th {\n",
       "        vertical-align: top;\n",
       "    }\n",
       "\n",
       "    .dataframe thead th {\n",
       "        text-align: right;\n",
       "    }\n",
       "</style>\n",
       "<table border=\"1\" class=\"dataframe\">\n",
       "  <thead>\n",
       "    <tr style=\"text-align: right;\">\n",
       "      <th></th>\n",
       "      <th>A</th>\n",
       "      <th>B</th>\n",
       "      <th>C</th>\n",
       "      <th>D</th>\n",
       "    </tr>\n",
       "  </thead>\n",
       "  <tbody>\n",
       "    <tr>\n",
       "      <th>0</th>\n",
       "      <td>420</td>\n",
       "      <td>50</td>\n",
       "      <td>21000</td>\n",
       "      <td>1</td>\n",
       "    </tr>\n",
       "    <tr>\n",
       "      <th>1</th>\n",
       "      <td>380</td>\n",
       "      <td>40</td>\n",
       "      <td>15200</td>\n",
       "      <td>0</td>\n",
       "    </tr>\n",
       "    <tr>\n",
       "      <th>2</th>\n",
       "      <td>390</td>\n",
       "      <td>45</td>\n",
       "      <td>17550</td>\n",
       "      <td>1</td>\n",
       "    </tr>\n",
       "  </tbody>\n",
       "</table>\n",
       "</div>"
      ],
      "text/plain": [
       "     A   B      C  D\n",
       "0  420  50  21000  1\n",
       "1  380  40  15200  0\n",
       "2  390  45  17550  1"
      ]
     },
     "execution_count": 9,
     "metadata": {},
     "output_type": "execute_result"
    }
   ],
   "source": [
    "df"
   ]
  },
  {
   "cell_type": "markdown",
   "id": "f3e6067d",
   "metadata": {},
   "source": [
    "## 4. Get the names of columns and index of a DF"
   ]
  },
  {
   "cell_type": "code",
   "execution_count": 22,
   "id": "e894e0ba",
   "metadata": {},
   "outputs": [
    {
     "data": {
      "text/plain": [
       "Index(['A', 'B', 'C', 'D'], dtype='object')"
      ]
     },
     "execution_count": 22,
     "metadata": {},
     "output_type": "execute_result"
    }
   ],
   "source": [
    "df.columns"
   ]
  },
  {
   "cell_type": "code",
   "execution_count": 19,
   "id": "4d123d03",
   "metadata": {},
   "outputs": [
    {
     "data": {
      "text/plain": [
       "RangeIndex(start=0, stop=3, step=1)"
      ]
     },
     "execution_count": 19,
     "metadata": {},
     "output_type": "execute_result"
    }
   ],
   "source": [
    "df.index"
   ]
  },
  {
   "cell_type": "code",
   "execution_count": 13,
   "id": "7cb789d1",
   "metadata": {},
   "outputs": [
    {
     "data": {
      "text/plain": [
       "array([0, 1, 2])"
      ]
     },
     "execution_count": 13,
     "metadata": {},
     "output_type": "execute_result"
    }
   ],
   "source": [
    "df.index.values"
   ]
  },
  {
   "cell_type": "code",
   "execution_count": 18,
   "id": "4934f668",
   "metadata": {},
   "outputs": [
    {
     "data": {
      "text/plain": [
       "['D', 'C', 'B', 'A']"
      ]
     },
     "execution_count": 18,
     "metadata": {},
     "output_type": "execute_result"
    }
   ],
   "source": [
    "sorted(df.columns, reverse=True)"
   ]
  },
  {
   "cell_type": "markdown",
   "id": "e0f6672e",
   "metadata": {},
   "source": [
    "## 5. iloc() and loc()\n",
    "<pre>DataFrame.iloc is a method used to retrieve data from a Data frame, and it is an integer position-based locator (from 0 to length-1 of the axis)\n",
    "DataFrame.loc gets rows (and/or columns) with particular labels.\n",
    "</pre>"
   ]
  },
  {
   "cell_type": "code",
   "execution_count": 23,
   "id": "2694c640",
   "metadata": {},
   "outputs": [
    {
     "data": {
      "text/html": [
       "<div>\n",
       "<style scoped>\n",
       "    .dataframe tbody tr th:only-of-type {\n",
       "        vertical-align: middle;\n",
       "    }\n",
       "\n",
       "    .dataframe tbody tr th {\n",
       "        vertical-align: top;\n",
       "    }\n",
       "\n",
       "    .dataframe thead th {\n",
       "        text-align: right;\n",
       "    }\n",
       "</style>\n",
       "<table border=\"1\" class=\"dataframe\">\n",
       "  <thead>\n",
       "    <tr style=\"text-align: right;\">\n",
       "      <th></th>\n",
       "      <th>A</th>\n",
       "      <th>B</th>\n",
       "      <th>C</th>\n",
       "      <th>D</th>\n",
       "    </tr>\n",
       "  </thead>\n",
       "  <tbody>\n",
       "    <tr>\n",
       "      <th>0</th>\n",
       "      <td>420</td>\n",
       "      <td>50</td>\n",
       "      <td>21000</td>\n",
       "      <td>1</td>\n",
       "    </tr>\n",
       "    <tr>\n",
       "      <th>1</th>\n",
       "      <td>380</td>\n",
       "      <td>40</td>\n",
       "      <td>15200</td>\n",
       "      <td>0</td>\n",
       "    </tr>\n",
       "    <tr>\n",
       "      <th>2</th>\n",
       "      <td>390</td>\n",
       "      <td>45</td>\n",
       "      <td>17550</td>\n",
       "      <td>1</td>\n",
       "    </tr>\n",
       "  </tbody>\n",
       "</table>\n",
       "</div>"
      ],
      "text/plain": [
       "     A   B      C  D\n",
       "0  420  50  21000  1\n",
       "1  380  40  15200  0\n",
       "2  390  45  17550  1"
      ]
     },
     "execution_count": 23,
     "metadata": {},
     "output_type": "execute_result"
    }
   ],
   "source": [
    "df"
   ]
  },
  {
   "cell_type": "code",
   "execution_count": 30,
   "id": "b0e54caf",
   "metadata": {},
   "outputs": [
    {
     "data": {
      "text/html": [
       "<div>\n",
       "<style scoped>\n",
       "    .dataframe tbody tr th:only-of-type {\n",
       "        vertical-align: middle;\n",
       "    }\n",
       "\n",
       "    .dataframe tbody tr th {\n",
       "        vertical-align: top;\n",
       "    }\n",
       "\n",
       "    .dataframe thead th {\n",
       "        text-align: right;\n",
       "    }\n",
       "</style>\n",
       "<table border=\"1\" class=\"dataframe\">\n",
       "  <thead>\n",
       "    <tr style=\"text-align: right;\">\n",
       "      <th></th>\n",
       "      <th>A</th>\n",
       "      <th>B</th>\n",
       "      <th>C</th>\n",
       "      <th>D</th>\n",
       "    </tr>\n",
       "  </thead>\n",
       "  <tbody>\n",
       "    <tr>\n",
       "      <th>0</th>\n",
       "      <td>420</td>\n",
       "      <td>50</td>\n",
       "      <td>21000</td>\n",
       "      <td>1</td>\n",
       "    </tr>\n",
       "  </tbody>\n",
       "</table>\n",
       "</div>"
      ],
      "text/plain": [
       "     A   B      C  D\n",
       "0  420  50  21000  1"
      ]
     },
     "execution_count": 30,
     "metadata": {},
     "output_type": "execute_result"
    }
   ],
   "source": [
    "df.iloc[[0]] # 0 row DF"
   ]
  },
  {
   "cell_type": "code",
   "execution_count": 28,
   "id": "f0045a48",
   "metadata": {},
   "outputs": [
    {
     "data": {
      "text/plain": [
       "A      420\n",
       "B       50\n",
       "C    21000\n",
       "D        1\n",
       "Name: 0, dtype: int64"
      ]
     },
     "execution_count": 28,
     "metadata": {},
     "output_type": "execute_result"
    }
   ],
   "source": [
    "df.iloc[0]  # 0 row series"
   ]
  },
  {
   "cell_type": "code",
   "execution_count": 35,
   "id": "e2320031",
   "metadata": {},
   "outputs": [
    {
     "data": {
      "text/plain": [
       "0    21000\n",
       "1    15200\n",
       "2    17550\n",
       "Name: C, dtype: int64"
      ]
     },
     "execution_count": 35,
     "metadata": {},
     "output_type": "execute_result"
    }
   ],
   "source": [
    "df.iloc[:, 2] # col index 2 series"
   ]
  },
  {
   "cell_type": "code",
   "execution_count": 37,
   "id": "8c6a387a",
   "metadata": {},
   "outputs": [
    {
     "data": {
      "text/html": [
       "<div>\n",
       "<style scoped>\n",
       "    .dataframe tbody tr th:only-of-type {\n",
       "        vertical-align: middle;\n",
       "    }\n",
       "\n",
       "    .dataframe tbody tr th {\n",
       "        vertical-align: top;\n",
       "    }\n",
       "\n",
       "    .dataframe thead th {\n",
       "        text-align: right;\n",
       "    }\n",
       "</style>\n",
       "<table border=\"1\" class=\"dataframe\">\n",
       "  <thead>\n",
       "    <tr style=\"text-align: right;\">\n",
       "      <th></th>\n",
       "      <th>A</th>\n",
       "      <th>B</th>\n",
       "      <th>C</th>\n",
       "    </tr>\n",
       "  </thead>\n",
       "  <tbody>\n",
       "    <tr>\n",
       "      <th>0</th>\n",
       "      <td>420</td>\n",
       "      <td>50</td>\n",
       "      <td>21000</td>\n",
       "    </tr>\n",
       "    <tr>\n",
       "      <th>1</th>\n",
       "      <td>380</td>\n",
       "      <td>40</td>\n",
       "      <td>15200</td>\n",
       "    </tr>\n",
       "  </tbody>\n",
       "</table>\n",
       "</div>"
      ],
      "text/plain": [
       "     A   B      C\n",
       "0  420  50  21000\n",
       "1  380  40  15200"
      ]
     },
     "execution_count": 37,
     "metadata": {},
     "output_type": "execute_result"
    }
   ],
   "source": [
    "df.iloc[:2, :3] # first 2 rows and first 3 cols"
   ]
  },
  {
   "cell_type": "code",
   "execution_count": 40,
   "id": "c46b84d3",
   "metadata": {},
   "outputs": [
    {
     "data": {
      "text/html": [
       "<div>\n",
       "<style scoped>\n",
       "    .dataframe tbody tr th:only-of-type {\n",
       "        vertical-align: middle;\n",
       "    }\n",
       "\n",
       "    .dataframe tbody tr th {\n",
       "        vertical-align: top;\n",
       "    }\n",
       "\n",
       "    .dataframe thead th {\n",
       "        text-align: right;\n",
       "    }\n",
       "</style>\n",
       "<table border=\"1\" class=\"dataframe\">\n",
       "  <thead>\n",
       "    <tr style=\"text-align: right;\">\n",
       "      <th></th>\n",
       "      <th>A</th>\n",
       "    </tr>\n",
       "  </thead>\n",
       "  <tbody>\n",
       "    <tr>\n",
       "      <th>0</th>\n",
       "      <td>420</td>\n",
       "    </tr>\n",
       "    <tr>\n",
       "      <th>1</th>\n",
       "      <td>380</td>\n",
       "    </tr>\n",
       "    <tr>\n",
       "      <th>2</th>\n",
       "      <td>390</td>\n",
       "    </tr>\n",
       "  </tbody>\n",
       "</table>\n",
       "</div>"
      ],
      "text/plain": [
       "     A\n",
       "0  420\n",
       "1  380\n",
       "2  390"
      ]
     },
     "execution_count": 40,
     "metadata": {},
     "output_type": "execute_result"
    }
   ],
   "source": [
    "df[['A']]  # same as df.iloc[[0]]"
   ]
  },
  {
   "cell_type": "code",
   "execution_count": 41,
   "id": "3dfda5a2",
   "metadata": {},
   "outputs": [
    {
     "data": {
      "text/plain": [
       "0    420\n",
       "1    380\n",
       "2    390\n",
       "Name: A, dtype: int64"
      ]
     },
     "execution_count": 41,
     "metadata": {},
     "output_type": "execute_result"
    }
   ],
   "source": [
    "df['A'] # same as df.iloc[0]"
   ]
  },
  {
   "cell_type": "markdown",
   "id": "4ac2e1a5",
   "metadata": {},
   "source": [
    "## 6. Sort DataFrame"
   ]
  },
  {
   "cell_type": "code",
   "execution_count": 47,
   "id": "1ef54649",
   "metadata": {},
   "outputs": [
    {
     "data": {
      "text/html": [
       "<div>\n",
       "<style scoped>\n",
       "    .dataframe tbody tr th:only-of-type {\n",
       "        vertical-align: middle;\n",
       "    }\n",
       "\n",
       "    .dataframe tbody tr th {\n",
       "        vertical-align: top;\n",
       "    }\n",
       "\n",
       "    .dataframe thead th {\n",
       "        text-align: right;\n",
       "    }\n",
       "</style>\n",
       "<table border=\"1\" class=\"dataframe\">\n",
       "  <thead>\n",
       "    <tr style=\"text-align: right;\">\n",
       "      <th></th>\n",
       "      <th>A</th>\n",
       "      <th>B</th>\n",
       "      <th>C</th>\n",
       "      <th>D</th>\n",
       "    </tr>\n",
       "  </thead>\n",
       "  <tbody>\n",
       "    <tr>\n",
       "      <th>0</th>\n",
       "      <td>420</td>\n",
       "      <td>50</td>\n",
       "      <td>21000</td>\n",
       "      <td>1</td>\n",
       "    </tr>\n",
       "    <tr>\n",
       "      <th>1</th>\n",
       "      <td>380</td>\n",
       "      <td>40</td>\n",
       "      <td>15200</td>\n",
       "      <td>0</td>\n",
       "    </tr>\n",
       "    <tr>\n",
       "      <th>2</th>\n",
       "      <td>390</td>\n",
       "      <td>45</td>\n",
       "      <td>17550</td>\n",
       "      <td>1</td>\n",
       "    </tr>\n",
       "  </tbody>\n",
       "</table>\n",
       "</div>"
      ],
      "text/plain": [
       "     A   B      C  D\n",
       "0  420  50  21000  1\n",
       "1  380  40  15200  0\n",
       "2  390  45  17550  1"
      ]
     },
     "execution_count": 47,
     "metadata": {},
     "output_type": "execute_result"
    }
   ],
   "source": [
    "df"
   ]
  },
  {
   "cell_type": "code",
   "execution_count": 48,
   "id": "6d8696ea",
   "metadata": {},
   "outputs": [
    {
     "data": {
      "text/html": [
       "<div>\n",
       "<style scoped>\n",
       "    .dataframe tbody tr th:only-of-type {\n",
       "        vertical-align: middle;\n",
       "    }\n",
       "\n",
       "    .dataframe tbody tr th {\n",
       "        vertical-align: top;\n",
       "    }\n",
       "\n",
       "    .dataframe thead th {\n",
       "        text-align: right;\n",
       "    }\n",
       "</style>\n",
       "<table border=\"1\" class=\"dataframe\">\n",
       "  <thead>\n",
       "    <tr style=\"text-align: right;\">\n",
       "      <th></th>\n",
       "      <th>A</th>\n",
       "      <th>B</th>\n",
       "      <th>C</th>\n",
       "      <th>D</th>\n",
       "    </tr>\n",
       "  </thead>\n",
       "  <tbody>\n",
       "    <tr>\n",
       "      <th>0</th>\n",
       "      <td>420</td>\n",
       "      <td>50</td>\n",
       "      <td>21000</td>\n",
       "      <td>1</td>\n",
       "    </tr>\n",
       "    <tr>\n",
       "      <th>2</th>\n",
       "      <td>390</td>\n",
       "      <td>45</td>\n",
       "      <td>17550</td>\n",
       "      <td>1</td>\n",
       "    </tr>\n",
       "    <tr>\n",
       "      <th>1</th>\n",
       "      <td>380</td>\n",
       "      <td>40</td>\n",
       "      <td>15200</td>\n",
       "      <td>0</td>\n",
       "    </tr>\n",
       "  </tbody>\n",
       "</table>\n",
       "</div>"
      ],
      "text/plain": [
       "     A   B      C  D\n",
       "0  420  50  21000  1\n",
       "2  390  45  17550  1\n",
       "1  380  40  15200  0"
      ]
     },
     "execution_count": 48,
     "metadata": {},
     "output_type": "execute_result"
    }
   ],
   "source": [
    "df.sort_values(by='A', ascending=False)"
   ]
  },
  {
   "cell_type": "code",
   "execution_count": 50,
   "id": "bb84d771",
   "metadata": {},
   "outputs": [
    {
     "data": {
      "text/html": [
       "<div>\n",
       "<style scoped>\n",
       "    .dataframe tbody tr th:only-of-type {\n",
       "        vertical-align: middle;\n",
       "    }\n",
       "\n",
       "    .dataframe tbody tr th {\n",
       "        vertical-align: top;\n",
       "    }\n",
       "\n",
       "    .dataframe thead th {\n",
       "        text-align: right;\n",
       "    }\n",
       "</style>\n",
       "<table border=\"1\" class=\"dataframe\">\n",
       "  <thead>\n",
       "    <tr style=\"text-align: right;\">\n",
       "      <th></th>\n",
       "      <th>A</th>\n",
       "      <th>B</th>\n",
       "      <th>C</th>\n",
       "      <th>D</th>\n",
       "    </tr>\n",
       "  </thead>\n",
       "  <tbody>\n",
       "    <tr>\n",
       "      <th>1</th>\n",
       "      <td>380</td>\n",
       "      <td>40</td>\n",
       "      <td>15200</td>\n",
       "      <td>0</td>\n",
       "    </tr>\n",
       "    <tr>\n",
       "      <th>2</th>\n",
       "      <td>390</td>\n",
       "      <td>45</td>\n",
       "      <td>17550</td>\n",
       "      <td>1</td>\n",
       "    </tr>\n",
       "    <tr>\n",
       "      <th>0</th>\n",
       "      <td>420</td>\n",
       "      <td>50</td>\n",
       "      <td>21000</td>\n",
       "      <td>1</td>\n",
       "    </tr>\n",
       "  </tbody>\n",
       "</table>\n",
       "</div>"
      ],
      "text/plain": [
       "     A   B      C  D\n",
       "1  380  40  15200  0\n",
       "2  390  45  17550  1\n",
       "0  420  50  21000  1"
      ]
     },
     "execution_count": 50,
     "metadata": {},
     "output_type": "execute_result"
    }
   ],
   "source": [
    "df.sort_values(by=['A','D'], ascending=[True,False])"
   ]
  },
  {
   "cell_type": "markdown",
   "id": "cc47bad4",
   "metadata": {},
   "source": [
    "## 7. Series.idxmax(), Series.max(), Series.idxmin(), Series.min()"
   ]
  },
  {
   "cell_type": "code",
   "execution_count": 51,
   "id": "9cd6d15e",
   "metadata": {},
   "outputs": [
    {
     "data": {
      "text/plain": [
       "0"
      ]
     },
     "execution_count": 51,
     "metadata": {},
     "output_type": "execute_result"
    }
   ],
   "source": [
    "df['A'].idxmax() # Return the index of max value in Series"
   ]
  },
  {
   "cell_type": "code",
   "execution_count": 53,
   "id": "74fda0e4",
   "metadata": {},
   "outputs": [
    {
     "data": {
      "text/plain": [
       "420"
      ]
     },
     "execution_count": 53,
     "metadata": {},
     "output_type": "execute_result"
    }
   ],
   "source": [
    "df['A'].max()    # Return the max value in Series"
   ]
  },
  {
   "cell_type": "code",
   "execution_count": 54,
   "id": "6e557dc5",
   "metadata": {},
   "outputs": [
    {
     "data": {
      "text/plain": [
       "1"
      ]
     },
     "execution_count": 54,
     "metadata": {},
     "output_type": "execute_result"
    }
   ],
   "source": [
    "df['A'].idxmin() # Return the index of min value in Series"
   ]
  },
  {
   "cell_type": "code",
   "execution_count": 55,
   "id": "fe98a1b2",
   "metadata": {},
   "outputs": [
    {
     "data": {
      "text/plain": [
       "380"
      ]
     },
     "execution_count": 55,
     "metadata": {},
     "output_type": "execute_result"
    }
   ],
   "source": [
    "df['A'].min()    # Return the min value in Series"
   ]
  },
  {
   "cell_type": "markdown",
   "id": "0a3dd244",
   "metadata": {},
   "source": [
    "## 8. Select series/df by dtype"
   ]
  },
  {
   "cell_type": "code",
   "execution_count": 56,
   "id": "d30dc03f",
   "metadata": {},
   "outputs": [
    {
     "data": {
      "text/html": [
       "<div>\n",
       "<style scoped>\n",
       "    .dataframe tbody tr th:only-of-type {\n",
       "        vertical-align: middle;\n",
       "    }\n",
       "\n",
       "    .dataframe tbody tr th {\n",
       "        vertical-align: top;\n",
       "    }\n",
       "\n",
       "    .dataframe thead th {\n",
       "        text-align: right;\n",
       "    }\n",
       "</style>\n",
       "<table border=\"1\" class=\"dataframe\">\n",
       "  <thead>\n",
       "    <tr style=\"text-align: right;\">\n",
       "      <th></th>\n",
       "      <th>A</th>\n",
       "      <th>B</th>\n",
       "      <th>C</th>\n",
       "    </tr>\n",
       "  </thead>\n",
       "  <tbody>\n",
       "    <tr>\n",
       "      <th>0</th>\n",
       "      <td>420</td>\n",
       "      <td>50</td>\n",
       "      <td>21000</td>\n",
       "    </tr>\n",
       "    <tr>\n",
       "      <th>1</th>\n",
       "      <td>380</td>\n",
       "      <td>40</td>\n",
       "      <td>15200</td>\n",
       "    </tr>\n",
       "    <tr>\n",
       "      <th>2</th>\n",
       "      <td>390</td>\n",
       "      <td>45</td>\n",
       "      <td>17550</td>\n",
       "    </tr>\n",
       "  </tbody>\n",
       "</table>\n",
       "</div>"
      ],
      "text/plain": [
       "     A   B      C\n",
       "0  420  50  21000\n",
       "1  380  40  15200\n",
       "2  390  45  17550"
      ]
     },
     "execution_count": 56,
     "metadata": {},
     "output_type": "execute_result"
    }
   ],
   "source": [
    "df.select_dtypes(include=['int'])"
   ]
  },
  {
   "cell_type": "code",
   "execution_count": 57,
   "id": "a8ae62ea",
   "metadata": {},
   "outputs": [
    {
     "data": {
      "text/html": [
       "<div>\n",
       "<style scoped>\n",
       "    .dataframe tbody tr th:only-of-type {\n",
       "        vertical-align: middle;\n",
       "    }\n",
       "\n",
       "    .dataframe tbody tr th {\n",
       "        vertical-align: top;\n",
       "    }\n",
       "\n",
       "    .dataframe thead th {\n",
       "        text-align: right;\n",
       "    }\n",
       "</style>\n",
       "<table border=\"1\" class=\"dataframe\">\n",
       "  <thead>\n",
       "    <tr style=\"text-align: right;\">\n",
       "      <th></th>\n",
       "      <th>D</th>\n",
       "    </tr>\n",
       "  </thead>\n",
       "  <tbody>\n",
       "    <tr>\n",
       "      <th>0</th>\n",
       "      <td>1</td>\n",
       "    </tr>\n",
       "    <tr>\n",
       "      <th>1</th>\n",
       "      <td>0</td>\n",
       "    </tr>\n",
       "    <tr>\n",
       "      <th>2</th>\n",
       "      <td>1</td>\n",
       "    </tr>\n",
       "  </tbody>\n",
       "</table>\n",
       "</div>"
      ],
      "text/plain": [
       "   D\n",
       "0  1\n",
       "1  0\n",
       "2  1"
      ]
     },
     "execution_count": 57,
     "metadata": {},
     "output_type": "execute_result"
    }
   ],
   "source": [
    "df.select_dtypes(include=['category'])"
   ]
  },
  {
   "cell_type": "code",
   "execution_count": 59,
   "id": "59799d0c",
   "metadata": {},
   "outputs": [
    {
     "data": {
      "text/plain": [
       "['A', 'B', 'C']"
      ]
     },
     "execution_count": 59,
     "metadata": {},
     "output_type": "execute_result"
    }
   ],
   "source": [
    "# Integer column in list\n",
    "df.select_dtypes(include=['int']).columns.tolist()"
   ]
  },
  {
   "cell_type": "markdown",
   "id": "99adb17c",
   "metadata": {},
   "source": [
    "## 9. Groupby\n",
    "<pre>A groupby operation involves some combination of splitting the object, applying a function, and combining the results. This can be used to group large amounts of data and compute operations on these groups.</pre>"
   ]
  },
  {
   "attachments": {
    "144045594-1a5c3f78-4250-4ed8-9de3-ca3689fe08bf.png": {
     "image/png": "[encoded data removed]"
    }
   },
   "cell_type": "markdown",
   "id": "e2ecdb16",
   "metadata": {},
   "source": [
    "![144045594-1a5c3f78-4250-4ed8-9de3-ca3689fe08bf.png](attachment:144045594-1a5c3f78-4250-4ed8-9de3-ca3689fe08bf.png)"
   ]
  },
  {
   "cell_type": "code",
   "execution_count": 60,
   "id": "6753e584",
   "metadata": {},
   "outputs": [],
   "source": [
    "df1 = pd.DataFrame({'Animal': ['Falcon', 'Falcon',\n",
    "                              'Parrot', 'Parrot'],\n",
    "                   'Max Speed': [380., 370., 24., 26.]})"
   ]
  },
  {
   "cell_type": "code",
   "execution_count": 61,
   "id": "952a86b1",
   "metadata": {},
   "outputs": [
    {
     "data": {
      "text/html": [
       "<div>\n",
       "<style scoped>\n",
       "    .dataframe tbody tr th:only-of-type {\n",
       "        vertical-align: middle;\n",
       "    }\n",
       "\n",
       "    .dataframe tbody tr th {\n",
       "        vertical-align: top;\n",
       "    }\n",
       "\n",
       "    .dataframe thead th {\n",
       "        text-align: right;\n",
       "    }\n",
       "</style>\n",
       "<table border=\"1\" class=\"dataframe\">\n",
       "  <thead>\n",
       "    <tr style=\"text-align: right;\">\n",
       "      <th></th>\n",
       "      <th>Animal</th>\n",
       "      <th>Max Speed</th>\n",
       "    </tr>\n",
       "  </thead>\n",
       "  <tbody>\n",
       "    <tr>\n",
       "      <th>0</th>\n",
       "      <td>Falcon</td>\n",
       "      <td>380.0</td>\n",
       "    </tr>\n",
       "    <tr>\n",
       "      <th>1</th>\n",
       "      <td>Falcon</td>\n",
       "      <td>370.0</td>\n",
       "    </tr>\n",
       "    <tr>\n",
       "      <th>2</th>\n",
       "      <td>Parrot</td>\n",
       "      <td>24.0</td>\n",
       "    </tr>\n",
       "    <tr>\n",
       "      <th>3</th>\n",
       "      <td>Parrot</td>\n",
       "      <td>26.0</td>\n",
       "    </tr>\n",
       "  </tbody>\n",
       "</table>\n",
       "</div>"
      ],
      "text/plain": [
       "   Animal  Max Speed\n",
       "0  Falcon      380.0\n",
       "1  Falcon      370.0\n",
       "2  Parrot       24.0\n",
       "3  Parrot       26.0"
      ]
     },
     "execution_count": 61,
     "metadata": {},
     "output_type": "execute_result"
    }
   ],
   "source": [
    "df1"
   ]
  },
  {
   "cell_type": "code",
   "execution_count": 63,
   "id": "7aef8a1a",
   "metadata": {},
   "outputs": [
    {
     "data": {
      "text/html": [
       "<div>\n",
       "<style scoped>\n",
       "    .dataframe tbody tr th:only-of-type {\n",
       "        vertical-align: middle;\n",
       "    }\n",
       "\n",
       "    .dataframe tbody tr th {\n",
       "        vertical-align: top;\n",
       "    }\n",
       "\n",
       "    .dataframe thead th {\n",
       "        text-align: right;\n",
       "    }\n",
       "</style>\n",
       "<table border=\"1\" class=\"dataframe\">\n",
       "  <thead>\n",
       "    <tr style=\"text-align: right;\">\n",
       "      <th></th>\n",
       "      <th>Max Speed</th>\n",
       "    </tr>\n",
       "    <tr>\n",
       "      <th>Animal</th>\n",
       "      <th></th>\n",
       "    </tr>\n",
       "  </thead>\n",
       "  <tbody>\n",
       "    <tr>\n",
       "      <th>Falcon</th>\n",
       "      <td>375.0</td>\n",
       "    </tr>\n",
       "    <tr>\n",
       "      <th>Parrot</th>\n",
       "      <td>25.0</td>\n",
       "    </tr>\n",
       "  </tbody>\n",
       "</table>\n",
       "</div>"
      ],
      "text/plain": [
       "        Max Speed\n",
       "Animal           \n",
       "Falcon      375.0\n",
       "Parrot       25.0"
      ]
     },
     "execution_count": 63,
     "metadata": {},
     "output_type": "execute_result"
    }
   ],
   "source": [
    "df1.groupby(['Animal']).mean()"
   ]
  },
  {
   "cell_type": "code",
   "execution_count": 67,
   "id": "a68b6116",
   "metadata": {},
   "outputs": [
    {
     "data": {
      "text/html": [
       "<div>\n",
       "<style scoped>\n",
       "    .dataframe tbody tr th:only-of-type {\n",
       "        vertical-align: middle;\n",
       "    }\n",
       "\n",
       "    .dataframe tbody tr th {\n",
       "        vertical-align: top;\n",
       "    }\n",
       "\n",
       "    .dataframe thead tr th {\n",
       "        text-align: left;\n",
       "    }\n",
       "\n",
       "    .dataframe thead tr:last-of-type th {\n",
       "        text-align: right;\n",
       "    }\n",
       "</style>\n",
       "<table border=\"1\" class=\"dataframe\">\n",
       "  <thead>\n",
       "    <tr>\n",
       "      <th></th>\n",
       "      <th colspan=\"3\" halign=\"left\">Max Speed</th>\n",
       "    </tr>\n",
       "    <tr>\n",
       "      <th></th>\n",
       "      <th>mean</th>\n",
       "      <th>max</th>\n",
       "      <th>min</th>\n",
       "    </tr>\n",
       "    <tr>\n",
       "      <th>Animal</th>\n",
       "      <th></th>\n",
       "      <th></th>\n",
       "      <th></th>\n",
       "    </tr>\n",
       "  </thead>\n",
       "  <tbody>\n",
       "    <tr>\n",
       "      <th>Falcon</th>\n",
       "      <td>375.0</td>\n",
       "      <td>380.0</td>\n",
       "      <td>370.0</td>\n",
       "    </tr>\n",
       "    <tr>\n",
       "      <th>Parrot</th>\n",
       "      <td>25.0</td>\n",
       "      <td>26.0</td>\n",
       "      <td>24.0</td>\n",
       "    </tr>\n",
       "  </tbody>\n",
       "</table>\n",
       "</div>"
      ],
      "text/plain": [
       "       Max Speed              \n",
       "            mean    max    min\n",
       "Animal                        \n",
       "Falcon     375.0  380.0  370.0\n",
       "Parrot      25.0   26.0   24.0"
      ]
     },
     "execution_count": 67,
     "metadata": {},
     "output_type": "execute_result"
    }
   ],
   "source": [
    "df1.groupby(['Animal']).agg(['mean','max','min'])"
   ]
  },
  {
   "cell_type": "markdown",
   "id": "e3f6e07e",
   "metadata": {},
   "source": [
    "## 10. Split a string column into two columns"
   ]
  },
  {
   "cell_type": "code",
   "execution_count": 76,
   "id": "e085f7f2",
   "metadata": {},
   "outputs": [
    {
     "data": {
      "text/html": [
       "<div>\n",
       "<style scoped>\n",
       "    .dataframe tbody tr th:only-of-type {\n",
       "        vertical-align: middle;\n",
       "    }\n",
       "\n",
       "    .dataframe tbody tr th {\n",
       "        vertical-align: top;\n",
       "    }\n",
       "\n",
       "    .dataframe thead th {\n",
       "        text-align: right;\n",
       "    }\n",
       "</style>\n",
       "<table border=\"1\" class=\"dataframe\">\n",
       "  <thead>\n",
       "    <tr style=\"text-align: right;\">\n",
       "      <th></th>\n",
       "      <th>row</th>\n",
       "    </tr>\n",
       "  </thead>\n",
       "  <tbody>\n",
       "    <tr>\n",
       "      <th>0</th>\n",
       "      <td>00010 Tsim Sha Tsui</td>\n",
       "    </tr>\n",
       "    <tr>\n",
       "      <th>1</th>\n",
       "      <td>00020 Yau Ma Tei</td>\n",
       "    </tr>\n",
       "    <tr>\n",
       "      <th>2</th>\n",
       "      <td>00030 Mong Kok</td>\n",
       "    </tr>\n",
       "  </tbody>\n",
       "</table>\n",
       "</div>"
      ],
      "text/plain": [
       "                   row\n",
       "0  00010 Tsim Sha Tsui\n",
       "1     00020 Yau Ma Tei\n",
       "2       00030 Mong Kok"
      ]
     },
     "execution_count": 76,
     "metadata": {},
     "output_type": "execute_result"
    }
   ],
   "source": [
    "df2 = pd.DataFrame({'row': ['00010 Tsim Sha Tsui', \n",
    "                           '00020 Yau Ma Tei',\n",
    "                           '00030 Mong Kok']})\n",
    "df2"
   ]
  },
  {
   "cell_type": "code",
   "execution_count": 77,
   "id": "7332d102",
   "metadata": {},
   "outputs": [
    {
     "data": {
      "text/html": [
       "<div>\n",
       "<style scoped>\n",
       "    .dataframe tbody tr th:only-of-type {\n",
       "        vertical-align: middle;\n",
       "    }\n",
       "\n",
       "    .dataframe tbody tr th {\n",
       "        vertical-align: top;\n",
       "    }\n",
       "\n",
       "    .dataframe thead th {\n",
       "        text-align: right;\n",
       "    }\n",
       "</style>\n",
       "<table border=\"1\" class=\"dataframe\">\n",
       "  <thead>\n",
       "    <tr style=\"text-align: right;\">\n",
       "      <th></th>\n",
       "      <th>code</th>\n",
       "      <th>location</th>\n",
       "    </tr>\n",
       "  </thead>\n",
       "  <tbody>\n",
       "    <tr>\n",
       "      <th>0</th>\n",
       "      <td>00010</td>\n",
       "      <td>Tsim Sha Tsui</td>\n",
       "    </tr>\n",
       "    <tr>\n",
       "      <th>1</th>\n",
       "      <td>00020</td>\n",
       "      <td>Yau Ma Tei</td>\n",
       "    </tr>\n",
       "    <tr>\n",
       "      <th>2</th>\n",
       "      <td>00030</td>\n",
       "      <td>Mong Kok</td>\n",
       "    </tr>\n",
       "  </tbody>\n",
       "</table>\n",
       "</div>"
      ],
      "text/plain": [
       "    code       location\n",
       "0  00010  Tsim Sha Tsui\n",
       "1  00020     Yau Ma Tei\n",
       "2  00030       Mong Kok"
      ]
     },
     "execution_count": 77,
     "metadata": {},
     "output_type": "execute_result"
    }
   ],
   "source": [
    "df2[['code','location']] = df2['row'].str.split(n=1, expand=True)\n",
    "df2 = df2[['code','location']]\n",
    "df2"
   ]
  },
  {
   "cell_type": "markdown",
   "id": "979a75c2",
   "metadata": {},
   "source": [
    "## 11. Iterate over rows in Pandas DataFrame"
   ]
  },
  {
   "cell_type": "code",
   "execution_count": 79,
   "id": "9050c856",
   "metadata": {},
   "outputs": [
    {
     "name": "stdout",
     "output_type": "stream",
     "text": [
      "0 00010 Tsim Sha Tsui\n",
      "1 00020 Yau Ma Tei\n",
      "2 00030 Mong Kok\n"
     ]
    }
   ],
   "source": [
    "for idx, row in df2.iterrows():\n",
    "    print(idx, row['code'], row['location'])"
   ]
  },
  {
   "cell_type": "markdown",
   "id": "3027df23",
   "metadata": {},
   "source": [
    "## 12. Iterate over rows in Pandas DataFrame as namedtuples"
   ]
  },
  {
   "cell_type": "code",
   "execution_count": 80,
   "id": "02c77909",
   "metadata": {},
   "outputs": [
    {
     "name": "stdout",
     "output_type": "stream",
     "text": [
      "Pandas(Index=0, code='00010', location='Tsim Sha Tsui')\n",
      "Pandas(Index=1, code='00020', location='Yau Ma Tei')\n",
      "Pandas(Index=2, code='00030', location='Mong Kok')\n"
     ]
    }
   ],
   "source": [
    "for row in df2.itertuples():\n",
    "    print(row)"
   ]
  },
  {
   "cell_type": "markdown",
   "id": "df88371d",
   "metadata": {},
   "source": [
    "## 13. Rolling windows - mean"
   ]
  },
  {
   "cell_type": "code",
   "execution_count": 88,
   "id": "9a7d6c11",
   "metadata": {},
   "outputs": [
    {
     "name": "stdout",
     "output_type": "stream",
     "text": [
      "[*********************100%***********************]  1 of 1 completed\n"
     ]
    },
    {
     "data": {
      "text/html": [
       "<div>\n",
       "<style scoped>\n",
       "    .dataframe tbody tr th:only-of-type {\n",
       "        vertical-align: middle;\n",
       "    }\n",
       "\n",
       "    .dataframe tbody tr th {\n",
       "        vertical-align: top;\n",
       "    }\n",
       "\n",
       "    .dataframe thead th {\n",
       "        text-align: right;\n",
       "    }\n",
       "</style>\n",
       "<table border=\"1\" class=\"dataframe\">\n",
       "  <thead>\n",
       "    <tr style=\"text-align: right;\">\n",
       "      <th></th>\n",
       "      <th>Adj Close</th>\n",
       "    </tr>\n",
       "    <tr>\n",
       "      <th>Date</th>\n",
       "      <th></th>\n",
       "    </tr>\n",
       "  </thead>\n",
       "  <tbody>\n",
       "    <tr>\n",
       "      <th>2021-01-04</th>\n",
       "      <td>27472.810547</td>\n",
       "    </tr>\n",
       "    <tr>\n",
       "      <th>2021-01-05</th>\n",
       "      <td>27649.859375</td>\n",
       "    </tr>\n",
       "    <tr>\n",
       "      <th>2021-01-06</th>\n",
       "      <td>27692.300781</td>\n",
       "    </tr>\n",
       "  </tbody>\n",
       "</table>\n",
       "</div>"
      ],
      "text/plain": [
       "               Adj Close\n",
       "Date                    \n",
       "2021-01-04  27472.810547\n",
       "2021-01-05  27649.859375\n",
       "2021-01-06  27692.300781"
      ]
     },
     "execution_count": 88,
     "metadata": {},
     "output_type": "execute_result"
    }
   ],
   "source": [
    "import yfinance as yf\n",
    "hsi = yf.download(\"^HSI\", start=\"2021-01-01\", end=\"2023-01-01\")\n",
    "hsi = hsi.drop(['Open','High','Low','Close','Volume'], axis=1)\n",
    "hsi.head(3)"
   ]
  },
  {
   "cell_type": "code",
   "execution_count": 89,
   "id": "ad095bb3",
   "metadata": {},
   "outputs": [
    {
     "data": {
      "text/html": [
       "<div>\n",
       "<style scoped>\n",
       "    .dataframe tbody tr th:only-of-type {\n",
       "        vertical-align: middle;\n",
       "    }\n",
       "\n",
       "    .dataframe tbody tr th {\n",
       "        vertical-align: top;\n",
       "    }\n",
       "\n",
       "    .dataframe thead th {\n",
       "        text-align: right;\n",
       "    }\n",
       "</style>\n",
       "<table border=\"1\" class=\"dataframe\">\n",
       "  <thead>\n",
       "    <tr style=\"text-align: right;\">\n",
       "      <th></th>\n",
       "      <th>Adj Close</th>\n",
       "      <th>MA50</th>\n",
       "    </tr>\n",
       "    <tr>\n",
       "      <th>Date</th>\n",
       "      <th></th>\n",
       "      <th></th>\n",
       "    </tr>\n",
       "  </thead>\n",
       "  <tbody>\n",
       "    <tr>\n",
       "      <th>2022-12-28</th>\n",
       "      <td>19898.910156</td>\n",
       "      <td>17666.513184</td>\n",
       "    </tr>\n",
       "    <tr>\n",
       "      <th>2022-12-29</th>\n",
       "      <td>19741.140625</td>\n",
       "      <td>17723.044395</td>\n",
       "    </tr>\n",
       "    <tr>\n",
       "      <th>2022-12-30</th>\n",
       "      <td>19781.410156</td>\n",
       "      <td>17788.447012</td>\n",
       "    </tr>\n",
       "  </tbody>\n",
       "</table>\n",
       "</div>"
      ],
      "text/plain": [
       "               Adj Close          MA50\n",
       "Date                                  \n",
       "2022-12-28  19898.910156  17666.513184\n",
       "2022-12-29  19741.140625  17723.044395\n",
       "2022-12-30  19781.410156  17788.447012"
      ]
     },
     "execution_count": 89,
     "metadata": {},
     "output_type": "execute_result"
    }
   ],
   "source": [
    "hsi['MA50'] = hsi['Adj Close'].rolling(50).mean()\n",
    "hsi.tail(3)"
   ]
  },
  {
   "cell_type": "markdown",
   "id": "22010e43",
   "metadata": {},
   "source": [
    "## 14. Rolling windows - median"
   ]
  },
  {
   "cell_type": "code",
   "execution_count": 91,
   "id": "890920f3",
   "metadata": {},
   "outputs": [
    {
     "data": {
      "text/html": [
       "<div>\n",
       "<style scoped>\n",
       "    .dataframe tbody tr th:only-of-type {\n",
       "        vertical-align: middle;\n",
       "    }\n",
       "\n",
       "    .dataframe tbody tr th {\n",
       "        vertical-align: top;\n",
       "    }\n",
       "\n",
       "    .dataframe thead th {\n",
       "        text-align: right;\n",
       "    }\n",
       "</style>\n",
       "<table border=\"1\" class=\"dataframe\">\n",
       "  <thead>\n",
       "    <tr style=\"text-align: right;\">\n",
       "      <th></th>\n",
       "      <th>Adj Close</th>\n",
       "      <th>MA50</th>\n",
       "      <th>MA10</th>\n",
       "      <th>Med50</th>\n",
       "    </tr>\n",
       "    <tr>\n",
       "      <th>Date</th>\n",
       "      <th></th>\n",
       "      <th></th>\n",
       "      <th></th>\n",
       "      <th></th>\n",
       "    </tr>\n",
       "  </thead>\n",
       "  <tbody>\n",
       "    <tr>\n",
       "      <th>2022-12-28</th>\n",
       "      <td>19898.910156</td>\n",
       "      <td>17666.513184</td>\n",
       "      <td>19486.820117</td>\n",
       "      <td>17658.405273</td>\n",
       "    </tr>\n",
       "    <tr>\n",
       "      <th>2022-12-29</th>\n",
       "      <td>19741.140625</td>\n",
       "      <td>17723.044395</td>\n",
       "      <td>19501.314258</td>\n",
       "      <td>17826.719727</td>\n",
       "    </tr>\n",
       "    <tr>\n",
       "      <th>2022-12-30</th>\n",
       "      <td>19781.410156</td>\n",
       "      <td>17788.447012</td>\n",
       "      <td>19512.110352</td>\n",
       "      <td>18019.099609</td>\n",
       "    </tr>\n",
       "  </tbody>\n",
       "</table>\n",
       "</div>"
      ],
      "text/plain": [
       "               Adj Close          MA50          MA10         Med50\n",
       "Date                                                              \n",
       "2022-12-28  19898.910156  17666.513184  19486.820117  17658.405273\n",
       "2022-12-29  19741.140625  17723.044395  19501.314258  17826.719727\n",
       "2022-12-30  19781.410156  17788.447012  19512.110352  18019.099609"
      ]
     },
     "execution_count": 91,
     "metadata": {},
     "output_type": "execute_result"
    }
   ],
   "source": [
    "hsi['Med50'] = hsi['Adj Close'].rolling(50).median()\n",
    "hsi.tail(3)"
   ]
  },
  {
   "cell_type": "code",
   "execution_count": 94,
   "id": "acfac20b",
   "metadata": {},
   "outputs": [
    {
     "data": {
      "text/html": [
       "<div>\n",
       "<style scoped>\n",
       "    .dataframe tbody tr th:only-of-type {\n",
       "        vertical-align: middle;\n",
       "    }\n",
       "\n",
       "    .dataframe tbody tr th {\n",
       "        vertical-align: top;\n",
       "    }\n",
       "\n",
       "    .dataframe thead th {\n",
       "        text-align: right;\n",
       "    }\n",
       "</style>\n",
       "<table border=\"1\" class=\"dataframe\">\n",
       "  <thead>\n",
       "    <tr style=\"text-align: right;\">\n",
       "      <th></th>\n",
       "      <th>Adj Close</th>\n",
       "      <th>MA50</th>\n",
       "      <th>MA10</th>\n",
       "      <th>Med50</th>\n",
       "      <th>STD50</th>\n",
       "    </tr>\n",
       "    <tr>\n",
       "      <th>Date</th>\n",
       "      <th></th>\n",
       "      <th></th>\n",
       "      <th></th>\n",
       "      <th></th>\n",
       "      <th></th>\n",
       "    </tr>\n",
       "  </thead>\n",
       "  <tbody>\n",
       "    <tr>\n",
       "      <th>2022-12-28</th>\n",
       "      <td>19898.910156</td>\n",
       "      <td>17666.513184</td>\n",
       "      <td>19486.820117</td>\n",
       "      <td>17658.405273</td>\n",
       "      <td>1602.959207</td>\n",
       "    </tr>\n",
       "    <tr>\n",
       "      <th>2022-12-29</th>\n",
       "      <td>19741.140625</td>\n",
       "      <td>17723.044395</td>\n",
       "      <td>19501.314258</td>\n",
       "      <td>17826.719727</td>\n",
       "      <td>1625.581964</td>\n",
       "    </tr>\n",
       "    <tr>\n",
       "      <th>2022-12-30</th>\n",
       "      <td>19781.410156</td>\n",
       "      <td>17788.447012</td>\n",
       "      <td>19512.110352</td>\n",
       "      <td>18019.099609</td>\n",
       "      <td>1641.539467</td>\n",
       "    </tr>\n",
       "  </tbody>\n",
       "</table>\n",
       "</div>"
      ],
      "text/plain": [
       "               Adj Close          MA50          MA10         Med50  \\\n",
       "Date                                                                 \n",
       "2022-12-28  19898.910156  17666.513184  19486.820117  17658.405273   \n",
       "2022-12-29  19741.140625  17723.044395  19501.314258  17826.719727   \n",
       "2022-12-30  19781.410156  17788.447012  19512.110352  18019.099609   \n",
       "\n",
       "                  STD50  \n",
       "Date                     \n",
       "2022-12-28  1602.959207  \n",
       "2022-12-29  1625.581964  \n",
       "2022-12-30  1641.539467  "
      ]
     },
     "execution_count": 94,
     "metadata": {},
     "output_type": "execute_result"
    }
   ],
   "source": [
    "hsi['STD50'] =hsi['Adj Close'].rolling(50).std()\n",
    "hsi.tail(3)"
   ]
  },
  {
   "cell_type": "markdown",
   "id": "1eb47f9f",
   "metadata": {},
   "source": [
    "## 15. Rolling windows - 25%Quantile, 75%Quantile"
   ]
  },
  {
   "cell_type": "code",
   "execution_count": 95,
   "id": "54e9f682",
   "metadata": {},
   "outputs": [
    {
     "data": {
      "text/html": [
       "<div>\n",
       "<style scoped>\n",
       "    .dataframe tbody tr th:only-of-type {\n",
       "        vertical-align: middle;\n",
       "    }\n",
       "\n",
       "    .dataframe tbody tr th {\n",
       "        vertical-align: top;\n",
       "    }\n",
       "\n",
       "    .dataframe thead th {\n",
       "        text-align: right;\n",
       "    }\n",
       "</style>\n",
       "<table border=\"1\" class=\"dataframe\">\n",
       "  <thead>\n",
       "    <tr style=\"text-align: right;\">\n",
       "      <th></th>\n",
       "      <th>Adj Close</th>\n",
       "      <th>MA50</th>\n",
       "      <th>MA10</th>\n",
       "      <th>Med50</th>\n",
       "      <th>STD50</th>\n",
       "      <th>25PCQ</th>\n",
       "      <th>75PCQ</th>\n",
       "    </tr>\n",
       "    <tr>\n",
       "      <th>Date</th>\n",
       "      <th></th>\n",
       "      <th></th>\n",
       "      <th></th>\n",
       "      <th></th>\n",
       "      <th></th>\n",
       "      <th></th>\n",
       "      <th></th>\n",
       "    </tr>\n",
       "  </thead>\n",
       "  <tbody>\n",
       "    <tr>\n",
       "      <th>2022-12-28</th>\n",
       "      <td>19898.910156</td>\n",
       "      <td>17666.513184</td>\n",
       "      <td>19486.820117</td>\n",
       "      <td>17658.405273</td>\n",
       "      <td>1602.959207</td>\n",
       "      <td>16299.794678</td>\n",
       "      <td>19304.730469</td>\n",
       "    </tr>\n",
       "    <tr>\n",
       "      <th>2022-12-29</th>\n",
       "      <td>19741.140625</td>\n",
       "      <td>17723.044395</td>\n",
       "      <td>19501.314258</td>\n",
       "      <td>17826.719727</td>\n",
       "      <td>1625.581964</td>\n",
       "      <td>16299.794678</td>\n",
       "      <td>19364.645020</td>\n",
       "    </tr>\n",
       "    <tr>\n",
       "      <th>2022-12-30</th>\n",
       "      <td>19781.410156</td>\n",
       "      <td>17788.447012</td>\n",
       "      <td>19512.110352</td>\n",
       "      <td>18019.099609</td>\n",
       "      <td>1641.539467</td>\n",
       "      <td>16299.794678</td>\n",
       "      <td>19423.032227</td>\n",
       "    </tr>\n",
       "  </tbody>\n",
       "</table>\n",
       "</div>"
      ],
      "text/plain": [
       "               Adj Close          MA50          MA10         Med50  \\\n",
       "Date                                                                 \n",
       "2022-12-28  19898.910156  17666.513184  19486.820117  17658.405273   \n",
       "2022-12-29  19741.140625  17723.044395  19501.314258  17826.719727   \n",
       "2022-12-30  19781.410156  17788.447012  19512.110352  18019.099609   \n",
       "\n",
       "                  STD50         25PCQ         75PCQ  \n",
       "Date                                                 \n",
       "2022-12-28  1602.959207  16299.794678  19304.730469  \n",
       "2022-12-29  1625.581964  16299.794678  19364.645020  \n",
       "2022-12-30  1641.539467  16299.794678  19423.032227  "
      ]
     },
     "execution_count": 95,
     "metadata": {},
     "output_type": "execute_result"
    }
   ],
   "source": [
    "hsi['25PCQ'] = hsi['Adj Close'].rolling(50).quantile(0.25)\n",
    "hsi['75PCQ'] = hsi['Adj Close'].rolling(50).quantile(0.75)\n",
    "hsi.tail(3)"
   ]
  },
  {
   "attachments": {
    "iqr_skewed_boxplot.png": {
     "image/png": "[encoded data removed]"
    }
   },
   "cell_type": "markdown",
   "id": "ecb21406",
   "metadata": {},
   "source": [
    "![iqr_skewed_boxplot.png](attachment:iqr_skewed_boxplot.png)"
   ]
  },
  {
   "cell_type": "markdown",
   "id": "55137e84",
   "metadata": {},
   "source": [
    "## 16. Rolling windows - Kurt, Skew\n",
    "<pre>Pandas rolling.kurt() uses Fisher (~ND : Kurt = 0)\n",
    "</pre>"
   ]
  },
  {
   "cell_type": "code",
   "execution_count": 100,
   "id": "edd1b49f",
   "metadata": {},
   "outputs": [
    {
     "data": {
      "text/html": [
       "<div>\n",
       "<style scoped>\n",
       "    .dataframe tbody tr th:only-of-type {\n",
       "        vertical-align: middle;\n",
       "    }\n",
       "\n",
       "    .dataframe tbody tr th {\n",
       "        vertical-align: top;\n",
       "    }\n",
       "\n",
       "    .dataframe thead th {\n",
       "        text-align: right;\n",
       "    }\n",
       "</style>\n",
       "<table border=\"1\" class=\"dataframe\">\n",
       "  <thead>\n",
       "    <tr style=\"text-align: right;\">\n",
       "      <th></th>\n",
       "      <th>Adj Close</th>\n",
       "      <th>MA50</th>\n",
       "      <th>MA10</th>\n",
       "      <th>Med50</th>\n",
       "      <th>STD50</th>\n",
       "      <th>25PCQ</th>\n",
       "      <th>75PCQ</th>\n",
       "      <th>250Kurt</th>\n",
       "      <th>250Skew</th>\n",
       "    </tr>\n",
       "    <tr>\n",
       "      <th>Date</th>\n",
       "      <th></th>\n",
       "      <th></th>\n",
       "      <th></th>\n",
       "      <th></th>\n",
       "      <th></th>\n",
       "      <th></th>\n",
       "      <th></th>\n",
       "      <th></th>\n",
       "      <th></th>\n",
       "    </tr>\n",
       "  </thead>\n",
       "  <tbody>\n",
       "    <tr>\n",
       "      <th>2022-12-28</th>\n",
       "      <td>19898.910156</td>\n",
       "      <td>17666.513184</td>\n",
       "      <td>19486.820117</td>\n",
       "      <td>17658.405273</td>\n",
       "      <td>1602.959207</td>\n",
       "      <td>16299.794678</td>\n",
       "      <td>19304.730469</td>\n",
       "      <td>-0.342077</td>\n",
       "      <td>-0.145472</td>\n",
       "    </tr>\n",
       "    <tr>\n",
       "      <th>2022-12-29</th>\n",
       "      <td>19741.140625</td>\n",
       "      <td>17723.044395</td>\n",
       "      <td>19501.314258</td>\n",
       "      <td>17826.719727</td>\n",
       "      <td>1625.581964</td>\n",
       "      <td>16299.794678</td>\n",
       "      <td>19364.645020</td>\n",
       "      <td>-0.324858</td>\n",
       "      <td>-0.135617</td>\n",
       "    </tr>\n",
       "    <tr>\n",
       "      <th>2022-12-30</th>\n",
       "      <td>19781.410156</td>\n",
       "      <td>17788.447012</td>\n",
       "      <td>19512.110352</td>\n",
       "      <td>18019.099609</td>\n",
       "      <td>1641.539467</td>\n",
       "      <td>16299.794678</td>\n",
       "      <td>19423.032227</td>\n",
       "      <td>-0.306429</td>\n",
       "      <td>-0.126099</td>\n",
       "    </tr>\n",
       "  </tbody>\n",
       "</table>\n",
       "</div>"
      ],
      "text/plain": [
       "               Adj Close          MA50          MA10         Med50  \\\n",
       "Date                                                                 \n",
       "2022-12-28  19898.910156  17666.513184  19486.820117  17658.405273   \n",
       "2022-12-29  19741.140625  17723.044395  19501.314258  17826.719727   \n",
       "2022-12-30  19781.410156  17788.447012  19512.110352  18019.099609   \n",
       "\n",
       "                  STD50         25PCQ         75PCQ   250Kurt   250Skew  \n",
       "Date                                                                     \n",
       "2022-12-28  1602.959207  16299.794678  19304.730469 -0.342077 -0.145472  \n",
       "2022-12-29  1625.581964  16299.794678  19364.645020 -0.324858 -0.135617  \n",
       "2022-12-30  1641.539467  16299.794678  19423.032227 -0.306429 -0.126099  "
      ]
     },
     "execution_count": 100,
     "metadata": {},
     "output_type": "execute_result"
    }
   ],
   "source": [
    "hsi['250Kurt'] = hsi['Adj Close'].rolling(250).kurt()\n",
    "hsi['250Skew'] = hsi['Adj Close'].rolling(250).skew()\n",
    "hsi.tail(3)"
   ]
  },
  {
   "cell_type": "markdown",
   "id": "f105dbd1",
   "metadata": {},
   "source": [
    "## 17. Rolling windows - Corr"
   ]
  },
  {
   "cell_type": "code",
   "execution_count": 106,
   "id": "ec7776a8",
   "metadata": {},
   "outputs": [
    {
     "name": "stdout",
     "output_type": "stream",
     "text": [
      "[*********************100%***********************]  1 of 1 completed\n"
     ]
    }
   ],
   "source": [
    "tracker = yf.download(\"2800.hk\", start=\"2021-01-01\", end=\"2023-01-01\")"
   ]
  },
  {
   "cell_type": "code",
   "execution_count": 112,
   "id": "2698febd",
   "metadata": {},
   "outputs": [
    {
     "data": {
      "text/plain": [
       "0.9987842252527157"
      ]
     },
     "execution_count": 112,
     "metadata": {},
     "output_type": "execute_result"
    }
   ],
   "source": [
    "hsi['Adj Close'].corr(tracker['Adj Close'])"
   ]
  },
  {
   "cell_type": "code",
   "execution_count": 114,
   "id": "3685a452",
   "metadata": {},
   "outputs": [
    {
     "data": {
      "text/plain": [
       "Date\n",
       "2022-12-22    0.996608\n",
       "2022-12-23    0.996580\n",
       "2022-12-28    0.996557\n",
       "2022-12-29    0.996524\n",
       "2022-12-30    0.996493\n",
       "Name: Adj Close, dtype: float64"
      ]
     },
     "execution_count": 114,
     "metadata": {},
     "output_type": "execute_result"
    }
   ],
   "source": [
    "hsi['Adj Close'].rolling(250).corr(tracker['Adj Close']).tail(5)"
   ]
  },
  {
   "cell_type": "markdown",
   "id": "c14f6af0",
   "metadata": {},
   "source": [
    "## 18. Rolling windows – Cov"
   ]
  },
  {
   "cell_type": "code",
   "execution_count": 116,
   "id": "b4006ab9",
   "metadata": {},
   "outputs": [
    {
     "data": {
      "text/plain": [
       "16174.886107423314"
      ]
     },
     "execution_count": 116,
     "metadata": {},
     "output_type": "execute_result"
    }
   ],
   "source": [
    "hsi['Adj Close'].cov(tracker['Adj Close'])"
   ]
  },
  {
   "cell_type": "code",
   "execution_count": 117,
   "id": "ad177d36",
   "metadata": {},
   "outputs": [
    {
     "data": {
      "text/plain": [
       "Date\n",
       "2022-12-22    5397.138608\n",
       "2022-12-23    5376.666596\n",
       "2022-12-28    5351.532767\n",
       "2022-12-29    5324.522278\n",
       "2022-12-30    5295.814185\n",
       "Name: Adj Close, dtype: float64"
      ]
     },
     "execution_count": 117,
     "metadata": {},
     "output_type": "execute_result"
    }
   ],
   "source": [
    "hsi['Adj Close'].rolling(250).cov(tracker['Adj Close']).tail(5)"
   ]
  },
  {
   "cell_type": "markdown",
   "id": "b319d73c",
   "metadata": {},
   "source": [
    "## 19. Autocorrelation"
   ]
  },
  {
   "cell_type": "code",
   "execution_count": 118,
   "id": "c2359dd8",
   "metadata": {},
   "outputs": [
    {
     "data": {
      "text/plain": [
       "0.9957232681008235"
      ]
     },
     "execution_count": 118,
     "metadata": {},
     "output_type": "execute_result"
    }
   ],
   "source": [
    "hsi['Adj Close'].autocorr(lag=1)"
   ]
  },
  {
   "cell_type": "code",
   "execution_count": 119,
   "id": "529790ca",
   "metadata": {},
   "outputs": [
    {
     "data": {
      "text/plain": [
       "0.991392258342818"
      ]
     },
     "execution_count": 119,
     "metadata": {},
     "output_type": "execute_result"
    }
   ],
   "source": [
    "hsi['Adj Close'].autocorr(lag=2)"
   ]
  },
  {
   "cell_type": "code",
   "execution_count": 122,
   "id": "e5c9ef2c",
   "metadata": {},
   "outputs": [
    {
     "data": {
      "text/plain": [
       "0.9956809018380771"
      ]
     },
     "execution_count": 122,
     "metadata": {},
     "output_type": "execute_result"
    }
   ],
   "source": [
    "tracker['Adj Close'].autocorr(lag=1)"
   ]
  },
  {
   "cell_type": "code",
   "execution_count": 120,
   "id": "d6e450d0",
   "metadata": {},
   "outputs": [
    {
     "data": {
      "text/plain": [
       "0.9912986260684893"
      ]
     },
     "execution_count": 120,
     "metadata": {},
     "output_type": "execute_result"
    }
   ],
   "source": [
    "tracker['Adj Close'].autocorr(lag=2)"
   ]
  },
  {
   "cell_type": "markdown",
   "id": "27d9ae81",
   "metadata": {},
   "source": [
    "## 20. Series.map()"
   ]
  },
  {
   "cell_type": "code",
   "execution_count": 179,
   "id": "6fa7af89",
   "metadata": {},
   "outputs": [
    {
     "data": {
      "text/plain": [
       "Date\n",
       "2022-12-28    Adj Close Price: 19898.91015625\n",
       "2022-12-29      Adj Close Price: 19741.140625\n",
       "2022-12-30    Adj Close Price: 19781.41015625\n",
       "Name: Adj Close, dtype: object"
      ]
     },
     "execution_count": 179,
     "metadata": {},
     "output_type": "execute_result"
    }
   ],
   "source": [
    "hsi['Adj Close'][-3:].map(lambda x: 'Adj Close Price: '+str(x))"
   ]
  },
  {
   "cell_type": "markdown",
   "id": "f67fe811",
   "metadata": {},
   "source": [
    "## 21. Series.apply() , DF.apply()"
   ]
  },
  {
   "cell_type": "code",
   "execution_count": 216,
   "id": "3390e675",
   "metadata": {},
   "outputs": [
    {
     "data": {
      "text/plain": [
       "Date\n",
       "2021-01-04    0.360001\n",
       "2021-01-05    0.539999\n",
       "2021-01-06    0.360001\n",
       "2021-01-07    0.299999\n",
       "2021-01-08    0.400002\n",
       "                ...   \n",
       "2022-12-22    0.269999\n",
       "2022-12-23    0.330000\n",
       "2022-12-28    0.340000\n",
       "2022-12-29    0.219999\n",
       "2022-12-30    0.299999\n",
       "Length: 493, dtype: float64"
      ]
     },
     "execution_count": 216,
     "metadata": {},
     "output_type": "execute_result"
    }
   ],
   "source": [
    "# Daily spread of tracker fund\n",
    "tracker[['High','Low']].apply(lambda x: x[0]-x[1], axis=1)"
   ]
  },
  {
   "cell_type": "markdown",
   "id": "d12f369e",
   "metadata": {},
   "source": [
    "## 22. Transform self "
   ]
  },
  {
   "cell_type": "code",
   "execution_count": 217,
   "id": "19ec2899",
   "metadata": {},
   "outputs": [],
   "source": [
    "tracker_minmax = tracker['Adj Close'].max()-tracker['Adj Close'].min()\n",
    "tracker_mean = tracker['Adj Close'].mean()"
   ]
  },
  {
   "cell_type": "code",
   "execution_count": 224,
   "id": "457a16e2",
   "metadata": {},
   "outputs": [
    {
     "data": {
      "text/plain": [
       "Date\n",
       "2021-01-04    0.219080\n",
       "2021-01-05    0.225171\n",
       "2021-01-06    0.231261\n",
       "2021-01-07    0.222735\n",
       "2021-01-08    0.242223\n",
       "                ...   \n",
       "2022-12-22   -0.258995\n",
       "2022-12-23   -0.264476\n",
       "2022-12-28   -0.243770\n",
       "2022-12-29   -0.255341\n",
       "2022-12-30   -0.251078\n",
       "Name: Adj Close, Length: 493, dtype: float64"
      ]
     },
     "execution_count": 224,
     "metadata": {},
     "output_type": "execute_result"
    }
   ],
   "source": [
    "# Standardise Adj Close \n",
    "tracker['Adj Close'].transform(lambda x: (x-tracker_mean)/tracker_minmax)"
   ]
  },
  {
   "cell_type": "markdown",
   "id": "fd80e52a",
   "metadata": {},
   "source": [
    "## 23. Merge DF on key"
   ]
  },
  {
   "cell_type": "code",
   "execution_count": 225,
   "id": "6d3f4b94",
   "metadata": {},
   "outputs": [],
   "source": [
    "member = pd.read_csv('member.csv')\n",
    "order = pd.read_csv('order.csv')"
   ]
  },
  {
   "cell_type": "code",
   "execution_count": 226,
   "id": "58ac20e1",
   "metadata": {},
   "outputs": [
    {
     "data": {
      "text/html": [
       "<div>\n",
       "<style scoped>\n",
       "    .dataframe tbody tr th:only-of-type {\n",
       "        vertical-align: middle;\n",
       "    }\n",
       "\n",
       "    .dataframe tbody tr th {\n",
       "        vertical-align: top;\n",
       "    }\n",
       "\n",
       "    .dataframe thead th {\n",
       "        text-align: right;\n",
       "    }\n",
       "</style>\n",
       "<table border=\"1\" class=\"dataframe\">\n",
       "  <thead>\n",
       "    <tr style=\"text-align: right;\">\n",
       "      <th></th>\n",
       "      <th>MemberID</th>\n",
       "      <th>Name</th>\n",
       "      <th>Gender</th>\n",
       "      <th>Age</th>\n",
       "      <th>Address</th>\n",
       "    </tr>\n",
       "  </thead>\n",
       "  <tbody>\n",
       "    <tr>\n",
       "      <th>0</th>\n",
       "      <td>101</td>\n",
       "      <td>Alvin</td>\n",
       "      <td>M</td>\n",
       "      <td>50</td>\n",
       "      <td>No 2, Pok Fu Lam Road, HongKong</td>\n",
       "    </tr>\n",
       "    <tr>\n",
       "      <th>1</th>\n",
       "      <td>102</td>\n",
       "      <td>Baron</td>\n",
       "      <td>M</td>\n",
       "      <td>25</td>\n",
       "      <td>No 30, Nathan Road</td>\n",
       "    </tr>\n",
       "    <tr>\n",
       "      <th>2</th>\n",
       "      <td>103</td>\n",
       "      <td>Christy</td>\n",
       "      <td>F</td>\n",
       "      <td>35</td>\n",
       "      <td>No 5, Mody Road, Kowloon</td>\n",
       "    </tr>\n",
       "    <tr>\n",
       "      <th>3</th>\n",
       "      <td>104</td>\n",
       "      <td>Doris</td>\n",
       "      <td>F</td>\n",
       "      <td>28</td>\n",
       "      <td>No 9, Tat Chee Road</td>\n",
       "    </tr>\n",
       "    <tr>\n",
       "      <th>4</th>\n",
       "      <td>105</td>\n",
       "      <td>Eddy</td>\n",
       "      <td>M</td>\n",
       "      <td>65</td>\n",
       "      <td>No 6, Harbour Road, Kowloon</td>\n",
       "    </tr>\n",
       "  </tbody>\n",
       "</table>\n",
       "</div>"
      ],
      "text/plain": [
       "   MemberID     Name Gender  Age                          Address\n",
       "0       101    Alvin      M   50  No 2, Pok Fu Lam Road, HongKong\n",
       "1       102    Baron      M   25               No 30, Nathan Road\n",
       "2       103  Christy      F   35         No 5, Mody Road, Kowloon\n",
       "3       104    Doris      F   28              No 9, Tat Chee Road\n",
       "4       105     Eddy      M   65      No 6, Harbour Road, Kowloon"
      ]
     },
     "execution_count": 226,
     "metadata": {},
     "output_type": "execute_result"
    }
   ],
   "source": [
    "member"
   ]
  },
  {
   "cell_type": "code",
   "execution_count": 227,
   "id": "809f4167",
   "metadata": {},
   "outputs": [
    {
     "data": {
      "text/html": [
       "<div>\n",
       "<style scoped>\n",
       "    .dataframe tbody tr th:only-of-type {\n",
       "        vertical-align: middle;\n",
       "    }\n",
       "\n",
       "    .dataframe tbody tr th {\n",
       "        vertical-align: top;\n",
       "    }\n",
       "\n",
       "    .dataframe thead th {\n",
       "        text-align: right;\n",
       "    }\n",
       "</style>\n",
       "<table border=\"1\" class=\"dataframe\">\n",
       "  <thead>\n",
       "    <tr style=\"text-align: right;\">\n",
       "      <th></th>\n",
       "      <th>OrderID</th>\n",
       "      <th>OrderDate</th>\n",
       "      <th>MemberID</th>\n",
       "      <th>OrderAmount</th>\n",
       "    </tr>\n",
       "  </thead>\n",
       "  <tbody>\n",
       "    <tr>\n",
       "      <th>0</th>\n",
       "      <td>218</td>\n",
       "      <td>20/1/2023</td>\n",
       "      <td>103</td>\n",
       "      <td>1860.5</td>\n",
       "    </tr>\n",
       "    <tr>\n",
       "      <th>1</th>\n",
       "      <td>302</td>\n",
       "      <td>22/1/2023</td>\n",
       "      <td>105</td>\n",
       "      <td>890.4</td>\n",
       "    </tr>\n",
       "    <tr>\n",
       "      <th>2</th>\n",
       "      <td>369</td>\n",
       "      <td>22/1/2023</td>\n",
       "      <td>101</td>\n",
       "      <td>560.9</td>\n",
       "    </tr>\n",
       "  </tbody>\n",
       "</table>\n",
       "</div>"
      ],
      "text/plain": [
       "   OrderID  OrderDate  MemberID  OrderAmount\n",
       "0      218  20/1/2023       103       1860.5\n",
       "1      302  22/1/2023       105        890.4\n",
       "2      369  22/1/2023       101        560.9"
      ]
     },
     "execution_count": 227,
     "metadata": {},
     "output_type": "execute_result"
    }
   ],
   "source": [
    "order"
   ]
  },
  {
   "cell_type": "code",
   "execution_count": 231,
   "id": "9dc82506",
   "metadata": {},
   "outputs": [
    {
     "data": {
      "text/html": [
       "<div>\n",
       "<style scoped>\n",
       "    .dataframe tbody tr th:only-of-type {\n",
       "        vertical-align: middle;\n",
       "    }\n",
       "\n",
       "    .dataframe tbody tr th {\n",
       "        vertical-align: top;\n",
       "    }\n",
       "\n",
       "    .dataframe thead th {\n",
       "        text-align: right;\n",
       "    }\n",
       "</style>\n",
       "<table border=\"1\" class=\"dataframe\">\n",
       "  <thead>\n",
       "    <tr style=\"text-align: right;\">\n",
       "      <th></th>\n",
       "      <th>OrderID</th>\n",
       "      <th>OrderDate</th>\n",
       "      <th>MemberID</th>\n",
       "      <th>OrderAmount</th>\n",
       "      <th>Name</th>\n",
       "      <th>Gender</th>\n",
       "      <th>Age</th>\n",
       "      <th>Address</th>\n",
       "    </tr>\n",
       "  </thead>\n",
       "  <tbody>\n",
       "    <tr>\n",
       "      <th>0</th>\n",
       "      <td>218</td>\n",
       "      <td>20/1/2023</td>\n",
       "      <td>103</td>\n",
       "      <td>1860.5</td>\n",
       "      <td>Christy</td>\n",
       "      <td>F</td>\n",
       "      <td>35</td>\n",
       "      <td>No 5, Mody Road, Kowloon</td>\n",
       "    </tr>\n",
       "    <tr>\n",
       "      <th>1</th>\n",
       "      <td>302</td>\n",
       "      <td>22/1/2023</td>\n",
       "      <td>105</td>\n",
       "      <td>890.4</td>\n",
       "      <td>Eddy</td>\n",
       "      <td>M</td>\n",
       "      <td>65</td>\n",
       "      <td>No 6, Harbour Road, Kowloon</td>\n",
       "    </tr>\n",
       "    <tr>\n",
       "      <th>2</th>\n",
       "      <td>369</td>\n",
       "      <td>22/1/2023</td>\n",
       "      <td>101</td>\n",
       "      <td>560.9</td>\n",
       "      <td>Alvin</td>\n",
       "      <td>M</td>\n",
       "      <td>50</td>\n",
       "      <td>No 2, Pok Fu Lam Road, HongKong</td>\n",
       "    </tr>\n",
       "  </tbody>\n",
       "</table>\n",
       "</div>"
      ],
      "text/plain": [
       "   OrderID  OrderDate  MemberID  OrderAmount     Name Gender  Age  \\\n",
       "0      218  20/1/2023       103       1860.5  Christy      F   35   \n",
       "1      302  22/1/2023       105        890.4     Eddy      M   65   \n",
       "2      369  22/1/2023       101        560.9    Alvin      M   50   \n",
       "\n",
       "                           Address  \n",
       "0         No 5, Mody Road, Kowloon  \n",
       "1      No 6, Harbour Road, Kowloon  \n",
       "2  No 2, Pok Fu Lam Road, HongKong  "
      ]
     },
     "execution_count": 231,
     "metadata": {},
     "output_type": "execute_result"
    }
   ],
   "source": [
    "order_full = order.merge(member, how='left', on='MemberID')\n",
    "order_full"
   ]
  },
  {
   "cell_type": "markdown",
   "id": "2c858600",
   "metadata": {},
   "source": [
    "## 24. Filter DF"
   ]
  },
  {
   "cell_type": "code",
   "execution_count": 237,
   "id": "5fe9193e",
   "metadata": {},
   "outputs": [
    {
     "data": {
      "text/html": [
       "<div>\n",
       "<style scoped>\n",
       "    .dataframe tbody tr th:only-of-type {\n",
       "        vertical-align: middle;\n",
       "    }\n",
       "\n",
       "    .dataframe tbody tr th {\n",
       "        vertical-align: top;\n",
       "    }\n",
       "\n",
       "    .dataframe thead th {\n",
       "        text-align: right;\n",
       "    }\n",
       "</style>\n",
       "<table border=\"1\" class=\"dataframe\">\n",
       "  <thead>\n",
       "    <tr style=\"text-align: right;\">\n",
       "      <th></th>\n",
       "      <th>OrderID</th>\n",
       "      <th>OrderDate</th>\n",
       "      <th>MemberID</th>\n",
       "      <th>OrderAmount</th>\n",
       "      <th>Name</th>\n",
       "      <th>Gender</th>\n",
       "      <th>Age</th>\n",
       "      <th>Address</th>\n",
       "    </tr>\n",
       "  </thead>\n",
       "  <tbody>\n",
       "    <tr>\n",
       "      <th>0</th>\n",
       "      <td>218</td>\n",
       "      <td>20/1/2023</td>\n",
       "      <td>103</td>\n",
       "      <td>1860.5</td>\n",
       "      <td>Christy</td>\n",
       "      <td>F</td>\n",
       "      <td>35</td>\n",
       "      <td>No 5, Mody Road, Kowloon</td>\n",
       "    </tr>\n",
       "    <tr>\n",
       "      <th>1</th>\n",
       "      <td>302</td>\n",
       "      <td>22/1/2023</td>\n",
       "      <td>105</td>\n",
       "      <td>890.4</td>\n",
       "      <td>Eddy</td>\n",
       "      <td>M</td>\n",
       "      <td>65</td>\n",
       "      <td>No 6, Harbour Road, Kowloon</td>\n",
       "    </tr>\n",
       "    <tr>\n",
       "      <th>2</th>\n",
       "      <td>369</td>\n",
       "      <td>22/1/2023</td>\n",
       "      <td>101</td>\n",
       "      <td>560.9</td>\n",
       "      <td>Alvin</td>\n",
       "      <td>M</td>\n",
       "      <td>50</td>\n",
       "      <td>No 2, Pok Fu Lam Road, HongKong</td>\n",
       "    </tr>\n",
       "  </tbody>\n",
       "</table>\n",
       "</div>"
      ],
      "text/plain": [
       "   OrderID  OrderDate  MemberID  OrderAmount     Name Gender  Age  \\\n",
       "0      218  20/1/2023       103       1860.5  Christy      F   35   \n",
       "1      302  22/1/2023       105        890.4     Eddy      M   65   \n",
       "2      369  22/1/2023       101        560.9    Alvin      M   50   \n",
       "\n",
       "                           Address  \n",
       "0         No 5, Mody Road, Kowloon  \n",
       "1      No 6, Harbour Road, Kowloon  \n",
       "2  No 2, Pok Fu Lam Road, HongKong  "
      ]
     },
     "execution_count": 237,
     "metadata": {},
     "output_type": "execute_result"
    }
   ],
   "source": [
    "order_full"
   ]
  },
  {
   "cell_type": "code",
   "execution_count": 233,
   "id": "610cf193",
   "metadata": {},
   "outputs": [
    {
     "data": {
      "text/plain": [
       "1    890.4\n",
       "Name: OrderAmount, dtype: float64"
      ]
     },
     "execution_count": 233,
     "metadata": {},
     "output_type": "execute_result"
    }
   ],
   "source": [
    "# Filter a column with condition\n",
    "order_full['OrderAmount'][order_full['MemberID']==105]"
   ]
  },
  {
   "cell_type": "code",
   "execution_count": 236,
   "id": "9b5873a8",
   "metadata": {},
   "outputs": [
    {
     "data": {
      "text/html": [
       "<div>\n",
       "<style scoped>\n",
       "    .dataframe tbody tr th:only-of-type {\n",
       "        vertical-align: middle;\n",
       "    }\n",
       "\n",
       "    .dataframe tbody tr th {\n",
       "        vertical-align: top;\n",
       "    }\n",
       "\n",
       "    .dataframe thead th {\n",
       "        text-align: right;\n",
       "    }\n",
       "</style>\n",
       "<table border=\"1\" class=\"dataframe\">\n",
       "  <thead>\n",
       "    <tr style=\"text-align: right;\">\n",
       "      <th></th>\n",
       "      <th>Name</th>\n",
       "      <th>OrderDate</th>\n",
       "      <th>OrderAmount</th>\n",
       "    </tr>\n",
       "  </thead>\n",
       "  <tbody>\n",
       "    <tr>\n",
       "      <th>2</th>\n",
       "      <td>Alvin</td>\n",
       "      <td>22/1/2023</td>\n",
       "      <td>560.9</td>\n",
       "    </tr>\n",
       "  </tbody>\n",
       "</table>\n",
       "</div>"
      ],
      "text/plain": [
       "    Name  OrderDate  OrderAmount\n",
       "2  Alvin  22/1/2023        560.9"
      ]
     },
     "execution_count": 236,
     "metadata": {},
     "output_type": "execute_result"
    }
   ],
   "source": [
    "# Filter a column with condition in string column \n",
    "order_full[['Name','OrderDate','OrderAmount']][order_full[\"Address\"].str.contains(\"HongKong\")]"
   ]
  },
  {
   "cell_type": "markdown",
   "id": "9b890a51",
   "metadata": {},
   "source": [
    "## 25. Sum(), Count()"
   ]
  },
  {
   "cell_type": "code",
   "execution_count": 243,
   "id": "6e88590e",
   "metadata": {},
   "outputs": [
    {
     "data": {
      "text/html": [
       "<div>\n",
       "<style scoped>\n",
       "    .dataframe tbody tr th:only-of-type {\n",
       "        vertical-align: middle;\n",
       "    }\n",
       "\n",
       "    .dataframe tbody tr th {\n",
       "        vertical-align: top;\n",
       "    }\n",
       "\n",
       "    .dataframe thead th {\n",
       "        text-align: right;\n",
       "    }\n",
       "</style>\n",
       "<table border=\"1\" class=\"dataframe\">\n",
       "  <thead>\n",
       "    <tr style=\"text-align: right;\">\n",
       "      <th></th>\n",
       "      <th>OrderID</th>\n",
       "      <th>OrderDate</th>\n",
       "      <th>MemberID</th>\n",
       "      <th>OrderAmount</th>\n",
       "      <th>Name</th>\n",
       "      <th>Gender</th>\n",
       "      <th>Age</th>\n",
       "      <th>Address</th>\n",
       "    </tr>\n",
       "  </thead>\n",
       "  <tbody>\n",
       "    <tr>\n",
       "      <th>0</th>\n",
       "      <td>218</td>\n",
       "      <td>20/1/2023</td>\n",
       "      <td>103</td>\n",
       "      <td>1860.5</td>\n",
       "      <td>Christy</td>\n",
       "      <td>F</td>\n",
       "      <td>35</td>\n",
       "      <td>No 5, Mody Road, Kowloon</td>\n",
       "    </tr>\n",
       "    <tr>\n",
       "      <th>1</th>\n",
       "      <td>302</td>\n",
       "      <td>22/1/2023</td>\n",
       "      <td>105</td>\n",
       "      <td>890.4</td>\n",
       "      <td>Eddy</td>\n",
       "      <td>M</td>\n",
       "      <td>65</td>\n",
       "      <td>No 6, Harbour Road, Kowloon</td>\n",
       "    </tr>\n",
       "    <tr>\n",
       "      <th>2</th>\n",
       "      <td>369</td>\n",
       "      <td>22/1/2023</td>\n",
       "      <td>101</td>\n",
       "      <td>560.9</td>\n",
       "      <td>Alvin</td>\n",
       "      <td>M</td>\n",
       "      <td>50</td>\n",
       "      <td>No 2, Pok Fu Lam Road, HongKong</td>\n",
       "    </tr>\n",
       "  </tbody>\n",
       "</table>\n",
       "</div>"
      ],
      "text/plain": [
       "   OrderID  OrderDate  MemberID  OrderAmount     Name Gender  Age  \\\n",
       "0      218  20/1/2023       103       1860.5  Christy      F   35   \n",
       "1      302  22/1/2023       105        890.4     Eddy      M   65   \n",
       "2      369  22/1/2023       101        560.9    Alvin      M   50   \n",
       "\n",
       "                           Address  \n",
       "0         No 5, Mody Road, Kowloon  \n",
       "1      No 6, Harbour Road, Kowloon  \n",
       "2  No 2, Pok Fu Lam Road, HongKong  "
      ]
     },
     "execution_count": 243,
     "metadata": {},
     "output_type": "execute_result"
    }
   ],
   "source": [
    "order_full"
   ]
  },
  {
   "cell_type": "code",
   "execution_count": 241,
   "id": "520eb8dd",
   "metadata": {},
   "outputs": [
    {
     "data": {
      "text/plain": [
       "3311.8"
      ]
     },
     "execution_count": 241,
     "metadata": {},
     "output_type": "execute_result"
    }
   ],
   "source": [
    "order_full['OrderAmount'].sum()"
   ]
  },
  {
   "cell_type": "code",
   "execution_count": 242,
   "id": "8f912917",
   "metadata": {},
   "outputs": [
    {
     "data": {
      "text/plain": [
       "3"
      ]
     },
     "execution_count": 242,
     "metadata": {},
     "output_type": "execute_result"
    }
   ],
   "source": [
    "order_full['OrderAmount'].count()"
   ]
  },
  {
   "cell_type": "markdown",
   "id": "76b36a50",
   "metadata": {},
   "source": [
    "## 26. Describe and information of DF"
   ]
  },
  {
   "cell_type": "code",
   "execution_count": 239,
   "id": "e7382fab",
   "metadata": {},
   "outputs": [
    {
     "data": {
      "text/html": [
       "<div>\n",
       "<style scoped>\n",
       "    .dataframe tbody tr th:only-of-type {\n",
       "        vertical-align: middle;\n",
       "    }\n",
       "\n",
       "    .dataframe tbody tr th {\n",
       "        vertical-align: top;\n",
       "    }\n",
       "\n",
       "    .dataframe thead th {\n",
       "        text-align: right;\n",
       "    }\n",
       "</style>\n",
       "<table border=\"1\" class=\"dataframe\">\n",
       "  <thead>\n",
       "    <tr style=\"text-align: right;\">\n",
       "      <th></th>\n",
       "      <th>Open</th>\n",
       "      <th>High</th>\n",
       "      <th>Low</th>\n",
       "      <th>Close</th>\n",
       "      <th>Adj Close</th>\n",
       "      <th>Volume</th>\n",
       "    </tr>\n",
       "  </thead>\n",
       "  <tbody>\n",
       "    <tr>\n",
       "      <th>count</th>\n",
       "      <td>493.000000</td>\n",
       "      <td>493.000000</td>\n",
       "      <td>493.000000</td>\n",
       "      <td>493.000000</td>\n",
       "      <td>493.000000</td>\n",
       "      <td>4.930000e+02</td>\n",
       "    </tr>\n",
       "    <tr>\n",
       "      <th>mean</th>\n",
       "      <td>24.051014</td>\n",
       "      <td>24.242819</td>\n",
       "      <td>23.827809</td>\n",
       "      <td>24.042698</td>\n",
       "      <td>24.042698</td>\n",
       "      <td>1.672044e+08</td>\n",
       "    </tr>\n",
       "    <tr>\n",
       "      <th>std</th>\n",
       "      <td>4.024353</td>\n",
       "      <td>4.015476</td>\n",
       "      <td>4.019117</td>\n",
       "      <td>4.013888</td>\n",
       "      <td>4.013888</td>\n",
       "      <td>1.080651e+08</td>\n",
       "    </tr>\n",
       "    <tr>\n",
       "      <th>min</th>\n",
       "      <td>14.890000</td>\n",
       "      <td>15.200000</td>\n",
       "      <td>14.680000</td>\n",
       "      <td>14.820000</td>\n",
       "      <td>14.820000</td>\n",
       "      <td>0.000000e+00</td>\n",
       "    </tr>\n",
       "    <tr>\n",
       "      <th>25%</th>\n",
       "      <td>20.620001</td>\n",
       "      <td>20.799999</td>\n",
       "      <td>20.459999</td>\n",
       "      <td>20.700001</td>\n",
       "      <td>20.700001</td>\n",
       "      <td>1.042545e+08</td>\n",
       "    </tr>\n",
       "    <tr>\n",
       "      <th>50%</th>\n",
       "      <td>24.260000</td>\n",
       "      <td>24.420000</td>\n",
       "      <td>24.100000</td>\n",
       "      <td>24.219999</td>\n",
       "      <td>24.219999</td>\n",
       "      <td>1.376730e+08</td>\n",
       "    </tr>\n",
       "    <tr>\n",
       "      <th>75%</th>\n",
       "      <td>28.120001</td>\n",
       "      <td>28.280001</td>\n",
       "      <td>27.920000</td>\n",
       "      <td>28.120001</td>\n",
       "      <td>28.120001</td>\n",
       "      <td>1.968548e+08</td>\n",
       "    </tr>\n",
       "    <tr>\n",
       "      <th>max</th>\n",
       "      <td>31.299999</td>\n",
       "      <td>31.340000</td>\n",
       "      <td>30.719999</td>\n",
       "      <td>31.240000</td>\n",
       "      <td>31.240000</td>\n",
       "      <td>9.593655e+08</td>\n",
       "    </tr>\n",
       "  </tbody>\n",
       "</table>\n",
       "</div>"
      ],
      "text/plain": [
       "             Open        High         Low       Close   Adj Close  \\\n",
       "count  493.000000  493.000000  493.000000  493.000000  493.000000   \n",
       "mean    24.051014   24.242819   23.827809   24.042698   24.042698   \n",
       "std      4.024353    4.015476    4.019117    4.013888    4.013888   \n",
       "min     14.890000   15.200000   14.680000   14.820000   14.820000   \n",
       "25%     20.620001   20.799999   20.459999   20.700001   20.700001   \n",
       "50%     24.260000   24.420000   24.100000   24.219999   24.219999   \n",
       "75%     28.120001   28.280001   27.920000   28.120001   28.120001   \n",
       "max     31.299999   31.340000   30.719999   31.240000   31.240000   \n",
       "\n",
       "             Volume  \n",
       "count  4.930000e+02  \n",
       "mean   1.672044e+08  \n",
       "std    1.080651e+08  \n",
       "min    0.000000e+00  \n",
       "25%    1.042545e+08  \n",
       "50%    1.376730e+08  \n",
       "75%    1.968548e+08  \n",
       "max    9.593655e+08  "
      ]
     },
     "execution_count": 239,
     "metadata": {},
     "output_type": "execute_result"
    }
   ],
   "source": [
    "tracker.describe()"
   ]
  },
  {
   "cell_type": "code",
   "execution_count": 240,
   "id": "2d3d0e85",
   "metadata": {},
   "outputs": [
    {
     "name": "stdout",
     "output_type": "stream",
     "text": [
      "<class 'pandas.core.frame.DataFrame'>\n",
      "DatetimeIndex: 493 entries, 2021-01-04 to 2022-12-30\n",
      "Data columns (total 6 columns):\n",
      " #   Column     Non-Null Count  Dtype  \n",
      "---  ------     --------------  -----  \n",
      " 0   Open       493 non-null    float64\n",
      " 1   High       493 non-null    float64\n",
      " 2   Low        493 non-null    float64\n",
      " 3   Close      493 non-null    float64\n",
      " 4   Adj Close  493 non-null    float64\n",
      " 5   Volume     493 non-null    int64  \n",
      "dtypes: float64(5), int64(1)\n",
      "memory usage: 43.1 KB\n"
     ]
    }
   ],
   "source": [
    "tracker.info()"
   ]
  },
  {
   "cell_type": "markdown",
   "id": "3a44a516",
   "metadata": {},
   "source": [
    "## 27. Check NaN"
   ]
  },
  {
   "cell_type": "code",
   "execution_count": 253,
   "id": "9a4753df",
   "metadata": {},
   "outputs": [
    {
     "data": {
      "text/html": [
       "<div>\n",
       "<style scoped>\n",
       "    .dataframe tbody tr th:only-of-type {\n",
       "        vertical-align: middle;\n",
       "    }\n",
       "\n",
       "    .dataframe tbody tr th {\n",
       "        vertical-align: top;\n",
       "    }\n",
       "\n",
       "    .dataframe thead th {\n",
       "        text-align: right;\n",
       "    }\n",
       "</style>\n",
       "<table border=\"1\" class=\"dataframe\">\n",
       "  <thead>\n",
       "    <tr style=\"text-align: right;\">\n",
       "      <th></th>\n",
       "      <th>col1</th>\n",
       "      <th>col2</th>\n",
       "      <th>col3</th>\n",
       "    </tr>\n",
       "  </thead>\n",
       "  <tbody>\n",
       "    <tr>\n",
       "      <th>0</th>\n",
       "      <td>dog</td>\n",
       "      <td>NaN</td>\n",
       "      <td>fly</td>\n",
       "    </tr>\n",
       "    <tr>\n",
       "      <th>1</th>\n",
       "      <td>1.0</td>\n",
       "      <td>NaN</td>\n",
       "      <td>None</td>\n",
       "    </tr>\n",
       "  </tbody>\n",
       "</table>\n",
       "</div>"
      ],
      "text/plain": [
       "  col1  col2  col3\n",
       "0  dog   NaN   fly\n",
       "1  1.0   NaN  None"
      ]
     },
     "execution_count": 253,
     "metadata": {},
     "output_type": "execute_result"
    }
   ],
   "source": [
    "s = pd.DataFrame([['dog', None, 'fly'],[1., np.NaN, None]], \n",
    "                 columns=['col1','col2','col3'])\n",
    "s"
   ]
  },
  {
   "cell_type": "code",
   "execution_count": 254,
   "id": "a696208f",
   "metadata": {},
   "outputs": [
    {
     "data": {
      "text/html": [
       "<div>\n",
       "<style scoped>\n",
       "    .dataframe tbody tr th:only-of-type {\n",
       "        vertical-align: middle;\n",
       "    }\n",
       "\n",
       "    .dataframe tbody tr th {\n",
       "        vertical-align: top;\n",
       "    }\n",
       "\n",
       "    .dataframe thead th {\n",
       "        text-align: right;\n",
       "    }\n",
       "</style>\n",
       "<table border=\"1\" class=\"dataframe\">\n",
       "  <thead>\n",
       "    <tr style=\"text-align: right;\">\n",
       "      <th></th>\n",
       "      <th>col1</th>\n",
       "      <th>col2</th>\n",
       "      <th>col3</th>\n",
       "    </tr>\n",
       "  </thead>\n",
       "  <tbody>\n",
       "    <tr>\n",
       "      <th>0</th>\n",
       "      <td>False</td>\n",
       "      <td>True</td>\n",
       "      <td>False</td>\n",
       "    </tr>\n",
       "    <tr>\n",
       "      <th>1</th>\n",
       "      <td>False</td>\n",
       "      <td>True</td>\n",
       "      <td>True</td>\n",
       "    </tr>\n",
       "  </tbody>\n",
       "</table>\n",
       "</div>"
      ],
      "text/plain": [
       "    col1  col2   col3\n",
       "0  False  True  False\n",
       "1  False  True   True"
      ]
     },
     "execution_count": 254,
     "metadata": {},
     "output_type": "execute_result"
    }
   ],
   "source": [
    "s.isna()"
   ]
  },
  {
   "cell_type": "code",
   "execution_count": 255,
   "id": "76bab5b7",
   "metadata": {},
   "outputs": [
    {
     "data": {
      "text/plain": [
       "col1    0\n",
       "col2    2\n",
       "col3    1\n",
       "dtype: int64"
      ]
     },
     "execution_count": 255,
     "metadata": {},
     "output_type": "execute_result"
    }
   ],
   "source": [
    "s.isna().sum()"
   ]
  },
  {
   "cell_type": "markdown",
   "id": "97591bee",
   "metadata": {},
   "source": [
    "## 28. Series.unique(), Series.nunique(), pd.factorize()"
   ]
  },
  {
   "cell_type": "code",
   "execution_count": 257,
   "id": "807eb582",
   "metadata": {},
   "outputs": [
    {
     "data": {
      "text/plain": [
       "0    d\n",
       "1    c\n",
       "2    a\n",
       "3    a\n",
       "4    b\n",
       "5    c\n",
       "dtype: object"
      ]
     },
     "execution_count": 257,
     "metadata": {},
     "output_type": "execute_result"
    }
   ],
   "source": [
    "m = pd.Series(['d','c','a','a','b','c'])\n",
    "m"
   ]
  },
  {
   "cell_type": "code",
   "execution_count": 258,
   "id": "2beb3d6d",
   "metadata": {},
   "outputs": [
    {
     "data": {
      "text/plain": [
       "array(['d', 'c', 'a', 'b'], dtype=object)"
      ]
     },
     "execution_count": 258,
     "metadata": {},
     "output_type": "execute_result"
    }
   ],
   "source": [
    "m.unique()"
   ]
  },
  {
   "cell_type": "code",
   "execution_count": 259,
   "id": "6c8f843a",
   "metadata": {},
   "outputs": [
    {
     "data": {
      "text/plain": [
       "4"
      ]
     },
     "execution_count": 259,
     "metadata": {},
     "output_type": "execute_result"
    }
   ],
   "source": [
    "m.nunique()"
   ]
  },
  {
   "cell_type": "code",
   "execution_count": 261,
   "id": "b2a33137",
   "metadata": {},
   "outputs": [
    {
     "name": "stdout",
     "output_type": "stream",
     "text": [
      "[0 1 2 2 3 1]\n",
      "Index(['d', 'c', 'a', 'b'], dtype='object')\n"
     ]
    }
   ],
   "source": [
    "codes, labels = pd.factorize(m)\n",
    "print(codes)\n",
    "print(labels)"
   ]
  },
  {
   "cell_type": "markdown",
   "id": "5f36b69a",
   "metadata": {},
   "source": [
    "## 29. Fill NaN"
   ]
  },
  {
   "cell_type": "code",
   "execution_count": 262,
   "id": "17f7ddd2",
   "metadata": {},
   "outputs": [
    {
     "data": {
      "text/plain": [
       "0    1.0\n",
       "1    2.0\n",
       "2    NaN\n",
       "3    3.0\n",
       "4    NaN\n",
       "5    4.0\n",
       "dtype: float64"
      ]
     },
     "execution_count": 262,
     "metadata": {},
     "output_type": "execute_result"
    }
   ],
   "source": [
    "m = pd.Series([1,2,np.nan,3,np.nan,4])\n",
    "m"
   ]
  },
  {
   "cell_type": "code",
   "execution_count": 264,
   "id": "67e69665",
   "metadata": {},
   "outputs": [
    {
     "data": {
      "text/plain": [
       "0    1.0\n",
       "1    2.0\n",
       "3    3.0\n",
       "5    4.0\n",
       "dtype: float64"
      ]
     },
     "execution_count": 264,
     "metadata": {},
     "output_type": "execute_result"
    }
   ],
   "source": [
    "# erase NaN row\n",
    "m.dropna()"
   ]
  },
  {
   "cell_type": "code",
   "execution_count": 263,
   "id": "812ff50e",
   "metadata": {},
   "outputs": [
    {
     "data": {
      "text/plain": [
       "0    1.0\n",
       "1    2.0\n",
       "2    0.0\n",
       "3    3.0\n",
       "4    0.0\n",
       "5    4.0\n",
       "dtype: float64"
      ]
     },
     "execution_count": 263,
     "metadata": {},
     "output_type": "execute_result"
    }
   ],
   "source": [
    "# fill with zero\n",
    "m.fillna(0)"
   ]
  },
  {
   "cell_type": "code",
   "execution_count": 268,
   "id": "5ef600de",
   "metadata": {
    "scrolled": true
   },
   "outputs": [
    {
     "data": {
      "text/plain": [
       "0    1.0\n",
       "1    2.0\n",
       "2    2.5\n",
       "3    3.0\n",
       "4    2.5\n",
       "5    4.0\n",
       "dtype: float64"
      ]
     },
     "execution_count": 268,
     "metadata": {},
     "output_type": "execute_result"
    }
   ],
   "source": [
    "# fill with mean\n",
    "m.fillna(m.mean())"
   ]
  },
  {
   "cell_type": "code",
   "execution_count": 270,
   "id": "10f2beca",
   "metadata": {},
   "outputs": [
    {
     "data": {
      "text/plain": [
       "0    1.0\n",
       "1    2.0\n",
       "2    2.5\n",
       "3    3.0\n",
       "4    2.5\n",
       "5    4.0\n",
       "dtype: float64"
      ]
     },
     "execution_count": 270,
     "metadata": {},
     "output_type": "execute_result"
    }
   ],
   "source": [
    "# fill with median\n",
    "m.fillna(m.median())"
   ]
  },
  {
   "cell_type": "code",
   "execution_count": 265,
   "id": "dda74988",
   "metadata": {},
   "outputs": [
    {
     "data": {
      "text/plain": [
       "0    1.0\n",
       "1    2.0\n",
       "2    2.0\n",
       "3    3.0\n",
       "4    3.0\n",
       "5    4.0\n",
       "dtype: float64"
      ]
     },
     "execution_count": 265,
     "metadata": {},
     "output_type": "execute_result"
    }
   ],
   "source": [
    "# fill with previous number\n",
    "m.ffill()"
   ]
  },
  {
   "cell_type": "code",
   "execution_count": 266,
   "id": "4c7cef99",
   "metadata": {},
   "outputs": [
    {
     "data": {
      "text/plain": [
       "0    1.0\n",
       "1    2.0\n",
       "2    3.0\n",
       "3    3.0\n",
       "4    4.0\n",
       "5    4.0\n",
       "dtype: float64"
      ]
     },
     "execution_count": 266,
     "metadata": {},
     "output_type": "execute_result"
    }
   ],
   "source": [
    "# fill with back number\n",
    "m.bfill()"
   ]
  },
  {
   "cell_type": "markdown",
   "id": "5a06e2a0",
   "metadata": {},
   "source": [
    "## 30. Series.where() and Series.mask()"
   ]
  },
  {
   "cell_type": "code",
   "execution_count": 272,
   "id": "93e4f82a",
   "metadata": {},
   "outputs": [
    {
     "data": {
      "text/plain": [
       "0    1\n",
       "1    2\n",
       "2    3\n",
       "3    4\n",
       "4    5\n",
       "dtype: int64"
      ]
     },
     "execution_count": 272,
     "metadata": {},
     "output_type": "execute_result"
    }
   ],
   "source": [
    "p = pd.Series([1,2,3,4,5])\n",
    "p"
   ]
  },
  {
   "cell_type": "code",
   "execution_count": 281,
   "id": "926b56a8",
   "metadata": {},
   "outputs": [
    {
     "data": {
      "text/plain": [
       "0                      1\n",
       "1                      2\n",
       "2                      3\n",
       "3    where p<=3 is false\n",
       "4    where p<=3 is false\n",
       "dtype: object"
      ]
     },
     "execution_count": 281,
     "metadata": {},
     "output_type": "execute_result"
    }
   ],
   "source": [
    "# Replace values where the condition is False\n",
    "p.where(p<=3, 'where p<=3 is false')"
   ]
  },
  {
   "cell_type": "code",
   "execution_count": 283,
   "id": "9c23de62",
   "metadata": {},
   "outputs": [
    {
     "data": {
      "text/plain": [
       "0    where p<=3 is true\n",
       "1    where p<=3 is true\n",
       "2    where p<=3 is true\n",
       "3                     4\n",
       "4                     5\n",
       "dtype: object"
      ]
     },
     "execution_count": 283,
     "metadata": {},
     "output_type": "execute_result"
    }
   ],
   "source": [
    "# Replace values where the condition is True\n",
    "p.mask(p<=3, 'where p<=3 is true')"
   ]
  },
  {
   "cell_type": "markdown",
   "id": "e9dfce4c",
   "metadata": {},
   "source": [
    "## 31. df.at and df.iat \n",
    "<pre>at and iat are functions meant to access a scalar, that is, a single element in the dataframe.<pre>"
   ]
  },
  {
   "cell_type": "code",
   "execution_count": 284,
   "id": "c30cfa56",
   "metadata": {},
   "outputs": [
    {
     "data": {
      "text/html": [
       "<div>\n",
       "<style scoped>\n",
       "    .dataframe tbody tr th:only-of-type {\n",
       "        vertical-align: middle;\n",
       "    }\n",
       "\n",
       "    .dataframe tbody tr th {\n",
       "        vertical-align: top;\n",
       "    }\n",
       "\n",
       "    .dataframe thead th {\n",
       "        text-align: right;\n",
       "    }\n",
       "</style>\n",
       "<table border=\"1\" class=\"dataframe\">\n",
       "  <thead>\n",
       "    <tr style=\"text-align: right;\">\n",
       "      <th></th>\n",
       "      <th>MemberID</th>\n",
       "      <th>Name</th>\n",
       "      <th>Gender</th>\n",
       "      <th>Age</th>\n",
       "      <th>Address</th>\n",
       "    </tr>\n",
       "  </thead>\n",
       "  <tbody>\n",
       "    <tr>\n",
       "      <th>0</th>\n",
       "      <td>101</td>\n",
       "      <td>Alvin</td>\n",
       "      <td>M</td>\n",
       "      <td>50</td>\n",
       "      <td>No 2, Pok Fu Lam Road, HongKong</td>\n",
       "    </tr>\n",
       "    <tr>\n",
       "      <th>1</th>\n",
       "      <td>102</td>\n",
       "      <td>Baron</td>\n",
       "      <td>M</td>\n",
       "      <td>25</td>\n",
       "      <td>No 30, Nathan Road</td>\n",
       "    </tr>\n",
       "    <tr>\n",
       "      <th>2</th>\n",
       "      <td>103</td>\n",
       "      <td>Christy</td>\n",
       "      <td>F</td>\n",
       "      <td>35</td>\n",
       "      <td>No 5, Mody Road, Kowloon</td>\n",
       "    </tr>\n",
       "    <tr>\n",
       "      <th>3</th>\n",
       "      <td>104</td>\n",
       "      <td>Doris</td>\n",
       "      <td>F</td>\n",
       "      <td>28</td>\n",
       "      <td>No 9, Tat Chee Road</td>\n",
       "    </tr>\n",
       "    <tr>\n",
       "      <th>4</th>\n",
       "      <td>105</td>\n",
       "      <td>Eddy</td>\n",
       "      <td>M</td>\n",
       "      <td>65</td>\n",
       "      <td>No 6, Harbour Road, Kowloon</td>\n",
       "    </tr>\n",
       "  </tbody>\n",
       "</table>\n",
       "</div>"
      ],
      "text/plain": [
       "   MemberID     Name Gender  Age                          Address\n",
       "0       101    Alvin      M   50  No 2, Pok Fu Lam Road, HongKong\n",
       "1       102    Baron      M   25               No 30, Nathan Road\n",
       "2       103  Christy      F   35         No 5, Mody Road, Kowloon\n",
       "3       104    Doris      F   28              No 9, Tat Chee Road\n",
       "4       105     Eddy      M   65      No 6, Harbour Road, Kowloon"
      ]
     },
     "execution_count": 284,
     "metadata": {},
     "output_type": "execute_result"
    }
   ],
   "source": [
    "member"
   ]
  },
  {
   "cell_type": "code",
   "execution_count": 286,
   "id": "b9f14ef1",
   "metadata": {},
   "outputs": [
    {
     "data": {
      "text/plain": [
       "'Baron'"
      ]
     },
     "execution_count": 286,
     "metadata": {},
     "output_type": "execute_result"
    }
   ],
   "source": [
    "# access by index label\n",
    "member.at[1, 'Name']"
   ]
  },
  {
   "cell_type": "code",
   "execution_count": 287,
   "id": "d341a1dd",
   "metadata": {},
   "outputs": [
    {
     "data": {
      "text/plain": [
       "'No 9, Tat Chee Road'"
      ]
     },
     "execution_count": 287,
     "metadata": {},
     "output_type": "execute_result"
    }
   ],
   "source": [
    "# access by index number\n",
    "member.iat[3, 4]"
   ]
  },
  {
   "cell_type": "code",
   "execution_count": null,
   "id": "0458e342",
   "metadata": {},
   "outputs": [],
   "source": []
  }
 ],
 "metadata": {
  "kernelspec": {
   "display_name": "Python 3 (ipykernel)",
   "language": "python",
   "name": "python3"
  },
  "language_info": {
   "codemirror_mode": {
    "name": "ipython",
    "version": 3
   },
   "file_extension": ".py",
   "mimetype": "text/x-python",
   "name": "python",
   "nbconvert_exporter": "python",
   "pygments_lexer": "ipython3",
   "version": "3.11.7"
  }
 },
 "nbformat": 4,
 "nbformat_minor": 5
}
