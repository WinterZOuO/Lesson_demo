{
 "cells": [
  {
   "cell_type": "code",
   "execution_count": 3,
   "id": "715fa145",
   "metadata": {},
   "outputs": [],
   "source": [
    "import numpy as np"
   ]
  },
  {
   "cell_type": "markdown",
   "id": "b6f91b02",
   "metadata": {},
   "source": [
    "## 38. Load local data file (no missing data inside)\n",
    "<pre>Given Input:\n",
    "local filename: irsi.data\n",
    "\n",
    "Desired Output:\n",
    "array([(5.1, 3.5, 1.4, 0.2, 'Iris-setosa'),\n",
    "       (4.9, 3. , 1.4, 0.2, 'Iris-setosa'),\n",
    "       (4.7, 3.2, 1.3, 0.2, 'Iris-setosa'),\n",
    "...\n",
    "       (5.9, 3. , 5.1, 1.8, 'Iris-virginica')],</pre>\n",
    "dtype=[('sepallength', '<f4'), ('sepalwidth', '<f4'), ('petallength', '<f4'), ('petalwidth', '<f4'), ('species', 'O')])"
   ]
  },
  {
   "cell_type": "code",
   "execution_count": 6,
   "id": "7178eafb",
   "metadata": {
    "scrolled": true
   },
   "outputs": [
    {
     "data": {
      "text/plain": [
       "array([(5.1, 3.5, 1.4, 0.2, 'Iris-setosa'),\n",
       "       (4.9, 3. , 1.4, 0.2, 'Iris-setosa'),\n",
       "       (4.7, 3.2, 1.3, 0.2, 'Iris-setosa'),\n",
       "       (4.6, 3.1, 1.5, 0.2, 'Iris-setosa'),\n",
       "       (5. , 3.6, 1.4, 0.2, 'Iris-setosa'),\n",
       "       (5.4, 3.9, 1.7, 0.4, 'Iris-setosa'),\n",
       "       (4.6, 3.4, 1.4, 0.3, 'Iris-setosa'),\n",
       "       (5. , 3.4, 1.5, 0.2, 'Iris-setosa'),\n",
       "       (4.4, 2.9, 1.4, 0.2, 'Iris-setosa'),\n",
       "       (4.9, 3.1, 1.5, 0.1, 'Iris-setosa'),\n",
       "       (5.4, 3.7, 1.5, 0.2, 'Iris-setosa'),\n",
       "       (4.8, 3.4, 1.6, 0.2, 'Iris-setosa'),\n",
       "       (4.8, 3. , 1.4, 0.1, 'Iris-setosa'),\n",
       "       (4.3, 3. , 1.1, 0.1, 'Iris-setosa'),\n",
       "       (5.8, 4. , 1.2, 0.2, 'Iris-setosa'),\n",
       "       (5.7, 4.4, 1.5, 0.4, 'Iris-setosa'),\n",
       "       (5.4, 3.9, 1.3, 0.4, 'Iris-setosa'),\n",
       "       (5.1, 3.5, 1.4, 0.3, 'Iris-setosa'),\n",
       "       (5.7, 3.8, 1.7, 0.3, 'Iris-setosa'),\n",
       "       (5.1, 3.8, 1.5, 0.3, 'Iris-setosa'),\n",
       "       (5.4, 3.4, 1.7, 0.2, 'Iris-setosa'),\n",
       "       (5.1, 3.7, 1.5, 0.4, 'Iris-setosa'),\n",
       "       (4.6, 3.6, 1. , 0.2, 'Iris-setosa'),\n",
       "       (5.1, 3.3, 1.7, 0.5, 'Iris-setosa'),\n",
       "       (4.8, 3.4, 1.9, 0.2, 'Iris-setosa'),\n",
       "       (5. , 3. , 1.6, 0.2, 'Iris-setosa'),\n",
       "       (5. , 3.4, 1.6, 0.4, 'Iris-setosa'),\n",
       "       (5.2, 3.5, 1.5, 0.2, 'Iris-setosa'),\n",
       "       (5.2, 3.4, 1.4, 0.2, 'Iris-setosa'),\n",
       "       (4.7, 3.2, 1.6, 0.2, 'Iris-setosa'),\n",
       "       (4.8, 3.1, 1.6, 0.2, 'Iris-setosa'),\n",
       "       (5.4, 3.4, 1.5, 0.4, 'Iris-setosa'),\n",
       "       (5.2, 4.1, 1.5, 0.1, 'Iris-setosa'),\n",
       "       (5.5, 4.2, 1.4, 0.2, 'Iris-setosa'),\n",
       "       (4.9, 3.1, 1.5, 0.1, 'Iris-setosa'),\n",
       "       (5. , 3.2, 1.2, 0.2, 'Iris-setosa'),\n",
       "       (5.5, 3.5, 1.3, 0.2, 'Iris-setosa'),\n",
       "       (4.9, 3.1, 1.5, 0.1, 'Iris-setosa'),\n",
       "       (4.4, 3. , 1.3, 0.2, 'Iris-setosa'),\n",
       "       (5.1, 3.4, 1.5, 0.2, 'Iris-setosa'),\n",
       "       (5. , 3.5, 1.3, 0.3, 'Iris-setosa'),\n",
       "       (4.5, 2.3, 1.3, 0.3, 'Iris-setosa'),\n",
       "       (4.4, 3.2, 1.3, 0.2, 'Iris-setosa'),\n",
       "       (5. , 3.5, 1.6, 0.6, 'Iris-setosa'),\n",
       "       (5.1, 3.8, 1.9, 0.4, 'Iris-setosa'),\n",
       "       (4.8, 3. , 1.4, 0.3, 'Iris-setosa'),\n",
       "       (5.1, 3.8, 1.6, 0.2, 'Iris-setosa'),\n",
       "       (4.6, 3.2, 1.4, 0.2, 'Iris-setosa'),\n",
       "       (5.3, 3.7, 1.5, 0.2, 'Iris-setosa'),\n",
       "       (5. , 3.3, 1.4, 0.2, 'Iris-setosa'),\n",
       "       (7. , 3.2, 4.7, 1.4, 'Iris-versicolor'),\n",
       "       (6.4, 3.2, 4.5, 1.5, 'Iris-versicolor'),\n",
       "       (6.9, 3.1, 4.9, 1.5, 'Iris-versicolor'),\n",
       "       (5.5, 2.3, 4. , 1.3, 'Iris-versicolor'),\n",
       "       (6.5, 2.8, 4.6, 1.5, 'Iris-versicolor'),\n",
       "       (5.7, 2.8, 4.5, 1.3, 'Iris-versicolor'),\n",
       "       (6.3, 3.3, 4.7, 1.6, 'Iris-versicolor'),\n",
       "       (4.9, 2.4, 3.3, 1. , 'Iris-versicolor'),\n",
       "       (6.6, 2.9, 4.6, 1.3, 'Iris-versicolor'),\n",
       "       (5.2, 2.7, 3.9, 1.4, 'Iris-versicolor'),\n",
       "       (5. , 2. , 3.5, 1. , 'Iris-versicolor'),\n",
       "       (5.9, 3. , 4.2, 1.5, 'Iris-versicolor'),\n",
       "       (6. , 2.2, 4. , 1. , 'Iris-versicolor'),\n",
       "       (6.1, 2.9, 4.7, 1.4, 'Iris-versicolor'),\n",
       "       (5.6, 2.9, 3.6, 1.3, 'Iris-versicolor'),\n",
       "       (6.7, 3.1, 4.4, 1.4, 'Iris-versicolor'),\n",
       "       (5.6, 3. , 4.5, 1.5, 'Iris-versicolor'),\n",
       "       (5.8, 2.7, 4.1, 1. , 'Iris-versicolor'),\n",
       "       (6.2, 2.2, 4.5, 1.5, 'Iris-versicolor'),\n",
       "       (5.6, 2.5, 3.9, 1.1, 'Iris-versicolor'),\n",
       "       (5.9, 3.2, 4.8, 1.8, 'Iris-versicolor'),\n",
       "       (6.1, 2.8, 4. , 1.3, 'Iris-versicolor'),\n",
       "       (6.3, 2.5, 4.9, 1.5, 'Iris-versicolor'),\n",
       "       (6.1, 2.8, 4.7, 1.2, 'Iris-versicolor'),\n",
       "       (6.4, 2.9, 4.3, 1.3, 'Iris-versicolor'),\n",
       "       (6.6, 3. , 4.4, 1.4, 'Iris-versicolor'),\n",
       "       (6.8, 2.8, 4.8, 1.4, 'Iris-versicolor'),\n",
       "       (6.7, 3. , 5. , 1.7, 'Iris-versicolor'),\n",
       "       (6. , 2.9, 4.5, 1.5, 'Iris-versicolor'),\n",
       "       (5.7, 2.6, 3.5, 1. , 'Iris-versicolor'),\n",
       "       (5.5, 2.4, 3.8, 1.1, 'Iris-versicolor'),\n",
       "       (5.5, 2.4, 3.7, 1. , 'Iris-versicolor'),\n",
       "       (5.8, 2.7, 3.9, 1.2, 'Iris-versicolor'),\n",
       "       (6. , 2.7, 5.1, 1.6, 'Iris-versicolor'),\n",
       "       (5.4, 3. , 4.5, 1.5, 'Iris-versicolor'),\n",
       "       (6. , 3.4, 4.5, 1.6, 'Iris-versicolor'),\n",
       "       (6.7, 3.1, 4.7, 1.5, 'Iris-versicolor'),\n",
       "       (6.3, 2.3, 4.4, 1.3, 'Iris-versicolor'),\n",
       "       (5.6, 3. , 4.1, 1.3, 'Iris-versicolor'),\n",
       "       (5.5, 2.5, 4. , 1.3, 'Iris-versicolor'),\n",
       "       (5.5, 2.6, 4.4, 1.2, 'Iris-versicolor'),\n",
       "       (6.1, 3. , 4.6, 1.4, 'Iris-versicolor'),\n",
       "       (5.8, 2.6, 4. , 1.2, 'Iris-versicolor'),\n",
       "       (5. , 2.3, 3.3, 1. , 'Iris-versicolor'),\n",
       "       (5.6, 2.7, 4.2, 1.3, 'Iris-versicolor'),\n",
       "       (5.7, 3. , 4.2, 1.2, 'Iris-versicolor'),\n",
       "       (5.7, 2.9, 4.2, 1.3, 'Iris-versicolor'),\n",
       "       (6.2, 2.9, 4.3, 1.3, 'Iris-versicolor'),\n",
       "       (5.1, 2.5, 3. , 1.1, 'Iris-versicolor'),\n",
       "       (5.7, 2.8, 4.1, 1.3, 'Iris-versicolor'),\n",
       "       (6.3, 3.3, 6. , 2.5, 'Iris-virginica'),\n",
       "       (5.8, 2.7, 5.1, 1.9, 'Iris-virginica'),\n",
       "       (7.1, 3. , 5.9, 2.1, 'Iris-virginica'),\n",
       "       (6.3, 2.9, 5.6, 1.8, 'Iris-virginica'),\n",
       "       (6.5, 3. , 5.8, 2.2, 'Iris-virginica'),\n",
       "       (7.6, 3. , 6.6, 2.1, 'Iris-virginica'),\n",
       "       (4.9, 2.5, 4.5, 1.7, 'Iris-virginica'),\n",
       "       (7.3, 2.9, 6.3, 1.8, 'Iris-virginica'),\n",
       "       (6.7, 2.5, 5.8, 1.8, 'Iris-virginica'),\n",
       "       (7.2, 3.6, 6.1, 2.5, 'Iris-virginica'),\n",
       "       (6.5, 3.2, 5.1, 2. , 'Iris-virginica'),\n",
       "       (6.4, 2.7, 5.3, 1.9, 'Iris-virginica'),\n",
       "       (6.8, 3. , 5.5, 2.1, 'Iris-virginica'),\n",
       "       (5.7, 2.5, 5. , 2. , 'Iris-virginica'),\n",
       "       (5.8, 2.8, 5.1, 2.4, 'Iris-virginica'),\n",
       "       (6.4, 3.2, 5.3, 2.3, 'Iris-virginica'),\n",
       "       (6.5, 3. , 5.5, 1.8, 'Iris-virginica'),\n",
       "       (7.7, 3.8, 6.7, 2.2, 'Iris-virginica'),\n",
       "       (7.7, 2.6, 6.9, 2.3, 'Iris-virginica'),\n",
       "       (6. , 2.2, 5. , 1.5, 'Iris-virginica'),\n",
       "       (6.9, 3.2, 5.7, 2.3, 'Iris-virginica'),\n",
       "       (5.6, 2.8, 4.9, 2. , 'Iris-virginica'),\n",
       "       (7.7, 2.8, 6.7, 2. , 'Iris-virginica'),\n",
       "       (6.3, 2.7, 4.9, 1.8, 'Iris-virginica'),\n",
       "       (6.7, 3.3, 5.7, 2.1, 'Iris-virginica'),\n",
       "       (7.2, 3.2, 6. , 1.8, 'Iris-virginica'),\n",
       "       (6.2, 2.8, 4.8, 1.8, 'Iris-virginica'),\n",
       "       (6.1, 3. , 4.9, 1.8, 'Iris-virginica'),\n",
       "       (6.4, 2.8, 5.6, 2.1, 'Iris-virginica'),\n",
       "       (7.2, 3. , 5.8, 1.6, 'Iris-virginica'),\n",
       "       (7.4, 2.8, 6.1, 1.9, 'Iris-virginica'),\n",
       "       (7.9, 3.8, 6.4, 2. , 'Iris-virginica'),\n",
       "       (6.4, 2.8, 5.6, 2.2, 'Iris-virginica'),\n",
       "       (6.3, 2.8, 5.1, 1.5, 'Iris-virginica'),\n",
       "       (6.1, 2.6, 5.6, 1.4, 'Iris-virginica'),\n",
       "       (7.7, 3. , 6.1, 2.3, 'Iris-virginica'),\n",
       "       (6.3, 3.4, 5.6, 2.4, 'Iris-virginica'),\n",
       "       (6.4, 3.1, 5.5, 1.8, 'Iris-virginica'),\n",
       "       (6. , 3. , 4.8, 1.8, 'Iris-virginica'),\n",
       "       (6.9, 3.1, 5.4, 2.1, 'Iris-virginica'),\n",
       "       (6.7, 3.1, 5.6, 2.4, 'Iris-virginica'),\n",
       "       (6.9, 3.1, 5.1, 2.3, 'Iris-virginica'),\n",
       "       (5.8, 2.7, 5.1, 1.9, 'Iris-virginica'),\n",
       "       (6.8, 3.2, 5.9, 2.3, 'Iris-virginica'),\n",
       "       (6.7, 3.3, 5.7, 2.5, 'Iris-virginica'),\n",
       "       (6.7, 3. , 5.2, 2.3, 'Iris-virginica'),\n",
       "       (6.3, 2.5, 5. , 1.9, 'Iris-virginica'),\n",
       "       (6.5, 3. , 5.2, 2. , 'Iris-virginica'),\n",
       "       (6.2, 3.4, 5.4, 2.3, 'Iris-virginica'),\n",
       "       (5.9, 3. , 5.1, 1.8, 'Iris-virginica')],\n",
       "      dtype=[('sepallength', '<f4'), ('sepalwidth', '<f4'), ('petallength', '<f4'), ('petalwidth', '<f4'), ('species', 'O')])"
      ]
     },
     "execution_count": 6,
     "metadata": {},
     "output_type": "execute_result"
    }
   ],
   "source": [
    "data = np.loadtxt('iris.data', delimiter=',', dtype={\n",
    "    'names': ('sepallength', 'sepalwidth', 'petallength', 'petalwidth', 'species'),\n",
    "    'formats': ('f4','f4','f4','f4','object')})\n",
    "data"
   ]
  },
  {
   "cell_type": "markdown",
   "id": "7712961b",
   "metadata": {},
   "source": [
    "#### np.loadtxt( ) is equivalent function to np.genfromtxt( ) when no data is missing."
   ]
  },
  {
   "cell_type": "markdown",
   "id": "04210c78",
   "metadata": {},
   "source": [
    "## 39. min, max, standard deviation, mean of numpy array\n",
    "<pre>Find the min, max, standard deviation, mean of \n",
    "'sepallength', 'sepalwidth', 'petallength', and 'petalwidth' respectively.\n",
    "\n",
    "Given Input:\n",
    "data = np.loadtxt('iris.data', delimiter=',', dtype={\n",
    "    'names': ('sepallength', 'sepalwidth', 'petallength', 'petalwidth', 'species'),\n",
    "    'formats': ('f4','f4','f4','f4','object')})\n",
    "Desired Output:\n",
    "$> 7.9\n",
    "$> 2.0\n",
    "$> 1.7585291\n",
    "$> 1.1986667\n",
    "</pre>"
   ]
  },
  {
   "cell_type": "code",
   "execution_count": 129,
   "id": "38f07846",
   "metadata": {},
   "outputs": [],
   "source": [
    "data = np.loadtxt('iris.data', delimiter=',', dtype={\n",
    "    'names': ('sepallength', 'sepalwidth', 'petallength', 'petalwidth', 'species'),\n",
    "    'formats': ('f4','f4','f4','f4','object')})"
   ]
  },
  {
   "cell_type": "code",
   "execution_count": 122,
   "id": "ae07403b",
   "metadata": {
    "scrolled": true
   },
   "outputs": [
    {
     "data": {
      "text/plain": [
       "7.9"
      ]
     },
     "execution_count": 122,
     "metadata": {},
     "output_type": "execute_result"
    }
   ],
   "source": [
    "data['sepallength'].max()"
   ]
  },
  {
   "cell_type": "code",
   "execution_count": 126,
   "id": "77f66bd5",
   "metadata": {},
   "outputs": [
    {
     "data": {
      "text/plain": [
       "2.0"
      ]
     },
     "execution_count": 126,
     "metadata": {},
     "output_type": "execute_result"
    }
   ],
   "source": [
    "data['sepalwidth'].min()"
   ]
  },
  {
   "cell_type": "code",
   "execution_count": 128,
   "id": "ec6bdf59",
   "metadata": {},
   "outputs": [
    {
     "data": {
      "text/plain": [
       "1.7585291"
      ]
     },
     "execution_count": 128,
     "metadata": {},
     "output_type": "execute_result"
    }
   ],
   "source": [
    "data['petallength'].std()"
   ]
  },
  {
   "cell_type": "code",
   "execution_count": 127,
   "id": "90398399",
   "metadata": {},
   "outputs": [
    {
     "data": {
      "text/plain": [
       "1.1986667"
      ]
     },
     "execution_count": 127,
     "metadata": {},
     "output_type": "execute_result"
    }
   ],
   "source": [
    "data['petalwidth'].mean()"
   ]
  },
  {
   "cell_type": "markdown",
   "id": "012aebbc",
   "metadata": {},
   "source": [
    "## 40. Sort array by column\n",
    "<pre>Sort by sepallength \n",
    "Given Input:\n",
    "data = np.loadtxt('iris.data', delimiter=',', dtype={\n",
    "    'names': ('sepallength', 'sepalwidth', 'petallength', 'petalwidth', 'species'),\n",
    "    'formats': ('f4','f4','f4','f4','object')})\n",
    "\n",
    "Desired Output:\n",
    "array([(4.3, 3. , 1.1, 0.1, 'Iris-setosa'),\n",
    "       (4.4, 3.2, 1.3, 0.2, 'Iris-setosa'),\n",
    "       (4.4, 3. , 1.3, 0.2, 'Iris-setosa'),\n",
    "       (4.4, 2.9, 1.4, 0.2, 'Iris-setosa'),\n",
    "       (4.5, 2.3, 1.3, 0.3, 'Iris-setosa'),\n",
    "       (4.6, 3.6, 1. , 0.2, 'Iris-setosa'),\n",
    "</pre>"
   ]
  },
  {
   "cell_type": "code",
   "execution_count": null,
   "id": "0374d44d",
   "metadata": {},
   "outputs": [],
   "source": [
    "data = np.loadtxt('iris.data', delimiter=',', dtype={\n",
    "    'names': ('sepallength', 'sepalwidth', 'petallength', 'petalwidth', 'species'),\n",
    "    'formats': ('f4','f4','f4','f4','object')})"
   ]
  },
  {
   "cell_type": "code",
   "execution_count": 131,
   "id": "97863ef9",
   "metadata": {
    "scrolled": true
   },
   "outputs": [
    {
     "data": {
      "text/plain": [
       "array([(4.3, 3. , 1.1, 0.1, 'Iris-setosa'),\n",
       "       (4.4, 3.2, 1.3, 0.2, 'Iris-setosa'),\n",
       "       (4.4, 3. , 1.3, 0.2, 'Iris-setosa'),\n",
       "       (4.4, 2.9, 1.4, 0.2, 'Iris-setosa'),\n",
       "       (4.5, 2.3, 1.3, 0.3, 'Iris-setosa'),\n",
       "       (4.6, 3.6, 1. , 0.2, 'Iris-setosa'),\n",
       "       (4.6, 3.1, 1.5, 0.2, 'Iris-setosa'),\n",
       "       (4.6, 3.4, 1.4, 0.3, 'Iris-setosa'),\n",
       "       (4.6, 3.2, 1.4, 0.2, 'Iris-setosa'),\n",
       "       (4.7, 3.2, 1.3, 0.2, 'Iris-setosa'),\n",
       "       (4.7, 3.2, 1.6, 0.2, 'Iris-setosa'),\n",
       "       (4.8, 3. , 1.4, 0.1, 'Iris-setosa'),\n",
       "       (4.8, 3. , 1.4, 0.3, 'Iris-setosa'),\n",
       "       (4.8, 3.4, 1.9, 0.2, 'Iris-setosa'),\n",
       "       (4.8, 3.4, 1.6, 0.2, 'Iris-setosa'),\n",
       "       (4.8, 3.1, 1.6, 0.2, 'Iris-setosa'),\n",
       "       (4.9, 2.4, 3.3, 1. , 'Iris-versicolor'),\n",
       "       (4.9, 2.5, 4.5, 1.7, 'Iris-virginica'),\n",
       "       (4.9, 3.1, 1.5, 0.1, 'Iris-setosa'),\n",
       "       (4.9, 3.1, 1.5, 0.1, 'Iris-setosa'),\n",
       "       (4.9, 3.1, 1.5, 0.1, 'Iris-setosa'),\n",
       "       (4.9, 3. , 1.4, 0.2, 'Iris-setosa'),\n",
       "       (5. , 3.5, 1.3, 0.3, 'Iris-setosa'),\n",
       "       (5. , 3.4, 1.6, 0.4, 'Iris-setosa'),\n",
       "       (5. , 3.3, 1.4, 0.2, 'Iris-setosa'),\n",
       "       (5. , 3.2, 1.2, 0.2, 'Iris-setosa'),\n",
       "       (5. , 3.5, 1.6, 0.6, 'Iris-setosa'),\n",
       "       (5. , 2. , 3.5, 1. , 'Iris-versicolor'),\n",
       "       (5. , 3.4, 1.5, 0.2, 'Iris-setosa'),\n",
       "       (5. , 2.3, 3.3, 1. , 'Iris-versicolor'),\n",
       "       (5. , 3.6, 1.4, 0.2, 'Iris-setosa'),\n",
       "       (5. , 3. , 1.6, 0.2, 'Iris-setosa'),\n",
       "       (5.1, 3.8, 1.9, 0.4, 'Iris-setosa'),\n",
       "       (5.1, 3.8, 1.6, 0.2, 'Iris-setosa'),\n",
       "       (5.1, 2.5, 3. , 1.1, 'Iris-versicolor'),\n",
       "       (5.1, 3.5, 1.4, 0.2, 'Iris-setosa'),\n",
       "       (5.1, 3.4, 1.5, 0.2, 'Iris-setosa'),\n",
       "       (5.1, 3.5, 1.4, 0.3, 'Iris-setosa'),\n",
       "       (5.1, 3.3, 1.7, 0.5, 'Iris-setosa'),\n",
       "       (5.1, 3.7, 1.5, 0.4, 'Iris-setosa'),\n",
       "       (5.1, 3.8, 1.5, 0.3, 'Iris-setosa'),\n",
       "       (5.2, 4.1, 1.5, 0.1, 'Iris-setosa'),\n",
       "       (5.2, 3.4, 1.4, 0.2, 'Iris-setosa'),\n",
       "       (5.2, 3.5, 1.5, 0.2, 'Iris-setosa'),\n",
       "       (5.2, 2.7, 3.9, 1.4, 'Iris-versicolor'),\n",
       "       (5.3, 3.7, 1.5, 0.2, 'Iris-setosa'),\n",
       "       (5.4, 3. , 4.5, 1.5, 'Iris-versicolor'),\n",
       "       (5.4, 3.9, 1.7, 0.4, 'Iris-setosa'),\n",
       "       (5.4, 3.4, 1.7, 0.2, 'Iris-setosa'),\n",
       "       (5.4, 3.4, 1.5, 0.4, 'Iris-setosa'),\n",
       "       (5.4, 3.7, 1.5, 0.2, 'Iris-setosa'),\n",
       "       (5.4, 3.9, 1.3, 0.4, 'Iris-setosa'),\n",
       "       (5.5, 3.5, 1.3, 0.2, 'Iris-setosa'),\n",
       "       (5.5, 2.6, 4.4, 1.2, 'Iris-versicolor'),\n",
       "       (5.5, 4.2, 1.4, 0.2, 'Iris-setosa'),\n",
       "       (5.5, 2.3, 4. , 1.3, 'Iris-versicolor'),\n",
       "       (5.5, 2.4, 3.7, 1. , 'Iris-versicolor'),\n",
       "       (5.5, 2.4, 3.8, 1.1, 'Iris-versicolor'),\n",
       "       (5.5, 2.5, 4. , 1.3, 'Iris-versicolor'),\n",
       "       (5.6, 3. , 4.1, 1.3, 'Iris-versicolor'),\n",
       "       (5.6, 2.8, 4.9, 2. , 'Iris-virginica'),\n",
       "       (5.6, 3. , 4.5, 1.5, 'Iris-versicolor'),\n",
       "       (5.6, 2.5, 3.9, 1.1, 'Iris-versicolor'),\n",
       "       (5.6, 2.7, 4.2, 1.3, 'Iris-versicolor'),\n",
       "       (5.6, 2.9, 3.6, 1.3, 'Iris-versicolor'),\n",
       "       (5.7, 2.6, 3.5, 1. , 'Iris-versicolor'),\n",
       "       (5.7, 2.9, 4.2, 1.3, 'Iris-versicolor'),\n",
       "       (5.7, 2.8, 4.1, 1.3, 'Iris-versicolor'),\n",
       "       (5.7, 4.4, 1.5, 0.4, 'Iris-setosa'),\n",
       "       (5.7, 2.8, 4.5, 1.3, 'Iris-versicolor'),\n",
       "       (5.7, 2.5, 5. , 2. , 'Iris-virginica'),\n",
       "       (5.7, 3.8, 1.7, 0.3, 'Iris-setosa'),\n",
       "       (5.7, 3. , 4.2, 1.2, 'Iris-versicolor'),\n",
       "       (5.8, 2.7, 4.1, 1. , 'Iris-versicolor'),\n",
       "       (5.8, 4. , 1.2, 0.2, 'Iris-setosa'),\n",
       "       (5.8, 2.6, 4. , 1.2, 'Iris-versicolor'),\n",
       "       (5.8, 2.8, 5.1, 2.4, 'Iris-virginica'),\n",
       "       (5.8, 2.7, 5.1, 1.9, 'Iris-virginica'),\n",
       "       (5.8, 2.7, 3.9, 1.2, 'Iris-versicolor'),\n",
       "       (5.8, 2.7, 5.1, 1.9, 'Iris-virginica'),\n",
       "       (5.9, 3. , 5.1, 1.8, 'Iris-virginica'),\n",
       "       (5.9, 3. , 4.2, 1.5, 'Iris-versicolor'),\n",
       "       (5.9, 3.2, 4.8, 1.8, 'Iris-versicolor'),\n",
       "       (6. , 2.9, 4.5, 1.5, 'Iris-versicolor'),\n",
       "       (6. , 2.7, 5.1, 1.6, 'Iris-versicolor'),\n",
       "       (6. , 3. , 4.8, 1.8, 'Iris-virginica'),\n",
       "       (6. , 3.4, 4.5, 1.6, 'Iris-versicolor'),\n",
       "       (6. , 2.2, 4. , 1. , 'Iris-versicolor'),\n",
       "       (6. , 2.2, 5. , 1.5, 'Iris-virginica'),\n",
       "       (6.1, 3. , 4.9, 1.8, 'Iris-virginica'),\n",
       "       (6.1, 2.6, 5.6, 1.4, 'Iris-virginica'),\n",
       "       (6.1, 2.8, 4. , 1.3, 'Iris-versicolor'),\n",
       "       (6.1, 2.9, 4.7, 1.4, 'Iris-versicolor'),\n",
       "       (6.1, 2.8, 4.7, 1.2, 'Iris-versicolor'),\n",
       "       (6.1, 3. , 4.6, 1.4, 'Iris-versicolor'),\n",
       "       (6.2, 2.2, 4.5, 1.5, 'Iris-versicolor'),\n",
       "       (6.2, 2.9, 4.3, 1.3, 'Iris-versicolor'),\n",
       "       (6.2, 3.4, 5.4, 2.3, 'Iris-virginica'),\n",
       "       (6.2, 2.8, 4.8, 1.8, 'Iris-virginica'),\n",
       "       (6.3, 2.5, 4.9, 1.5, 'Iris-versicolor'),\n",
       "       (6.3, 2.7, 4.9, 1.8, 'Iris-virginica'),\n",
       "       (6.3, 2.5, 5. , 1.9, 'Iris-virginica'),\n",
       "       (6.3, 3.3, 4.7, 1.6, 'Iris-versicolor'),\n",
       "       (6.3, 2.8, 5.1, 1.5, 'Iris-virginica'),\n",
       "       (6.3, 3.3, 6. , 2.5, 'Iris-virginica'),\n",
       "       (6.3, 2.3, 4.4, 1.3, 'Iris-versicolor'),\n",
       "       (6.3, 3.4, 5.6, 2.4, 'Iris-virginica'),\n",
       "       (6.3, 2.9, 5.6, 1.8, 'Iris-virginica'),\n",
       "       (6.4, 2.8, 5.6, 2.2, 'Iris-virginica'),\n",
       "       (6.4, 2.8, 5.6, 2.1, 'Iris-virginica'),\n",
       "       (6.4, 3.1, 5.5, 1.8, 'Iris-virginica'),\n",
       "       (6.4, 3.2, 4.5, 1.5, 'Iris-versicolor'),\n",
       "       (6.4, 3.2, 5.3, 2.3, 'Iris-virginica'),\n",
       "       (6.4, 2.9, 4.3, 1.3, 'Iris-versicolor'),\n",
       "       (6.4, 2.7, 5.3, 1.9, 'Iris-virginica'),\n",
       "       (6.5, 3. , 5.8, 2.2, 'Iris-virginica'),\n",
       "       (6.5, 3. , 5.5, 1.8, 'Iris-virginica'),\n",
       "       (6.5, 3. , 5.2, 2. , 'Iris-virginica'),\n",
       "       (6.5, 2.8, 4.6, 1.5, 'Iris-versicolor'),\n",
       "       (6.5, 3.2, 5.1, 2. , 'Iris-virginica'),\n",
       "       (6.6, 2.9, 4.6, 1.3, 'Iris-versicolor'),\n",
       "       (6.6, 3. , 4.4, 1.4, 'Iris-versicolor'),\n",
       "       (6.7, 3.1, 4.7, 1.5, 'Iris-versicolor'),\n",
       "       (6.7, 3.1, 5.6, 2.4, 'Iris-virginica'),\n",
       "       (6.7, 2.5, 5.8, 1.8, 'Iris-virginica'),\n",
       "       (6.7, 3. , 5. , 1.7, 'Iris-versicolor'),\n",
       "       (6.7, 3.1, 4.4, 1.4, 'Iris-versicolor'),\n",
       "       (6.7, 3.3, 5.7, 2.5, 'Iris-virginica'),\n",
       "       (6.7, 3. , 5.2, 2.3, 'Iris-virginica'),\n",
       "       (6.7, 3.3, 5.7, 2.1, 'Iris-virginica'),\n",
       "       (6.8, 3.2, 5.9, 2.3, 'Iris-virginica'),\n",
       "       (6.8, 2.8, 4.8, 1.4, 'Iris-versicolor'),\n",
       "       (6.8, 3. , 5.5, 2.1, 'Iris-virginica'),\n",
       "       (6.9, 3.1, 5.4, 2.1, 'Iris-virginica'),\n",
       "       (6.9, 3.1, 5.1, 2.3, 'Iris-virginica'),\n",
       "       (6.9, 3.1, 4.9, 1.5, 'Iris-versicolor'),\n",
       "       (6.9, 3.2, 5.7, 2.3, 'Iris-virginica'),\n",
       "       (7. , 3.2, 4.7, 1.4, 'Iris-versicolor'),\n",
       "       (7.1, 3. , 5.9, 2.1, 'Iris-virginica'),\n",
       "       (7.2, 3. , 5.8, 1.6, 'Iris-virginica'),\n",
       "       (7.2, 3.2, 6. , 1.8, 'Iris-virginica'),\n",
       "       (7.2, 3.6, 6.1, 2.5, 'Iris-virginica'),\n",
       "       (7.3, 2.9, 6.3, 1.8, 'Iris-virginica'),\n",
       "       (7.4, 2.8, 6.1, 1.9, 'Iris-virginica'),\n",
       "       (7.6, 3. , 6.6, 2.1, 'Iris-virginica'),\n",
       "       (7.7, 2.8, 6.7, 2. , 'Iris-virginica'),\n",
       "       (7.7, 2.6, 6.9, 2.3, 'Iris-virginica'),\n",
       "       (7.7, 3.8, 6.7, 2.2, 'Iris-virginica'),\n",
       "       (7.7, 3. , 6.1, 2.3, 'Iris-virginica'),\n",
       "       (7.9, 3.8, 6.4, 2. , 'Iris-virginica')],\n",
       "      dtype=[('sepallength', '<f4'), ('sepalwidth', '<f4'), ('petallength', '<f4'), ('petalwidth', '<f4'), ('species', 'O')])"
      ]
     },
     "execution_count": 131,
     "metadata": {},
     "output_type": "execute_result"
    }
   ],
   "source": [
    "data[data['sepallength'].argsort()]"
   ]
  },
  {
   "cell_type": "markdown",
   "id": "618d6b4b",
   "metadata": {},
   "source": [
    "## 41. Find the count number of a condition column\n",
    "<pre>Find the number of sample that the pentallength greater than its mean.\n",
    "Given Input:\n",
    "The previous imported iris data\n",
    "\n",
    "Desired Output:\n",
    "$> 93\n",
    "</pre>"
   ]
  },
  {
   "cell_type": "code",
   "execution_count": 143,
   "id": "4910179f",
   "metadata": {},
   "outputs": [
    {
     "data": {
      "text/plain": [
       "93"
      ]
     },
     "execution_count": 143,
     "metadata": {},
     "output_type": "execute_result"
    }
   ],
   "source": [
    "np.count_nonzero(data[data['petallength'] > data['petallength'].mean()])"
   ]
  },
  {
   "cell_type": "markdown",
   "id": "816bb0b7",
   "metadata": {},
   "source": [
    "## 42. Find the mode (most frequent) value in numpy array\n",
    "<pre>Find the mode of sepalwidth\n",
    "Given Input:\n",
    "The previous imported iris data\n",
    "\n",
    "Desired Output:\n",
    "$> 3</pre>"
   ]
  },
  {
   "cell_type": "code",
   "execution_count": 152,
   "id": "ab6b3fbf",
   "metadata": {},
   "outputs": [
    {
     "name": "stdout",
     "output_type": "stream",
     "text": [
      "3.0\n"
     ]
    }
   ],
   "source": [
    "vals, counts = np.unique(data['sepalwidth'], return_counts=True)\n",
    "print(vals[np.argmax(counts)])"
   ]
  },
  {
   "cell_type": "markdown",
   "id": "c95efc2c",
   "metadata": {},
   "source": [
    "## 43. Shuffle the rows of the dataset\n",
    "<pre>\n",
    "Given Input:\n",
    "data = np.loadtxt('iris.data', delimiter=',', dtype={\n",
    "    'names': ('sepallength', 'sepalwidth', 'petallength', 'petalwidth', 'species'),\n",
    "    'formats': ('f4','f4','f4','f4','object')})\n",
    "$> data\n",
    "array([(5.1, 3.5, 1.4, 0.2, 'Iris-setosa'),\n",
    "       (4.9, 3. , 1.4, 0.2, 'Iris-setosa'),\n",
    "       (4.7, 3.2, 1.3, 0.2, 'Iris-setosa'),\n",
    "       (4.6, 3.1, 1.5, 0.2, 'Iris-setosa'),\n",
    "       ....\n",
    "Desired Output:       \n",
    "$> data\n",
    "array([(5.2, 3.4, 1.4, 0.2, 'Iris-setosa'),\n",
    "       (6. , 2.9, 4.5, 1.5, 'Iris-versicolor'),\n",
    "       (4.8, 3.1, 1.6, 0.2, 'Iris-setosa'),\n",
    "       (5.7, 2.8, 4.1, 1.3, 'Iris-versicolor'),\n",
    "</pre>"
   ]
  },
  {
   "cell_type": "code",
   "execution_count": 179,
   "id": "a792f2ea",
   "metadata": {},
   "outputs": [],
   "source": [
    "data = np.loadtxt('iris.data', delimiter=',', dtype={\n",
    "    'names': ('sepallength', 'sepalwidth', 'petallength', 'petalwidth', 'species'),\n",
    "    'formats': ('f4','f4','f4','f4','object')})"
   ]
  },
  {
   "cell_type": "code",
   "execution_count": 185,
   "id": "fc828d4f",
   "metadata": {},
   "outputs": [],
   "source": [
    "np.random.shuffle(data)"
   ]
  },
  {
   "cell_type": "code",
   "execution_count": 186,
   "id": "40217c43",
   "metadata": {
    "scrolled": true
   },
   "outputs": [
    {
     "data": {
      "text/plain": [
       "array([(5.2, 3.4, 1.4, 0.2, 'Iris-setosa'),\n",
       "       (6. , 2.9, 4.5, 1.5, 'Iris-versicolor'),\n",
       "       (4.8, 3.1, 1.6, 0.2, 'Iris-setosa'),\n",
       "       (5.7, 2.8, 4.1, 1.3, 'Iris-versicolor'),\n",
       "       (5.5, 2.6, 4.4, 1.2, 'Iris-versicolor'),\n",
       "       (7.7, 3.8, 6.7, 2.2, 'Iris-virginica'),\n",
       "       (5.6, 3. , 4.1, 1.3, 'Iris-versicolor'),\n",
       "       (5.2, 3.5, 1.5, 0.2, 'Iris-setosa'),\n",
       "       (6.9, 3.1, 5.4, 2.1, 'Iris-virginica'),\n",
       "       (4.8, 3. , 1.4, 0.3, 'Iris-setosa'),\n",
       "       (6.7, 3.1, 5.6, 2.4, 'Iris-virginica'),\n",
       "       (6.7, 3.3, 5.7, 2.5, 'Iris-virginica'),\n",
       "       (6. , 2.2, 5. , 1.5, 'Iris-virginica'),\n",
       "       (4.9, 2.5, 4.5, 1.7, 'Iris-virginica'),\n",
       "       (6.5, 3. , 5.8, 2.2, 'Iris-virginica'),\n",
       "       (4.7, 3.2, 1.3, 0.2, 'Iris-setosa'),\n",
       "       (5.1, 3.4, 1.5, 0.2, 'Iris-setosa'),\n",
       "       (4.8, 3.4, 1.6, 0.2, 'Iris-setosa'),\n",
       "       (5.1, 3.3, 1.7, 0.5, 'Iris-setosa'),\n",
       "       (6.4, 3.2, 5.3, 2.3, 'Iris-virginica'),\n",
       "       (5.5, 2.4, 3.7, 1. , 'Iris-versicolor'),\n",
       "       (6.3, 3.3, 4.7, 1.6, 'Iris-versicolor'),\n",
       "       (5.1, 3.8, 1.6, 0.2, 'Iris-setosa'),\n",
       "       (5.7, 2.9, 4.2, 1.3, 'Iris-versicolor'),\n",
       "       (4.9, 3.1, 1.5, 0.1, 'Iris-setosa'),\n",
       "       (6.4, 3.1, 5.5, 1.8, 'Iris-virginica'),\n",
       "       (5. , 3.5, 1.3, 0.3, 'Iris-setosa'),\n",
       "       (6.1, 2.8, 4.7, 1.2, 'Iris-versicolor'),\n",
       "       (6.7, 3.3, 5.7, 2.1, 'Iris-virginica'),\n",
       "       (5. , 2. , 3.5, 1. , 'Iris-versicolor'),\n",
       "       (5.6, 2.5, 3.9, 1.1, 'Iris-versicolor'),\n",
       "       (7.2, 3. , 5.8, 1.6, 'Iris-virginica'),\n",
       "       (6.6, 3. , 4.4, 1.4, 'Iris-versicolor'),\n",
       "       (6.8, 2.8, 4.8, 1.4, 'Iris-versicolor'),\n",
       "       (6.1, 2.9, 4.7, 1.4, 'Iris-versicolor'),\n",
       "       (6.8, 3. , 5.5, 2.1, 'Iris-virginica'),\n",
       "       (5. , 3. , 1.6, 0.2, 'Iris-setosa'),\n",
       "       (4.9, 3. , 1.4, 0.2, 'Iris-setosa'),\n",
       "       (5. , 2.3, 3.3, 1. , 'Iris-versicolor'),\n",
       "       (6. , 3.4, 4.5, 1.6, 'Iris-versicolor'),\n",
       "       (6.3, 2.7, 4.9, 1.8, 'Iris-virginica'),\n",
       "       (5.7, 3.8, 1.7, 0.3, 'Iris-setosa'),\n",
       "       (5.6, 2.8, 4.9, 2. , 'Iris-virginica'),\n",
       "       (4.6, 3.6, 1. , 0.2, 'Iris-setosa'),\n",
       "       (6.7, 3. , 5.2, 2.3, 'Iris-virginica'),\n",
       "       (6.1, 2.8, 4. , 1.3, 'Iris-versicolor'),\n",
       "       (5.5, 2.5, 4. , 1.3, 'Iris-versicolor'),\n",
       "       (4.9, 3.1, 1.5, 0.1, 'Iris-setosa'),\n",
       "       (5.5, 4.2, 1.4, 0.2, 'Iris-setosa'),\n",
       "       (5.6, 2.7, 4.2, 1.3, 'Iris-versicolor'),\n",
       "       (6.3, 2.5, 5. , 1.9, 'Iris-virginica'),\n",
       "       (6.2, 2.8, 4.8, 1.8, 'Iris-virginica'),\n",
       "       (6.4, 2.8, 5.6, 2.2, 'Iris-virginica'),\n",
       "       (5.1, 3.7, 1.5, 0.4, 'Iris-setosa'),\n",
       "       (4.4, 3.2, 1.3, 0.2, 'Iris-setosa'),\n",
       "       (7.6, 3. , 6.6, 2.1, 'Iris-virginica'),\n",
       "       (5.8, 2.7, 5.1, 1.9, 'Iris-virginica'),\n",
       "       (4.3, 3. , 1.1, 0.1, 'Iris-setosa'),\n",
       "       (5.1, 2.5, 3. , 1.1, 'Iris-versicolor'),\n",
       "       (6.8, 3.2, 5.9, 2.3, 'Iris-virginica'),\n",
       "       (6.5, 3.2, 5.1, 2. , 'Iris-virginica'),\n",
       "       (4.6, 3.1, 1.5, 0.2, 'Iris-setosa'),\n",
       "       (5.1, 3.5, 1.4, 0.3, 'Iris-setosa'),\n",
       "       (6.1, 2.6, 5.6, 1.4, 'Iris-virginica'),\n",
       "       (6.1, 3. , 4.9, 1.8, 'Iris-virginica'),\n",
       "       (5.5, 2.3, 4. , 1.3, 'Iris-versicolor'),\n",
       "       (5.7, 3. , 4.2, 1.2, 'Iris-versicolor'),\n",
       "       (6.2, 3.4, 5.4, 2.3, 'Iris-virginica'),\n",
       "       (5.1, 3.8, 1.5, 0.3, 'Iris-setosa'),\n",
       "       (6.3, 2.3, 4.4, 1.3, 'Iris-versicolor'),\n",
       "       (6. , 3. , 4.8, 1.8, 'Iris-virginica'),\n",
       "       (7.7, 2.6, 6.9, 2.3, 'Iris-virginica'),\n",
       "       (5.7, 2.6, 3.5, 1. , 'Iris-versicolor'),\n",
       "       (4.8, 3. , 1.4, 0.1, 'Iris-setosa'),\n",
       "       (5.4, 3.9, 1.3, 0.4, 'Iris-setosa'),\n",
       "       (5.7, 4.4, 1.5, 0.4, 'Iris-setosa'),\n",
       "       (6.7, 3.1, 4.7, 1.5, 'Iris-versicolor'),\n",
       "       (5.2, 2.7, 3.9, 1.4, 'Iris-versicolor'),\n",
       "       (5.4, 3.9, 1.7, 0.4, 'Iris-setosa'),\n",
       "       (5.8, 2.8, 5.1, 2.4, 'Iris-virginica'),\n",
       "       (4.8, 3.4, 1.9, 0.2, 'Iris-setosa'),\n",
       "       (6.4, 2.8, 5.6, 2.1, 'Iris-virginica'),\n",
       "       (5.8, 4. , 1.2, 0.2, 'Iris-setosa'),\n",
       "       (6.1, 3. , 4.6, 1.4, 'Iris-versicolor'),\n",
       "       (6.3, 2.8, 5.1, 1.5, 'Iris-virginica'),\n",
       "       (5.1, 3.8, 1.9, 0.4, 'Iris-setosa'),\n",
       "       (6.9, 3.1, 5.1, 2.3, 'Iris-virginica'),\n",
       "       (5.6, 3. , 4.5, 1.5, 'Iris-versicolor'),\n",
       "       (6.2, 2.2, 4.5, 1.5, 'Iris-versicolor'),\n",
       "       (7.3, 2.9, 6.3, 1.8, 'Iris-virginica'),\n",
       "       (6.7, 2.5, 5.8, 1.8, 'Iris-virginica'),\n",
       "       (6.3, 3.3, 6. , 2.5, 'Iris-virginica'),\n",
       "       (6.9, 3.1, 4.9, 1.5, 'Iris-versicolor'),\n",
       "       (7.2, 3.6, 6.1, 2.5, 'Iris-virginica'),\n",
       "       (6.7, 3. , 5. , 1.7, 'Iris-versicolor'),\n",
       "       (5.8, 2.7, 5.1, 1.9, 'Iris-virginica'),\n",
       "       (7.9, 3.8, 6.4, 2. , 'Iris-virginica'),\n",
       "       (5.8, 2.7, 4.1, 1. , 'Iris-versicolor'),\n",
       "       (5. , 3.3, 1.4, 0.2, 'Iris-setosa'),\n",
       "       (7. , 3.2, 4.7, 1.4, 'Iris-versicolor'),\n",
       "       (5. , 3.4, 1.6, 0.4, 'Iris-setosa'),\n",
       "       (6. , 2.2, 4. , 1. , 'Iris-versicolor'),\n",
       "       (5.2, 4.1, 1.5, 0.1, 'Iris-setosa'),\n",
       "       (5.3, 3.7, 1.5, 0.2, 'Iris-setosa'),\n",
       "       (4.9, 2.4, 3.3, 1. , 'Iris-versicolor'),\n",
       "       (5. , 3.4, 1.5, 0.2, 'Iris-setosa'),\n",
       "       (6.3, 2.9, 5.6, 1.8, 'Iris-virginica'),\n",
       "       (6.7, 3.1, 4.4, 1.4, 'Iris-versicolor'),\n",
       "       (4.5, 2.3, 1.3, 0.3, 'Iris-setosa'),\n",
       "       (5. , 3.2, 1.2, 0.2, 'Iris-setosa'),\n",
       "       (4.9, 3.1, 1.5, 0.1, 'Iris-setosa'),\n",
       "       (7.1, 3. , 5.9, 2.1, 'Iris-virginica'),\n",
       "       (5.4, 3. , 4.5, 1.5, 'Iris-versicolor'),\n",
       "       (5.7, 2.5, 5. , 2. , 'Iris-virginica'),\n",
       "       (5.9, 3. , 4.2, 1.5, 'Iris-versicolor'),\n",
       "       (6.4, 3.2, 4.5, 1.5, 'Iris-versicolor'),\n",
       "       (5.9, 3. , 5.1, 1.8, 'Iris-virginica'),\n",
       "       (4.7, 3.2, 1.6, 0.2, 'Iris-setosa'),\n",
       "       (5.5, 3.5, 1.3, 0.2, 'Iris-setosa'),\n",
       "       (6.5, 3. , 5.2, 2. , 'Iris-virginica'),\n",
       "       (7.2, 3.2, 6. , 1.8, 'Iris-virginica'),\n",
       "       (5.4, 3.4, 1.5, 0.4, 'Iris-setosa'),\n",
       "       (6.4, 2.9, 4.3, 1.3, 'Iris-versicolor'),\n",
       "       (6.3, 2.5, 4.9, 1.5, 'Iris-versicolor'),\n",
       "       (5. , 3.6, 1.4, 0.2, 'Iris-setosa'),\n",
       "       (4.6, 3.4, 1.4, 0.3, 'Iris-setosa'),\n",
       "       (4.4, 3. , 1.3, 0.2, 'Iris-setosa'),\n",
       "       (6.5, 2.8, 4.6, 1.5, 'Iris-versicolor'),\n",
       "       (6.6, 2.9, 4.6, 1.3, 'Iris-versicolor'),\n",
       "       (4.4, 2.9, 1.4, 0.2, 'Iris-setosa'),\n",
       "       (7.7, 3. , 6.1, 2.3, 'Iris-virginica'),\n",
       "       (5.7, 2.8, 4.5, 1.3, 'Iris-versicolor'),\n",
       "       (4.6, 3.2, 1.4, 0.2, 'Iris-setosa'),\n",
       "       (5.9, 3.2, 4.8, 1.8, 'Iris-versicolor'),\n",
       "       (5.8, 2.7, 3.9, 1.2, 'Iris-versicolor'),\n",
       "       (5.4, 3.7, 1.5, 0.2, 'Iris-setosa'),\n",
       "       (7.7, 2.8, 6.7, 2. , 'Iris-virginica'),\n",
       "       (5. , 3.5, 1.6, 0.6, 'Iris-setosa'),\n",
       "       (6.3, 3.4, 5.6, 2.4, 'Iris-virginica'),\n",
       "       (6.2, 2.9, 4.3, 1.3, 'Iris-versicolor'),\n",
       "       (5.6, 2.9, 3.6, 1.3, 'Iris-versicolor'),\n",
       "       (5.4, 3.4, 1.7, 0.2, 'Iris-setosa'),\n",
       "       (6. , 2.7, 5.1, 1.6, 'Iris-versicolor'),\n",
       "       (5.1, 3.5, 1.4, 0.2, 'Iris-setosa'),\n",
       "       (6.4, 2.7, 5.3, 1.9, 'Iris-virginica'),\n",
       "       (5.5, 2.4, 3.8, 1.1, 'Iris-versicolor'),\n",
       "       (6.5, 3. , 5.5, 1.8, 'Iris-virginica'),\n",
       "       (7.4, 2.8, 6.1, 1.9, 'Iris-virginica'),\n",
       "       (5.8, 2.6, 4. , 1.2, 'Iris-versicolor'),\n",
       "       (6.9, 3.2, 5.7, 2.3, 'Iris-virginica')],\n",
       "      dtype=[('sepallength', '<f4'), ('sepalwidth', '<f4'), ('petallength', '<f4'), ('petalwidth', '<f4'), ('species', 'O')])"
      ]
     },
     "execution_count": 186,
     "metadata": {},
     "output_type": "execute_result"
    }
   ],
   "source": [
    "data"
   ]
  },
  {
   "cell_type": "markdown",
   "id": "6458fa19",
   "metadata": {},
   "source": [
    "## 44. Compute the 10th and 90th percentile of the sepalwidth\n",
    "<pre>Given Input:\n",
    "The previous imported iris data\n",
    "\n",
    "Desired Output:\n",
    "10th percentile of the sepalwidth:  2.5\n",
    "90th percentile of the sepalwidth:  3.6099999189376826\n",
    "</pre>"
   ]
  },
  {
   "cell_type": "code",
   "execution_count": 192,
   "id": "e7cb2ab3",
   "metadata": {},
   "outputs": [
    {
     "name": "stdout",
     "output_type": "stream",
     "text": [
      "10th percentile of the sepalwidth:  2.5\n"
     ]
    }
   ],
   "source": [
    "print(\"10th percentile of the sepalwidth: \", \n",
    "      np.percentile(data['sepalwidth'], 10) )"
   ]
  },
  {
   "cell_type": "code",
   "execution_count": 191,
   "id": "b7bc6887",
   "metadata": {},
   "outputs": [
    {
     "name": "stdout",
     "output_type": "stream",
     "text": [
      "90th percentile of the sepalwidth:  3.6099999189376826\n"
     ]
    }
   ],
   "source": [
    "print(\"90th percentile of the sepalwidth: \",\n",
    "      np.percentile(data['sepalwidth'], 90) )"
   ]
  },
  {
   "cell_type": "markdown",
   "id": "40638ebc",
   "metadata": {},
   "source": [
    "## 45. Show dataset's shape and dtype\n",
    "<pre>Given Input:\n",
    "The previous imported iris data\n",
    "\n",
    "Desired Output:\n",
    "(150,)\n",
    "</pre>\n",
    "dtype([('sepallength', '<f4'), ('sepalwidth', '<f4'), ('petallength', '<f4'), ('petalwidth', '<f4'), ('species', 'O')])"
   ]
  },
  {
   "cell_type": "code",
   "execution_count": 193,
   "id": "e1e65964",
   "metadata": {},
   "outputs": [
    {
     "data": {
      "text/plain": [
       "(150,)"
      ]
     },
     "execution_count": 193,
     "metadata": {},
     "output_type": "execute_result"
    }
   ],
   "source": [
    "data.shape"
   ]
  },
  {
   "cell_type": "code",
   "execution_count": 194,
   "id": "52cea627",
   "metadata": {},
   "outputs": [
    {
     "data": {
      "text/plain": [
       "dtype([('sepallength', '<f4'), ('sepalwidth', '<f4'), ('petallength', '<f4'), ('petalwidth', '<f4'), ('species', 'O')])"
      ]
     },
     "execution_count": 194,
     "metadata": {},
     "output_type": "execute_result"
    }
   ],
   "source": [
    "data.dtype"
   ]
  },
  {
   "cell_type": "markdown",
   "id": "bb42b391",
   "metadata": {},
   "source": [
    "## 46. Creating a numpy array with an ellipsis\n",
    "<pre>Access first column of array using ellipsis \"...\"\n",
    "Given Input:\n",
    "arr = np.array([[1, 2, 3, 4], \n",
    "                [5, 6, 7, 8]])\n",
    "$> arr\n",
    "array([[1, 2, 3, 4],\n",
    "       [5, 6, 7, 8]])   \n",
    "       \n",
    "Desired Output:  \n",
    "[1 5]    \n",
    "</pre>"
   ]
  },
  {
   "cell_type": "code",
   "execution_count": 208,
   "id": "9275f388",
   "metadata": {},
   "outputs": [
    {
     "data": {
      "text/plain": [
       "array([[1, 2, 3, 4],\n",
       "       [5, 6, 7, 8]])"
      ]
     },
     "execution_count": 208,
     "metadata": {},
     "output_type": "execute_result"
    }
   ],
   "source": [
    "arr = np.array([[1, 2, 3, 4], \n",
    "                [5, 6, 7, 8]])\n",
    "arr"
   ]
  },
  {
   "cell_type": "code",
   "execution_count": 209,
   "id": "b87954ab",
   "metadata": {},
   "outputs": [
    {
     "name": "stdout",
     "output_type": "stream",
     "text": [
      "[1 5]\n"
     ]
    }
   ],
   "source": [
    "print(arr[..., 0])"
   ]
  },
  {
   "cell_type": "markdown",
   "id": "bb685fdb",
   "metadata": {},
   "source": [
    "## 47. Using broadcasting to perform element-wise operations\n",
    "<pre>Transpose arr2 and add arr1\n",
    "Given Input:\n",
    "arr1 = np.array([[1, 2], [3, 4], [5,6]])\n",
    "arr2 = np.array([2, 3, 4])\n",
    "\n",
    "Desired Output:  \n",
    "array([[ 3,  4],\n",
    "       [ 6,  7],\n",
    "       [ 9, 10]])\n",
    "</pre>"
   ]
  },
  {
   "cell_type": "code",
   "execution_count": 219,
   "id": "91ea9855",
   "metadata": {},
   "outputs": [],
   "source": [
    "arr1 = np.array([[1, 2], [3, 4], [5,6]])\n",
    "arr2 = np.array([2, 3, 4])"
   ]
  },
  {
   "cell_type": "code",
   "execution_count": 220,
   "id": "bf0d81b9",
   "metadata": {},
   "outputs": [
    {
     "data": {
      "text/plain": [
       "array([[ 3,  4],\n",
       "       [ 6,  7],\n",
       "       [ 9, 10]])"
      ]
     },
     "execution_count": 220,
     "metadata": {},
     "output_type": "execute_result"
    }
   ],
   "source": [
    "arr1 + arr2.reshape(3, 1)"
   ]
  },
  {
   "cell_type": "markdown",
   "id": "59bcceed",
   "metadata": {},
   "source": [
    "## 48. Using broadcasting to perform element-wise operations\n",
    "<pre>Transpose arr2 and multiply arr1\n",
    "Given Input:\n",
    "arr1 = np.array([[1, 2], [3, 4], [5,6]])\n",
    "arr2 = np.array([2, 3, 4])\n",
    "\n",
    "Desired Output:\n",
    "array([[ 2,  4],\n",
    "       [ 9, 12],\n",
    "       [20, 24]])    "
   ]
  },
  {
   "cell_type": "code",
   "execution_count": 221,
   "id": "b6e8de1a",
   "metadata": {},
   "outputs": [
    {
     "data": {
      "text/plain": [
       "array([[ 2,  4],\n",
       "       [ 9, 12],\n",
       "       [20, 24]])"
      ]
     },
     "execution_count": 221,
     "metadata": {},
     "output_type": "execute_result"
    }
   ],
   "source": [
    "arr1 * arr2.reshape(3, 1)"
   ]
  },
  {
   "cell_type": "markdown",
   "id": "d63f4221",
   "metadata": {},
   "source": [
    "## 49. Solve linear algebra\n",
    "<pre>\n",
    "Find the value of a and b\n",
    "1a + 2b = 5\n",
    "3a + 4b = 6\n",
    "\n",
    "Desired Output:\n",
    "[-4.   4.5]\n",
    "</pre>"
   ]
  },
  {
   "cell_type": "code",
   "execution_count": 223,
   "id": "c6e40cd6",
   "metadata": {},
   "outputs": [
    {
     "name": "stdout",
     "output_type": "stream",
     "text": [
      "[-4.   4.5]\n"
     ]
    }
   ],
   "source": [
    "a = np.array([[1, 2], [3, 4]])\n",
    "b = np.array([5, 6])\n",
    "x = np.linalg.solve(a, b)\n",
    "print(x)"
   ]
  },
  {
   "cell_type": "markdown",
   "id": "138b6505",
   "metadata": {},
   "source": [
    "## 50. Solve linear algebra\n",
    "<pre>Find the value of x y, and z\n",
    "3x + 4y + 2z = 1\n",
    "2x + 5y + 3z = 2\n",
    "x + 2y + z = 3\n",
    "\n",
    "Desired Output:\n",
    "[ -5.  12. -16.]</pre>"
   ]
  },
  {
   "cell_type": "code",
   "execution_count": 229,
   "id": "d5f6f31e",
   "metadata": {},
   "outputs": [
    {
     "name": "stdout",
     "output_type": "stream",
     "text": [
      "[ -5.  12. -16.]\n"
     ]
    }
   ],
   "source": [
    "a = np.array([[3, 4, 2], [2, 5, 3], [1, 2, 1]])\n",
    "b = np.array([1, 2, 3])\n",
    "x = np.linalg.solve(a, b)\n",
    "print(x)"
   ]
  },
  {
   "attachments": {},
   "cell_type": "markdown",
   "id": "f8e34c5d",
   "metadata": {},
   "source": [
    "## 51. Numpy array broadcasting - Scalar multiplication\n",
    "<pre>Find the broadcasting of a * b\n",
    "Given Input:\n",
    "a = np.array([[1, 2], [3, 4]])\n",
    "b = 2\n",
    "\n",
    "Desired Output:\n",
    "[[2 4]\n",
    " [6 8]]</pre>"
   ]
  },
  {
   "cell_type": "code",
   "execution_count": 230,
   "id": "8b56ae0c",
   "metadata": {},
   "outputs": [
    {
     "name": "stdout",
     "output_type": "stream",
     "text": [
      "[[2 4]\n",
      " [6 8]]\n"
     ]
    }
   ],
   "source": [
    "a = np.array([[1, 2], [3, 4]])\n",
    "b = 2\n",
    "c = a * b\n",
    "print(c)"
   ]
  },
  {
   "cell_type": "markdown",
   "id": "7fe4b461",
   "metadata": {},
   "source": [
    "## 51. Numpy array broadcasting - 2D array multiplication\n",
    "<pre>Find the broadcasting of a * b\n",
    "Given Input:\n",
    "a = np.array([[1, 2], [3, 4], [5, 6]])\n",
    "b = np.array([2, 3])\n",
    "\n",
    "Desired Output:\n",
    "[[ 2  6]\n",
    " [ 6 12]\n",
    " [10 18]]"
   ]
  },
  {
   "cell_type": "code",
   "execution_count": 239,
   "id": "0fc3c315",
   "metadata": {},
   "outputs": [
    {
     "name": "stdout",
     "output_type": "stream",
     "text": [
      "[[ 2  6]\n",
      " [ 6 12]\n",
      " [10 18]]\n"
     ]
    }
   ],
   "source": [
    "a = np.array([[1, 2], [3, 4], [5, 6]])\n",
    "b = np.array([2, 3])\n",
    "c = a * b\n",
    "print(c)"
   ]
  },
  {
   "cell_type": "markdown",
   "id": "98b62270",
   "metadata": {},
   "source": [
    "## 52. Numpy array broadcasting - 3D array multiplication\n",
    "<pre>Find the broadcasting of a * b\n",
    "Given Input:\n",
    "a = np.array([[[1, 2], [3, 4]], [[5, 6], [7, 8]]])\n",
    "b = np.array([10, 20])\n",
    "\n",
    "Desired Output:\n",
    "[[[11 22]\n",
    "  [13 24]]\n",
    "\n",
    " [[15 26]\n",
    "  [17 28]]]</pre>"
   ]
  },
  {
   "cell_type": "code",
   "execution_count": 235,
   "id": "f8d90dc4",
   "metadata": {},
   "outputs": [
    {
     "name": "stdout",
     "output_type": "stream",
     "text": [
      "[[[11 22]\n",
      "  [13 24]]\n",
      "\n",
      " [[15 26]\n",
      "  [17 28]]]\n"
     ]
    }
   ],
   "source": [
    "a = np.array([[[1, 2], [3, 4]], [[5, 6], [7, 8]]])\n",
    "b = np.array([10, 20])\n",
    "c = a + b \n",
    "print(c)"
   ]
  },
  {
   "cell_type": "code",
   "execution_count": 234,
   "id": "aaa4711e",
   "metadata": {},
   "outputs": [
    {
     "data": {
      "text/plain": [
       "(2, 2, 2)"
      ]
     },
     "execution_count": 234,
     "metadata": {},
     "output_type": "execute_result"
    }
   ],
   "source": [
    "a.shape"
   ]
  },
  {
   "cell_type": "code",
   "execution_count": 240,
   "id": "1ba246c0",
   "metadata": {},
   "outputs": [
    {
     "data": {
      "text/plain": [
       "(2,)"
      ]
     },
     "execution_count": 240,
     "metadata": {},
     "output_type": "execute_result"
    }
   ],
   "source": [
    "b.shape"
   ]
  },
  {
   "cell_type": "code",
   "execution_count": null,
   "id": "a40b7f4d",
   "metadata": {},
   "outputs": [],
   "source": []
  }
 ],
 "metadata": {
  "kernelspec": {
   "display_name": "Python 3 (ipykernel)",
   "language": "python",
   "name": "python3"
  },
  "language_info": {
   "codemirror_mode": {
    "name": "ipython",
    "version": 3
   },
   "file_extension": ".py",
   "mimetype": "text/x-python",
   "name": "python",
   "nbconvert_exporter": "python",
   "pygments_lexer": "ipython3",
   "version": "3.9.13"
  }
 },
 "nbformat": 4,
 "nbformat_minor": 5
}
