{
 "cells": [
  {
   "cell_type": "markdown",
   "id": "7c8a1787",
   "metadata": {},
   "source": [
    "# Universal Function"
   ]
  },
  {
   "cell_type": "code",
   "execution_count": 1,
   "id": "e2fd7091",
   "metadata": {},
   "outputs": [],
   "source": [
    "import numpy as np"
   ]
  },
  {
   "cell_type": "markdown",
   "id": "32ad8d20",
   "metadata": {},
   "source": [
    "## 53. Numpy power and square root\n",
    "<pre>Find the following value in numpy array\n",
    "1. Power 2 of array([1, 2, 3])\n",
    "2. Square root of array([4, 9, 16])\n",
    "\n",
    "Desire Output:\n",
    "$> [1 4 9]\n",
    "$> [2. 3. 4.]</pre>"
   ]
  },
  {
   "cell_type": "code",
   "execution_count": 6,
   "id": "499c5ce2",
   "metadata": {},
   "outputs": [
    {
     "name": "stdout",
     "output_type": "stream",
     "text": [
      "[1 4 9]\n"
     ]
    }
   ],
   "source": [
    "a = np.array([1, 2, 3])\n",
    "c = np.power(a, 2)\n",
    "print(c)"
   ]
  },
  {
   "cell_type": "code",
   "execution_count": 4,
   "id": "33787be3",
   "metadata": {},
   "outputs": [
    {
     "name": "stdout",
     "output_type": "stream",
     "text": [
      "[2. 3. 4.]\n"
     ]
    }
   ],
   "source": [
    "a = np.array([4, 9, 16])\n",
    "c = np.sqrt(a)\n",
    "print(c)"
   ]
  },
  {
   "cell_type": "markdown",
   "id": "57743cd9",
   "metadata": {},
   "source": [
    "## 54. Negation of numpy boolean array\n",
    "<pre>Find the negation of array\n",
    "Given Input:\n",
    "a = np.array([True, False, True])\n",
    "\n",
    "Desired Output:\n",
    "not a: [False  True False]</pre>"
   ]
  },
  {
   "cell_type": "code",
   "execution_count": 7,
   "id": "b845c2e4",
   "metadata": {},
   "outputs": [
    {
     "name": "stdout",
     "output_type": "stream",
     "text": [
      "not a: [False  True False]\n"
     ]
    }
   ],
   "source": [
    "a = np.array([True, False, True])\n",
    "neg_a = np.logical_not(a)\n",
    "print(\"not a:\", neg_a)"
   ]
  },
  {
   "cell_type": "markdown",
   "id": "c4c50a55",
   "metadata": {},
   "source": [
    "## 55. Element-wise logical operations on two arrays\n",
    "<pre>Find the logical value of a and b\n",
    "Given Input:\n",
    "a = np.array([False, True, False, True])\n",
    "b = np.array([False, False, True, True])\n",
    "\n",
    "Desired Output:\n",
    "a and b: [False False False  True]\n",
    "a or b: [False  True  True  True]\n",
    "a xor b: [False  True  True False]</pre>"
   ]
  },
  {
   "cell_type": "code",
   "execution_count": 10,
   "id": "4514e982",
   "metadata": {},
   "outputs": [
    {
     "name": "stdout",
     "output_type": "stream",
     "text": [
      "a and b: [False False False  True]\n",
      "a or b: [False  True  True  True]\n",
      "a xor b: [False  True  True False]\n"
     ]
    }
   ],
   "source": [
    "a = np.array([False, True, False, True])\n",
    "b = np.array([False, False, True, True])\n",
    "\n",
    "and_ab = np.logical_and(a, b)\n",
    "or_ab = np.logical_or(a, b)\n",
    "xor_ab = np.logical_xor(a, b)\n",
    "\n",
    "print(\"a and b:\", and_ab)\n",
    "print(\"a or b:\", or_ab)\n",
    "print(\"a xor b:\", xor_ab)"
   ]
  },
  {
   "cell_type": "markdown",
   "id": "8f50e069",
   "metadata": {},
   "source": [
    "## 56. Performs unbuffered in place operation on operand\n",
    "<pre>Make negative the a first and second column, and return a\n",
    "Given Input:\n",
    "a = np.array([1, 2, 3, 4])\n",
    "\n",
    "Desired Output:\n",
    "array([-1, -2,  3,  4])</pre>"
   ]
  },
  {
   "cell_type": "code",
   "execution_count": 11,
   "id": "55dab3cd",
   "metadata": {},
   "outputs": [
    {
     "data": {
      "text/plain": [
       "array([-1, -2,  3,  4])"
      ]
     },
     "execution_count": 11,
     "metadata": {},
     "output_type": "execute_result"
    }
   ],
   "source": [
    "a = np.array([1, 2, 3, 4])\n",
    "np.negative.at(a, [0, 1])\n",
    "a"
   ]
  },
  {
   "cell_type": "markdown",
   "id": "ea9b9a04",
   "metadata": {},
   "source": [
    "## 57. Performs unbuffered in place operation on operand\n",
    "<pre>Add items 0 and 1 in a to b, and store results in a\n",
    "a = np.array([1, 2, 3, 4])\n",
    "b = np.array([1, 2])\n",
    "\n",
    "Desired Output:\n",
    "$> a\n",
    "array([2, 4, 3, 4])</pre>"
   ]
  },
  {
   "cell_type": "code",
   "execution_count": 12,
   "id": "e7bab9df",
   "metadata": {},
   "outputs": [
    {
     "data": {
      "text/plain": [
       "array([2, 4, 3, 4])"
      ]
     },
     "execution_count": 12,
     "metadata": {},
     "output_type": "execute_result"
    }
   ],
   "source": [
    "a = np.array([1, 2, 3, 4])\n",
    "b = np.array([1, 2])\n",
    "np.add.at(a, [0, 1], b)\n",
    "a"
   ]
  },
  {
   "cell_type": "markdown",
   "id": "d98ce766",
   "metadata": {},
   "source": [
    "## 58. Accumulate the result of applying the operator to all elements\n",
    "<pre>Find the accumulate value by addition and multiplication of a\n",
    "Given Input:\n",
    "a = np.array([1, 2, 3])\n",
    "\n",
    "Desired Output:\n",
    "array([1, 3, 6])\n",
    "array([1, 2, 6])\n",
    "</pre>"
   ]
  },
  {
   "cell_type": "code",
   "execution_count": 15,
   "id": "c1a88a21",
   "metadata": {},
   "outputs": [],
   "source": [
    "a = np.array([1, 2, 3])"
   ]
  },
  {
   "cell_type": "code",
   "execution_count": 16,
   "id": "b0faf7d0",
   "metadata": {},
   "outputs": [
    {
     "data": {
      "text/plain": [
       "array([1, 3, 6])"
      ]
     },
     "execution_count": 16,
     "metadata": {},
     "output_type": "execute_result"
    }
   ],
   "source": [
    "# np.add.accumulate() equal np.cumsum()\n",
    "np.add.accumulate(a)"
   ]
  },
  {
   "cell_type": "code",
   "execution_count": 17,
   "id": "96de2283",
   "metadata": {},
   "outputs": [
    {
     "data": {
      "text/plain": [
       "array([1, 2, 6])"
      ]
     },
     "execution_count": 17,
     "metadata": {},
     "output_type": "execute_result"
    }
   ],
   "source": [
    "np.multiply.accumulate(a)"
   ]
  },
  {
   "cell_type": "markdown",
   "id": "1761b833",
   "metadata": {},
   "source": [
    "## 59. Reduces array’s dimension by one, by applying ufunc along one axis.\n",
    "<pre>Try the folowing 3 function and write down its calcualting logics \n",
    "np.multiply.reduce(a)\n",
    "np.add.reduce(a)\n",
    "np.power.reduce(a)\n",
    "\n",
    "Given Input:\n",
    "a = np.array([2,3,4])\n",
    "\n",
    "Desired Output:\n",
    "24\n",
    "9\n",
    "4096</pre>"
   ]
  },
  {
   "cell_type": "code",
   "execution_count": 21,
   "id": "a5c154aa",
   "metadata": {},
   "outputs": [],
   "source": [
    "a = np.array([2,3,4])"
   ]
  },
  {
   "cell_type": "code",
   "execution_count": 22,
   "id": "be7e7e96",
   "metadata": {},
   "outputs": [
    {
     "data": {
      "text/plain": [
       "24"
      ]
     },
     "execution_count": 22,
     "metadata": {},
     "output_type": "execute_result"
    }
   ],
   "source": [
    "# = 2*3*4\n",
    "np.multiply.reduce(a)"
   ]
  },
  {
   "cell_type": "code",
   "execution_count": 26,
   "id": "eedc3df0",
   "metadata": {},
   "outputs": [
    {
     "data": {
      "text/plain": [
       "9"
      ]
     },
     "execution_count": 26,
     "metadata": {},
     "output_type": "execute_result"
    }
   ],
   "source": [
    "# np.add.reduce() equal to np.sum()\n",
    "np.add.reduce(a)"
   ]
  },
  {
   "cell_type": "code",
   "execution_count": 27,
   "id": "42b31608",
   "metadata": {},
   "outputs": [
    {
     "data": {
      "text/plain": [
       "4096"
      ]
     },
     "execution_count": 27,
     "metadata": {},
     "output_type": "execute_result"
    }
   ],
   "source": [
    "# = (2**3)**4\n",
    "np.power.reduce(a)"
   ]
  },
  {
   "cell_type": "markdown",
   "id": "e2a8dfd5",
   "metadata": {},
   "source": [
    "## 60. Compute the outer product of two given vectors\n",
    "<pre>\n",
    "Given Input:\n",
    "a = np.array([1, 2, 3])\n",
    "b = np.array([4, 5, 6]) \n",
    "\n",
    "Desired Output:\n",
    "array([[ 4,  5,  6],\n",
    "       [ 8, 10, 12],\n",
    "       [12, 15, 18]])</pre>"
   ]
  },
  {
   "cell_type": "code",
   "execution_count": 35,
   "id": "f11827fd",
   "metadata": {},
   "outputs": [],
   "source": [
    "a = np.array([1, 2, 3])\n",
    "b = np.array([4, 5, 6]) "
   ]
  },
  {
   "cell_type": "code",
   "execution_count": 36,
   "id": "bf4d83e1",
   "metadata": {},
   "outputs": [
    {
     "data": {
      "text/plain": [
       "array([[ 4,  5,  6],\n",
       "       [ 8, 10, 12],\n",
       "       [12, 15, 18]])"
      ]
     },
     "execution_count": 36,
     "metadata": {},
     "output_type": "execute_result"
    }
   ],
   "source": [
    "np.multiply.outer(a, b)"
   ]
  },
  {
   "cell_type": "code",
   "execution_count": 41,
   "id": "7cfa3592",
   "metadata": {},
   "outputs": [
    {
     "data": {
      "text/plain": [
       "array([ 4, 10, 18])"
      ]
     },
     "execution_count": 41,
     "metadata": {},
     "output_type": "execute_result"
    }
   ],
   "source": [
    "np.multiply(a, b)"
   ]
  },
  {
   "cell_type": "markdown",
   "id": "83adab86",
   "metadata": {},
   "source": [
    "## 61. First array elements raised to powers from second array\n",
    "<pre>Use np.float_power(x1, x2) to the positionally-corresponding power\n",
    "Given Input:\n",
    "a = np.array([1, 2, 3])\n",
    "b = np.array([0, 2, 4])\n",
    "\n",
    "Desired Output:\n",
    "array([ 1.,  4., 81.])</pre>"
   ]
  },
  {
   "cell_type": "code",
   "execution_count": 42,
   "id": "8d6bd7d4",
   "metadata": {},
   "outputs": [],
   "source": [
    "a = np.array([1, 2, 3])\n",
    "b = np.array([0, 2, 4])"
   ]
  },
  {
   "cell_type": "code",
   "execution_count": 43,
   "id": "93541b14",
   "metadata": {},
   "outputs": [
    {
     "data": {
      "text/plain": [
       "array([ 1.,  4., 81.])"
      ]
     },
     "execution_count": 43,
     "metadata": {},
     "output_type": "execute_result"
    }
   ],
   "source": [
    "np.float_power(a, b)"
   ]
  },
  {
   "cell_type": "markdown",
   "id": "472f98dd",
   "metadata": {},
   "source": [
    "## 62. Returns the element-wise remainder of division\n",
    "<pre>Find the remainder of division from a b\n",
    "Given Input:\n",
    "a = np.array([3, 5, 7])\n",
    "b = np.array([2, 3, 4])\n",
    "\n",
    "Desired Output:\n",
    "array([1, 2, 3])</pre>"
   ]
  },
  {
   "cell_type": "code",
   "execution_count": 48,
   "id": "775b3e0d",
   "metadata": {},
   "outputs": [],
   "source": [
    "a = np.array([3, 5, 7])\n",
    "b = np.array([2, 3, 4])"
   ]
  },
  {
   "cell_type": "code",
   "execution_count": 49,
   "id": "dfbf2317",
   "metadata": {},
   "outputs": [
    {
     "data": {
      "text/plain": [
       "array([1, 2, 3])"
      ]
     },
     "execution_count": 49,
     "metadata": {},
     "output_type": "execute_result"
    }
   ],
   "source": [
    "np.remainder(a, b)"
   ]
  },
  {
   "cell_type": "code",
   "execution_count": 50,
   "id": "cea10123",
   "metadata": {},
   "outputs": [
    {
     "data": {
      "text/plain": [
       "array([1, 2, 3])"
      ]
     },
     "execution_count": 50,
     "metadata": {},
     "output_type": "execute_result"
    }
   ],
   "source": [
    "# The % operator can be used as a shorthand for np.remainder on ndarrays\n",
    "a % b"
   ]
  },
  {
   "cell_type": "code",
   "execution_count": 51,
   "id": "7e772f31",
   "metadata": {},
   "outputs": [
    {
     "data": {
      "text/plain": [
       "array([1, 2, 3])"
      ]
     },
     "execution_count": 51,
     "metadata": {},
     "output_type": "execute_result"
    }
   ],
   "source": [
    "np.mod(a, b)"
   ]
  },
  {
   "cell_type": "markdown",
   "id": "66c7b7e2",
   "metadata": {},
   "source": [
    "## 63. Floor divide\n",
    "<pre>Return the largest integer smaller or equal to the division of the inputs.\n",
    "Given Input:\n",
    "a = np.array([7, 7, 7, 11])\n",
    "b = np.array([2, 3, 4, 5])\n",
    "\n",
    "Desired Output:\n",
    "array([3, 2, 1, 2])</pre>"
   ]
  },
  {
   "cell_type": "code",
   "execution_count": 62,
   "id": "6e9d6e01",
   "metadata": {},
   "outputs": [],
   "source": [
    "a = np.array([7, 7, 7, 11])\n",
    "b = np.array([2, 3, 4, 5])"
   ]
  },
  {
   "cell_type": "code",
   "execution_count": 63,
   "id": "1a7cb656",
   "metadata": {},
   "outputs": [
    {
     "data": {
      "text/plain": [
       "array([3, 2, 1, 2])"
      ]
     },
     "execution_count": 63,
     "metadata": {},
     "output_type": "execute_result"
    }
   ],
   "source": [
    "np.floor_divide(a, b)"
   ]
  },
  {
   "attachments": {},
   "cell_type": "markdown",
   "id": "d0379560",
   "metadata": {},
   "source": [
    "## 64. Natural logarithm, element-wise\n",
    "<pre>\n",
    "Try Natural logarithm: np.log()\n",
    "Try Natural logarithm of one plus log(1 + x): np.log1p()\n",
    "\n",
    "Given Input:\n",
    "a = np.array([1, 10, np.e])\n",
    "\n",
    "Desired Output:\n",
    "array([0.        , 2.30258509, 1.        ])\n",
    "array([0.69314718, 2.39789527, 1.31326169])</pre>"
   ]
  },
  {
   "cell_type": "code",
   "execution_count": 78,
   "id": "ef20b118",
   "metadata": {},
   "outputs": [],
   "source": [
    "a = np.array([1, 10, np.e])"
   ]
  },
  {
   "cell_type": "code",
   "execution_count": 79,
   "id": "ac0c4b1e",
   "metadata": {},
   "outputs": [
    {
     "data": {
      "text/plain": [
       "array([0.        , 2.30258509, 1.        ])"
      ]
     },
     "execution_count": 79,
     "metadata": {},
     "output_type": "execute_result"
    }
   ],
   "source": [
    "np.log(a)"
   ]
  },
  {
   "cell_type": "code",
   "execution_count": 80,
   "id": "7bf9e975",
   "metadata": {},
   "outputs": [
    {
     "data": {
      "text/plain": [
       "array([0.69314718, 2.39789527, 1.31326169])"
      ]
     },
     "execution_count": 80,
     "metadata": {},
     "output_type": "execute_result"
    }
   ],
   "source": [
    "np.log1p(a)"
   ]
  },
  {
   "cell_type": "markdown",
   "id": "65a86e38",
   "metadata": {},
   "source": [
    "## 65. Calculate the exponential of all elements in the input array\n",
    "<pre>Calculate exp(x)\n",
    "Calculate exp(x) - 1\n",
    "\n",
    "Given Input:\n",
    "a = np.array([1, 10, 100])\n",
    "\n",
    "Desired Output:\n",
    "array([2.71828183e+00, 2.20264658e+04, 2.68811714e+43])\n",
    "array([1.71828183e+00, 2.20254658e+04, 2.68811714e+43])\n",
    "</pre>"
   ]
  },
  {
   "cell_type": "code",
   "execution_count": 85,
   "id": "fa513fdd",
   "metadata": {},
   "outputs": [],
   "source": [
    "a = np.array([1, 10, 100])"
   ]
  },
  {
   "cell_type": "code",
   "execution_count": 88,
   "id": "281632fc",
   "metadata": {},
   "outputs": [
    {
     "data": {
      "text/plain": [
       "array([2.71828183e+00, 2.20264658e+04, 2.68811714e+43])"
      ]
     },
     "execution_count": 88,
     "metadata": {},
     "output_type": "execute_result"
    }
   ],
   "source": [
    "np.exp(a)"
   ]
  },
  {
   "cell_type": "code",
   "execution_count": 89,
   "id": "e2683d89",
   "metadata": {},
   "outputs": [
    {
     "data": {
      "text/plain": [
       "array([1.71828183e+00, 2.20254658e+04, 2.68811714e+43])"
      ]
     },
     "execution_count": 89,
     "metadata": {},
     "output_type": "execute_result"
    }
   ],
   "source": [
    "np.expm1(a)"
   ]
  },
  {
   "cell_type": "markdown",
   "id": "59302710",
   "metadata": {},
   "source": [
    "## 66. Return the non-negative square-root of an array, element-wise.\n",
    "<pre>Return square root of array\n",
    "a = np.array([1, 10, 100])</pre>"
   ]
  },
  {
   "cell_type": "code",
   "execution_count": null,
   "id": "9b6f33a8",
   "metadata": {},
   "outputs": [],
   "source": [
    "a = np.array([1, 10, 100])"
   ]
  },
  {
   "cell_type": "code",
   "execution_count": 90,
   "id": "069cc7c2",
   "metadata": {},
   "outputs": [
    {
     "data": {
      "text/plain": [
       "array([ 1.        ,  3.16227766, 10.        ])"
      ]
     },
     "execution_count": 90,
     "metadata": {},
     "output_type": "execute_result"
    }
   ],
   "source": [
    "np.sqrt(a)"
   ]
  },
  {
   "cell_type": "markdown",
   "id": "c1add02d",
   "metadata": {},
   "source": [
    "## 67. Return the cube-root of an array, element-wise.\n",
    "<pre>Return cube root of array\n",
    "a = np.array([1, 8, 1000])</pre>"
   ]
  },
  {
   "cell_type": "code",
   "execution_count": 92,
   "id": "f97fda1b",
   "metadata": {},
   "outputs": [],
   "source": [
    "a = np.array([1, 8, 1000])"
   ]
  },
  {
   "cell_type": "code",
   "execution_count": 93,
   "id": "3f2dd825",
   "metadata": {},
   "outputs": [
    {
     "data": {
      "text/plain": [
       "array([ 1.,  2., 10.])"
      ]
     },
     "execution_count": 93,
     "metadata": {},
     "output_type": "execute_result"
    }
   ],
   "source": [
    "np.cbrt(a)"
   ]
  },
  {
   "cell_type": "markdown",
   "id": "4ba3078c",
   "metadata": {},
   "source": [
    "## 68. Returns the greatest common divisor"
   ]
  },
  {
   "cell_type": "code",
   "execution_count": 97,
   "id": "89e8af0d",
   "metadata": {},
   "outputs": [
    {
     "data": {
      "text/plain": [
       "4"
      ]
     },
     "execution_count": 97,
     "metadata": {},
     "output_type": "execute_result"
    }
   ],
   "source": [
    "np.gcd(12, 20)"
   ]
  },
  {
   "cell_type": "code",
   "execution_count": 110,
   "id": "ac02a529",
   "metadata": {},
   "outputs": [
    {
     "data": {
      "text/plain": [
       "5"
      ]
     },
     "execution_count": 110,
     "metadata": {},
     "output_type": "execute_result"
    }
   ],
   "source": [
    "np.gcd.reduce([15, 25, 35])"
   ]
  },
  {
   "cell_type": "code",
   "execution_count": 108,
   "id": "9aa7bcde",
   "metadata": {},
   "outputs": [
    {
     "data": {
      "text/plain": [
       "array([20,  1,  2,  1,  4,  5])"
      ]
     },
     "execution_count": 108,
     "metadata": {},
     "output_type": "execute_result"
    }
   ],
   "source": [
    "np.gcd(np.arange(6), 20)"
   ]
  },
  {
   "cell_type": "markdown",
   "id": "313f685d",
   "metadata": {},
   "source": [
    "## 69. Returns the lowest common multiple "
   ]
  },
  {
   "cell_type": "code",
   "execution_count": 94,
   "id": "b46b1587",
   "metadata": {},
   "outputs": [
    {
     "data": {
      "text/plain": [
       "60"
      ]
     },
     "execution_count": 94,
     "metadata": {},
     "output_type": "execute_result"
    }
   ],
   "source": [
    "np.lcm(12, 20)"
   ]
  },
  {
   "cell_type": "code",
   "execution_count": 95,
   "id": "1f7ae8ee",
   "metadata": {},
   "outputs": [
    {
     "data": {
      "text/plain": [
       "60"
      ]
     },
     "execution_count": 95,
     "metadata": {},
     "output_type": "execute_result"
    }
   ],
   "source": [
    "np.lcm.reduce([3, 12, 20])"
   ]
  },
  {
   "cell_type": "code",
   "execution_count": 96,
   "id": "0cb17136",
   "metadata": {},
   "outputs": [
    {
     "data": {
      "text/plain": [
       "120"
      ]
     },
     "execution_count": 96,
     "metadata": {},
     "output_type": "execute_result"
    }
   ],
   "source": [
    "np.lcm.reduce([40, 12, 20])"
   ]
  },
  {
   "cell_type": "code",
   "execution_count": 111,
   "id": "a9f9c215",
   "metadata": {},
   "outputs": [
    {
     "data": {
      "text/plain": [
       "array([ 0, 20, 20, 60, 20, 20])"
      ]
     },
     "execution_count": 111,
     "metadata": {},
     "output_type": "execute_result"
    }
   ],
   "source": [
    "np.lcm(np.arange(6), 20)"
   ]
  },
  {
   "cell_type": "markdown",
   "id": "91b38a60",
   "metadata": {},
   "source": [
    "## 70. Test element-wise for NaN and return result as a boolean array"
   ]
  },
  {
   "cell_type": "code",
   "execution_count": 117,
   "id": "b7ee1d9d",
   "metadata": {},
   "outputs": [
    {
     "data": {
      "text/plain": [
       "array([False, False,  True])"
      ]
     },
     "execution_count": 117,
     "metadata": {},
     "output_type": "execute_result"
    }
   ],
   "source": [
    "np.isnan([1, 2, np.NaN])"
   ]
  },
  {
   "cell_type": "code",
   "execution_count": 118,
   "id": "a0d2cd7d",
   "metadata": {},
   "outputs": [
    {
     "data": {
      "text/plain": [
       "False"
      ]
     },
     "execution_count": 118,
     "metadata": {},
     "output_type": "execute_result"
    }
   ],
   "source": [
    "np.isnan(np.inf)"
   ]
  },
  {
   "cell_type": "markdown",
   "id": "4214e36e",
   "metadata": {},
   "source": [
    "## 71. Return the ceiling and floor of the input, element-wise."
   ]
  },
  {
   "cell_type": "code",
   "execution_count": 129,
   "id": "ac140b1e",
   "metadata": {},
   "outputs": [
    {
     "data": {
      "text/plain": [
       "array([-1.7, -1.5, -0.2,  0.2,  1.5,  1.7,  2. ])"
      ]
     },
     "execution_count": 129,
     "metadata": {},
     "output_type": "execute_result"
    }
   ],
   "source": [
    "a = np.array([-1.7, -1.5, -0.2, 0.2, 1.5, 1.7, 2.0])\n",
    "a"
   ]
  },
  {
   "cell_type": "code",
   "execution_count": 127,
   "id": "0a2905ef",
   "metadata": {},
   "outputs": [
    {
     "data": {
      "text/plain": [
       "array([-1., -1., -0.,  1.,  2.,  2.,  2.])"
      ]
     },
     "execution_count": 127,
     "metadata": {},
     "output_type": "execute_result"
    }
   ],
   "source": [
    "np.ceil(a)"
   ]
  },
  {
   "cell_type": "code",
   "execution_count": 128,
   "id": "c6a3e7e3",
   "metadata": {},
   "outputs": [
    {
     "data": {
      "text/plain": [
       "array([-2., -2., -1.,  0.,  1.,  1.,  2.])"
      ]
     },
     "execution_count": 128,
     "metadata": {},
     "output_type": "execute_result"
    }
   ],
   "source": [
    "np.floor(a)"
   ]
  },
  {
   "cell_type": "markdown",
   "id": "8acf8647",
   "metadata": {},
   "source": [
    "## 72. Return the truncated value of the input, element-wise.\n",
    "The truncated value of the scalar x is the nearest integer i which is closer to zero than x is. In short, the fractional part of the signed number x is discarded."
   ]
  },
  {
   "cell_type": "code",
   "execution_count": 130,
   "id": "d592ce4e",
   "metadata": {},
   "outputs": [
    {
     "data": {
      "text/plain": [
       "array([-1.7, -1.5, -0.2,  0.2,  1.5,  1.7,  2. ])"
      ]
     },
     "execution_count": 130,
     "metadata": {},
     "output_type": "execute_result"
    }
   ],
   "source": [
    "a = np.array([-1.7, -1.5, -0.2, 0.2, 1.5, 1.7, 2.0])\n",
    "a"
   ]
  },
  {
   "cell_type": "code",
   "execution_count": 131,
   "id": "6fb2eea9",
   "metadata": {},
   "outputs": [
    {
     "data": {
      "text/plain": [
       "array([-1., -1., -0.,  0.,  1.,  1.,  2.])"
      ]
     },
     "execution_count": 131,
     "metadata": {},
     "output_type": "execute_result"
    }
   ],
   "source": [
    "np.trunc(a)"
   ]
  },
  {
   "cell_type": "code",
   "execution_count": null,
   "id": "13d95c87",
   "metadata": {},
   "outputs": [],
   "source": []
  }
 ],
 "metadata": {
  "kernelspec": {
   "display_name": "Python 3 (ipykernel)",
   "language": "python",
   "name": "python3"
  },
  "language_info": {
   "codemirror_mode": {
    "name": "ipython",
    "version": 3
   },
   "file_extension": ".py",
   "mimetype": "text/x-python",
   "name": "python",
   "nbconvert_exporter": "python",
   "pygments_lexer": "ipython3",
   "version": "3.9.13"
  }
 },
 "nbformat": 4,
 "nbformat_minor": 5
}
