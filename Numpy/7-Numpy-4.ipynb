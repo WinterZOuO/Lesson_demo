{
 "cells": [
  {
   "cell_type": "code",
   "execution_count": 1,
   "id": "48e444b0",
   "metadata": {},
   "outputs": [],
   "source": [
    "import numpy as np"
   ]
  },
  {
   "cell_type": "markdown",
   "id": "71f2d310",
   "metadata": {},
   "source": [
    "## 20. Create a 2D array containing random floats between 5 and 10\n",
    "<pre>Create a 2D array of shape 5x3 to contain random decimal numbers between 5 and 10\n",
    "\n",
    "Desired Output:\n",
    "array([[5.07634273, 7.32940897, 5.78840303],\n",
    "       [9.53547942, 7.16008125, 7.67112179],\n",
    "       [7.42716913, 9.014935  , 9.20378359],\n",
    "       [6.28776986, 5.7333183 , 6.7932973 ],\n",
    "       [8.92046486, 7.80469775, 7.51347921]])</pre>"
   ]
  },
  {
   "cell_type": "code",
   "execution_count": 2,
   "id": "ea042bae",
   "metadata": {},
   "outputs": [
    {
     "data": {
      "text/plain": [
       "array([[7.28971239, 9.83082907, 5.74887922],\n",
       "       [8.86273344, 5.3705823 , 9.86869233],\n",
       "       [6.50522968, 9.51569933, 5.37464999],\n",
       "       [5.76716404, 6.16647355, 5.32844923],\n",
       "       [5.48013589, 8.25501796, 7.26970935]])"
      ]
     },
     "execution_count": 2,
     "metadata": {},
     "output_type": "execute_result"
    }
   ],
   "source": [
    "np.random.uniform(5,10, size=(5,3))"
   ]
  },
  {
   "cell_type": "markdown",
   "id": "012557e2",
   "metadata": {},
   "source": [
    "## 21. Print only 3 decimal places in python numpy array\n",
    "<pre>Print or show only 3 decimal places of the numpy array rand_arr.\n",
    "\n",
    "Given Input:\n",
    "rand_arr = np.random.random((2,2))</pre>"
   ]
  },
  {
   "cell_type": "code",
   "execution_count": 3,
   "id": "0651808e",
   "metadata": {},
   "outputs": [
    {
     "data": {
      "text/plain": [
       "array([[0.27317629, 0.62939944],\n",
       "       [0.23066   , 0.95621408]])"
      ]
     },
     "execution_count": 3,
     "metadata": {},
     "output_type": "execute_result"
    }
   ],
   "source": [
    "rand_arr = np.random.random([2,2])\n",
    "rand_arr"
   ]
  },
  {
   "cell_type": "code",
   "execution_count": 4,
   "id": "9123e18b",
   "metadata": {},
   "outputs": [
    {
     "data": {
      "text/plain": [
       "array([[0.273, 0.629],\n",
       "       [0.231, 0.956]])"
      ]
     },
     "execution_count": 4,
     "metadata": {},
     "output_type": "execute_result"
    }
   ],
   "source": [
    "np.round(rand_arr,3)"
   ]
  },
  {
   "cell_type": "markdown",
   "id": "f4fd9881",
   "metadata": {},
   "source": [
    "## 22. Print a scientific notation (like 1e10) numpy array to standard notation\n",
    "<pre>Pretty print rand_arr by suppressing the scientific notation (like 1e10)\n",
    "\n",
    "Given Input:\n",
    "rand_arr = np.random.random([3,3])/1e3\n",
    "rand_arr\n",
    "$> array([[  5.434049e-04,   2.783694e-04,   4.245176e-04],\n",
    "          [  8.447761e-04,   4.718856e-06,   1.215691e-04],\n",
    "          [  6.707491e-04,   8.258528e-04,   1.367066e-04]])\n",
    "\n",
    "Desired Output:\n",
    "$> array([[ 0.000543,  0.000278,  0.000425],\n",
    "          [ 0.000845,  0.000005,  0.000122],\n",
    "          [ 0.000671,  0.000826,  0.000137]])</pre>"
   ]
  },
  {
   "cell_type": "code",
   "execution_count": 5,
   "id": "619203be",
   "metadata": {},
   "outputs": [
    {
     "data": {
      "text/plain": [
       "array([[8.91778182e-05, 6.62826688e-05, 9.14705143e-04],\n",
       "       [2.04135377e-04, 3.94825989e-04, 4.77296823e-04],\n",
       "       [7.84455091e-04, 2.77446886e-04, 2.33903304e-04]])"
      ]
     },
     "execution_count": 5,
     "metadata": {},
     "output_type": "execute_result"
    }
   ],
   "source": [
    "rand_arr = np.random.random([3,3])/1e3\n",
    "rand_arr"
   ]
  },
  {
   "cell_type": "code",
   "execution_count": 6,
   "id": "c4cf7e1d",
   "metadata": {},
   "outputs": [
    {
     "data": {
      "text/plain": [
       "array([[0.000089, 0.000066, 0.000915],\n",
       "       [0.000204, 0.000395, 0.000477],\n",
       "       [0.000784, 0.000277, 0.000234]])"
      ]
     },
     "execution_count": 6,
     "metadata": {},
     "output_type": "execute_result"
    }
   ],
   "source": [
    "np.set_printoptions(suppress=True, precision=6)  \n",
    "rand_arr"
   ]
  },
  {
   "cell_type": "code",
   "execution_count": 7,
   "id": "ded83e9f",
   "metadata": {},
   "outputs": [
    {
     "data": {
      "text/plain": [
       "array([[8.917782e-05, 6.628267e-05, 9.147051e-04],\n",
       "       [2.041354e-04, 3.948260e-04, 4.772968e-04],\n",
       "       [7.844551e-04, 2.774469e-04, 2.339033e-04]])"
      ]
     },
     "execution_count": 7,
     "metadata": {},
     "output_type": "execute_result"
    }
   ],
   "source": [
    "np.set_printoptions(suppress=False)  \n",
    "rand_arr"
   ]
  },
  {
   "cell_type": "markdown",
   "id": "050aa6a7",
   "metadata": {},
   "source": [
    "## 23. Limit the number of items printed in output of numpy array\n",
    "<pre>Limit the number of items printed in python numpy array a to a maximum of 6 elements.\n",
    "\n",
    "Given Input:\n",
    "a = np.arange(15)\n",
    "$> array([ 0,  1,  2,  3,  4,  5,  6,  7,  8,  9, 10, 11, 12, 13, 14])\n",
    "\n",
    "Desired Output:\n",
    "$> array([ 0,  1,  2, ..., 12, 13, 14])\n",
    "</pre>"
   ]
  },
  {
   "cell_type": "code",
   "execution_count": 8,
   "id": "fdbb6482",
   "metadata": {},
   "outputs": [
    {
     "data": {
      "text/plain": [
       "array([ 0,  1,  2, ..., 12, 13, 14])"
      ]
     },
     "execution_count": 8,
     "metadata": {},
     "output_type": "execute_result"
    }
   ],
   "source": [
    "np.set_printoptions(threshold=6)\n",
    "a = np.arange(15)\n",
    "a"
   ]
  },
  {
   "cell_type": "markdown",
   "id": "c21d7050",
   "metadata": {},
   "source": [
    "## 24. Print the full numpy array without truncating\n",
    "<pre>Print the full numpy array a without truncating.\n",
    "\n",
    "Given Input:\n",
    "np.set_printoptions(threshold=6)\n",
    "a = np.arange(15)\n",
    "a\n",
    "$> array([ 0,  1,  2, ..., 12, 13, 14])\n",
    "\n",
    "Desired Output:\n",
    "a\n",
    "$> array([ 0, 1, 2, 3, 4, 5, 6, 7, 8, 9, 10, 11, 12, 13, 14])</pre>"
   ]
  },
  {
   "cell_type": "code",
   "execution_count": 9,
   "id": "e945816b",
   "metadata": {},
   "outputs": [
    {
     "data": {
      "text/plain": [
       "array([ 0,  1,  2, ..., 12, 13, 14])"
      ]
     },
     "execution_count": 9,
     "metadata": {},
     "output_type": "execute_result"
    }
   ],
   "source": [
    "np.set_printoptions(threshold=6)\n",
    "a = np.arange(15)\n",
    "a"
   ]
  },
  {
   "cell_type": "code",
   "execution_count": 10,
   "id": "4f8b3a7f",
   "metadata": {},
   "outputs": [
    {
     "data": {
      "text/plain": [
       "array([ 0,  1,  2,  3,  4,  5,  6,  7,  8,  9, 10, 11, 12, 13, 14])"
      ]
     },
     "execution_count": 10,
     "metadata": {},
     "output_type": "execute_result"
    }
   ],
   "source": [
    "np.set_printoptions(threshold=np.Inf)\n",
    "a"
   ]
  },
  {
   "cell_type": "markdown",
   "id": "2e38b213",
   "metadata": {},
   "source": [
    "## 25. Import a dataset with numbers and texts keeping the text intact in python numpy\n",
    "<pre>Import the iris dataset keeping the text intact.\n",
    "url: https://archive.ics.uci.edu/ml/machine-learning-databases/iris/iris.data\n",
    "\n",
    "Desired Output:\n",
    "array([(5.1, 3.5, 1.4, 0.2, b'Iris-setosa'),\n",
    "       (4.9, 3. , 1.4, 0.2, b'Iris-setosa'),\n",
    "       (4.7, 3.2, 1.3, 0.2, b'Iris-setosa'),\n",
    "       ...\n",
    "</pre>"
   ]
  },
  {
   "cell_type": "code",
   "execution_count": 11,
   "id": "304aa787",
   "metadata": {
    "scrolled": false
   },
   "outputs": [
    {
     "data": {
      "text/plain": [
       "array([(5.1, 3.5, 1.4, 0.2, b'Iris-setosa'),\n",
       "       (4.9, 3. , 1.4, 0.2, b'Iris-setosa'),\n",
       "       (4.7, 3.2, 1.3, 0.2, b'Iris-setosa'),\n",
       "       (4.6, 3.1, 1.5, 0.2, b'Iris-setosa'),\n",
       "       (5. , 3.6, 1.4, 0.2, b'Iris-setosa'),\n",
       "       (5.4, 3.9, 1.7, 0.4, b'Iris-setosa'),\n",
       "       (4.6, 3.4, 1.4, 0.3, b'Iris-setosa'),\n",
       "       (5. , 3.4, 1.5, 0.2, b'Iris-setosa'),\n",
       "       (4.4, 2.9, 1.4, 0.2, b'Iris-setosa'),\n",
       "       (4.9, 3.1, 1.5, 0.1, b'Iris-setosa'),\n",
       "       (5.4, 3.7, 1.5, 0.2, b'Iris-setosa'),\n",
       "       (4.8, 3.4, 1.6, 0.2, b'Iris-setosa'),\n",
       "       (4.8, 3. , 1.4, 0.1, b'Iris-setosa'),\n",
       "       (4.3, 3. , 1.1, 0.1, b'Iris-setosa'),\n",
       "       (5.8, 4. , 1.2, 0.2, b'Iris-setosa'),\n",
       "       (5.7, 4.4, 1.5, 0.4, b'Iris-setosa'),\n",
       "       (5.4, 3.9, 1.3, 0.4, b'Iris-setosa'),\n",
       "       (5.1, 3.5, 1.4, 0.3, b'Iris-setosa'),\n",
       "       (5.7, 3.8, 1.7, 0.3, b'Iris-setosa'),\n",
       "       (5.1, 3.8, 1.5, 0.3, b'Iris-setosa'),\n",
       "       (5.4, 3.4, 1.7, 0.2, b'Iris-setosa'),\n",
       "       (5.1, 3.7, 1.5, 0.4, b'Iris-setosa'),\n",
       "       (4.6, 3.6, 1. , 0.2, b'Iris-setosa'),\n",
       "       (5.1, 3.3, 1.7, 0.5, b'Iris-setosa'),\n",
       "       (4.8, 3.4, 1.9, 0.2, b'Iris-setosa'),\n",
       "       (5. , 3. , 1.6, 0.2, b'Iris-setosa'),\n",
       "       (5. , 3.4, 1.6, 0.4, b'Iris-setosa'),\n",
       "       (5.2, 3.5, 1.5, 0.2, b'Iris-setosa'),\n",
       "       (5.2, 3.4, 1.4, 0.2, b'Iris-setosa'),\n",
       "       (4.7, 3.2, 1.6, 0.2, b'Iris-setosa'),\n",
       "       (4.8, 3.1, 1.6, 0.2, b'Iris-setosa'),\n",
       "       (5.4, 3.4, 1.5, 0.4, b'Iris-setosa'),\n",
       "       (5.2, 4.1, 1.5, 0.1, b'Iris-setosa'),\n",
       "       (5.5, 4.2, 1.4, 0.2, b'Iris-setosa'),\n",
       "       (4.9, 3.1, 1.5, 0.1, b'Iris-setosa'),\n",
       "       (5. , 3.2, 1.2, 0.2, b'Iris-setosa'),\n",
       "       (5.5, 3.5, 1.3, 0.2, b'Iris-setosa'),\n",
       "       (4.9, 3.1, 1.5, 0.1, b'Iris-setosa'),\n",
       "       (4.4, 3. , 1.3, 0.2, b'Iris-setosa'),\n",
       "       (5.1, 3.4, 1.5, 0.2, b'Iris-setosa'),\n",
       "       (5. , 3.5, 1.3, 0.3, b'Iris-setosa'),\n",
       "       (4.5, 2.3, 1.3, 0.3, b'Iris-setosa'),\n",
       "       (4.4, 3.2, 1.3, 0.2, b'Iris-setosa'),\n",
       "       (5. , 3.5, 1.6, 0.6, b'Iris-setosa'),\n",
       "       (5.1, 3.8, 1.9, 0.4, b'Iris-setosa'),\n",
       "       (4.8, 3. , 1.4, 0.3, b'Iris-setosa'),\n",
       "       (5.1, 3.8, 1.6, 0.2, b'Iris-setosa'),\n",
       "       (4.6, 3.2, 1.4, 0.2, b'Iris-setosa'),\n",
       "       (5.3, 3.7, 1.5, 0.2, b'Iris-setosa'),\n",
       "       (5. , 3.3, 1.4, 0.2, b'Iris-setosa'),\n",
       "       (7. , 3.2, 4.7, 1.4, b'Iris-versicolor'),\n",
       "       (6.4, 3.2, 4.5, 1.5, b'Iris-versicolor'),\n",
       "       (6.9, 3.1, 4.9, 1.5, b'Iris-versicolor'),\n",
       "       (5.5, 2.3, 4. , 1.3, b'Iris-versicolor'),\n",
       "       (6.5, 2.8, 4.6, 1.5, b'Iris-versicolor'),\n",
       "       (5.7, 2.8, 4.5, 1.3, b'Iris-versicolor'),\n",
       "       (6.3, 3.3, 4.7, 1.6, b'Iris-versicolor'),\n",
       "       (4.9, 2.4, 3.3, 1. , b'Iris-versicolor'),\n",
       "       (6.6, 2.9, 4.6, 1.3, b'Iris-versicolor'),\n",
       "       (5.2, 2.7, 3.9, 1.4, b'Iris-versicolor'),\n",
       "       (5. , 2. , 3.5, 1. , b'Iris-versicolor'),\n",
       "       (5.9, 3. , 4.2, 1.5, b'Iris-versicolor'),\n",
       "       (6. , 2.2, 4. , 1. , b'Iris-versicolor'),\n",
       "       (6.1, 2.9, 4.7, 1.4, b'Iris-versicolor'),\n",
       "       (5.6, 2.9, 3.6, 1.3, b'Iris-versicolor'),\n",
       "       (6.7, 3.1, 4.4, 1.4, b'Iris-versicolor'),\n",
       "       (5.6, 3. , 4.5, 1.5, b'Iris-versicolor'),\n",
       "       (5.8, 2.7, 4.1, 1. , b'Iris-versicolor'),\n",
       "       (6.2, 2.2, 4.5, 1.5, b'Iris-versicolor'),\n",
       "       (5.6, 2.5, 3.9, 1.1, b'Iris-versicolor'),\n",
       "       (5.9, 3.2, 4.8, 1.8, b'Iris-versicolor'),\n",
       "       (6.1, 2.8, 4. , 1.3, b'Iris-versicolor'),\n",
       "       (6.3, 2.5, 4.9, 1.5, b'Iris-versicolor'),\n",
       "       (6.1, 2.8, 4.7, 1.2, b'Iris-versicolor'),\n",
       "       (6.4, 2.9, 4.3, 1.3, b'Iris-versicolor'),\n",
       "       (6.6, 3. , 4.4, 1.4, b'Iris-versicolor'),\n",
       "       (6.8, 2.8, 4.8, 1.4, b'Iris-versicolor'),\n",
       "       (6.7, 3. , 5. , 1.7, b'Iris-versicolor'),\n",
       "       (6. , 2.9, 4.5, 1.5, b'Iris-versicolor'),\n",
       "       (5.7, 2.6, 3.5, 1. , b'Iris-versicolor'),\n",
       "       (5.5, 2.4, 3.8, 1.1, b'Iris-versicolor'),\n",
       "       (5.5, 2.4, 3.7, 1. , b'Iris-versicolor'),\n",
       "       (5.8, 2.7, 3.9, 1.2, b'Iris-versicolor'),\n",
       "       (6. , 2.7, 5.1, 1.6, b'Iris-versicolor'),\n",
       "       (5.4, 3. , 4.5, 1.5, b'Iris-versicolor'),\n",
       "       (6. , 3.4, 4.5, 1.6, b'Iris-versicolor'),\n",
       "       (6.7, 3.1, 4.7, 1.5, b'Iris-versicolor'),\n",
       "       (6.3, 2.3, 4.4, 1.3, b'Iris-versicolor'),\n",
       "       (5.6, 3. , 4.1, 1.3, b'Iris-versicolor'),\n",
       "       (5.5, 2.5, 4. , 1.3, b'Iris-versicolor'),\n",
       "       (5.5, 2.6, 4.4, 1.2, b'Iris-versicolor'),\n",
       "       (6.1, 3. , 4.6, 1.4, b'Iris-versicolor'),\n",
       "       (5.8, 2.6, 4. , 1.2, b'Iris-versicolor'),\n",
       "       (5. , 2.3, 3.3, 1. , b'Iris-versicolor'),\n",
       "       (5.6, 2.7, 4.2, 1.3, b'Iris-versicolor'),\n",
       "       (5.7, 3. , 4.2, 1.2, b'Iris-versicolor'),\n",
       "       (5.7, 2.9, 4.2, 1.3, b'Iris-versicolor'),\n",
       "       (6.2, 2.9, 4.3, 1.3, b'Iris-versicolor'),\n",
       "       (5.1, 2.5, 3. , 1.1, b'Iris-versicolor'),\n",
       "       (5.7, 2.8, 4.1, 1.3, b'Iris-versicolor'),\n",
       "       (6.3, 3.3, 6. , 2.5, b'Iris-virginica'),\n",
       "       (5.8, 2.7, 5.1, 1.9, b'Iris-virginica'),\n",
       "       (7.1, 3. , 5.9, 2.1, b'Iris-virginica'),\n",
       "       (6.3, 2.9, 5.6, 1.8, b'Iris-virginica'),\n",
       "       (6.5, 3. , 5.8, 2.2, b'Iris-virginica'),\n",
       "       (7.6, 3. , 6.6, 2.1, b'Iris-virginica'),\n",
       "       (4.9, 2.5, 4.5, 1.7, b'Iris-virginica'),\n",
       "       (7.3, 2.9, 6.3, 1.8, b'Iris-virginica'),\n",
       "       (6.7, 2.5, 5.8, 1.8, b'Iris-virginica'),\n",
       "       (7.2, 3.6, 6.1, 2.5, b'Iris-virginica'),\n",
       "       (6.5, 3.2, 5.1, 2. , b'Iris-virginica'),\n",
       "       (6.4, 2.7, 5.3, 1.9, b'Iris-virginica'),\n",
       "       (6.8, 3. , 5.5, 2.1, b'Iris-virginica'),\n",
       "       (5.7, 2.5, 5. , 2. , b'Iris-virginica'),\n",
       "       (5.8, 2.8, 5.1, 2.4, b'Iris-virginica'),\n",
       "       (6.4, 3.2, 5.3, 2.3, b'Iris-virginica'),\n",
       "       (6.5, 3. , 5.5, 1.8, b'Iris-virginica'),\n",
       "       (7.7, 3.8, 6.7, 2.2, b'Iris-virginica'),\n",
       "       (7.7, 2.6, 6.9, 2.3, b'Iris-virginica'),\n",
       "       (6. , 2.2, 5. , 1.5, b'Iris-virginica'),\n",
       "       (6.9, 3.2, 5.7, 2.3, b'Iris-virginica'),\n",
       "       (5.6, 2.8, 4.9, 2. , b'Iris-virginica'),\n",
       "       (7.7, 2.8, 6.7, 2. , b'Iris-virginica'),\n",
       "       (6.3, 2.7, 4.9, 1.8, b'Iris-virginica'),\n",
       "       (6.7, 3.3, 5.7, 2.1, b'Iris-virginica'),\n",
       "       (7.2, 3.2, 6. , 1.8, b'Iris-virginica'),\n",
       "       (6.2, 2.8, 4.8, 1.8, b'Iris-virginica'),\n",
       "       (6.1, 3. , 4.9, 1.8, b'Iris-virginica'),\n",
       "       (6.4, 2.8, 5.6, 2.1, b'Iris-virginica'),\n",
       "       (7.2, 3. , 5.8, 1.6, b'Iris-virginica'),\n",
       "       (7.4, 2.8, 6.1, 1.9, b'Iris-virginica'),\n",
       "       (7.9, 3.8, 6.4, 2. , b'Iris-virginica'),\n",
       "       (6.4, 2.8, 5.6, 2.2, b'Iris-virginica'),\n",
       "       (6.3, 2.8, 5.1, 1.5, b'Iris-virginica'),\n",
       "       (6.1, 2.6, 5.6, 1.4, b'Iris-virginica'),\n",
       "       (7.7, 3. , 6.1, 2.3, b'Iris-virginica'),\n",
       "       (6.3, 3.4, 5.6, 2.4, b'Iris-virginica'),\n",
       "       (6.4, 3.1, 5.5, 1.8, b'Iris-virginica'),\n",
       "       (6. , 3. , 4.8, 1.8, b'Iris-virginica'),\n",
       "       (6.9, 3.1, 5.4, 2.1, b'Iris-virginica'),\n",
       "       (6.7, 3.1, 5.6, 2.4, b'Iris-virginica'),\n",
       "       (6.9, 3.1, 5.1, 2.3, b'Iris-virginica'),\n",
       "       (5.8, 2.7, 5.1, 1.9, b'Iris-virginica'),\n",
       "       (6.8, 3.2, 5.9, 2.3, b'Iris-virginica'),\n",
       "       (6.7, 3.3, 5.7, 2.5, b'Iris-virginica'),\n",
       "       (6.7, 3. , 5.2, 2.3, b'Iris-virginica'),\n",
       "       (6.3, 2.5, 5. , 1.9, b'Iris-virginica'),\n",
       "       (6.5, 3. , 5.2, 2. , b'Iris-virginica'),\n",
       "       (6.2, 3.4, 5.4, 2.3, b'Iris-virginica'),\n",
       "       (5.9, 3. , 5.1, 1.8, b'Iris-virginica')],\n",
       "      dtype=[('sepallength', '<f4'), ('sepalwidth', '<f4'), ('petallength', '<f4'), ('petalwidth', '<f4'), ('species', 'O')])"
      ]
     },
     "execution_count": 11,
     "metadata": {},
     "output_type": "execute_result"
    }
   ],
   "source": [
    "url = 'https://archive.ics.uci.edu/ml/machine-learning-databases/iris/iris.data'\n",
    "iris = np.genfromtxt(url, delimiter=',',  dtype={\n",
    "    'names': ('sepallength', 'sepalwidth', 'petallength', 'petalwidth', 'species'),\n",
    "    'formats': ('f4','f4','f4','f4','object')})\n",
    "iris"
   ]
  },
  {
   "cell_type": "markdown",
   "id": "f1131c6c",
   "metadata": {},
   "source": [
    "## 26. Compute the mean, median, standard deviation of a numpy array\n",
    "<pre>Find the mean, median, standard deviation of iris's sepallength (1st column)\n",
    "url: https://archive.ics.uci.edu/ml/machine-learning-databases/iris/iris.data\n",
    "\n",
    "Desired Output:\n",
    "[5.843333333333334, 5.8, 0.8253012917851409]\n",
    "</pre>"
   ]
  },
  {
   "cell_type": "code",
   "execution_count": 12,
   "id": "47e9d53a",
   "metadata": {},
   "outputs": [],
   "source": [
    "sepallength = np.genfromtxt(url, delimiter=',', dtype='float', usecols=[0])"
   ]
  },
  {
   "cell_type": "code",
   "execution_count": 13,
   "id": "f8a94e1d",
   "metadata": {},
   "outputs": [
    {
     "name": "stdout",
     "output_type": "stream",
     "text": [
      "[5.843333333333334, 5.8, 0.8253012917851409]\n"
     ]
    }
   ],
   "source": [
    "mu, med, sd = np.mean(sepallength), np.median(sepallength), np.std(sepallength)\n",
    "print([mu, med, sd])"
   ]
  },
  {
   "cell_type": "markdown",
   "id": "a56fef0a",
   "metadata": {},
   "source": [
    "## 27. Find the percentile scores of a numpy array\n",
    "<pre>Find the 5th and 95th percentile of iris's sepallength\n",
    "\n",
    "Given Input:\n",
    "url = 'https://archive.ics.uci.edu/ml/machine-learning-databases/iris/iris.data'\n",
    "sepallength = np.genfromtxt(url, delimiter=',', dtype='float', usecols=[0]) \n",
    "\n",
    "Desired Output:\n",
    "array([4.6  , 7.255])</pre>\n"
   ]
  },
  {
   "cell_type": "code",
   "execution_count": 14,
   "id": "bfe5bf30",
   "metadata": {},
   "outputs": [
    {
     "data": {
      "text/plain": [
       "array([4.6  , 7.255])"
      ]
     },
     "execution_count": 14,
     "metadata": {},
     "output_type": "execute_result"
    }
   ],
   "source": [
    "url = 'https://archive.ics.uci.edu/ml/machine-learning-databases/iris/iris.data'\n",
    "sepallength = np.genfromtxt(url, delimiter=',', dtype='float', usecols=[0])\n",
    "\n",
    "np.percentile(sepallength, q=[5, 95])"
   ]
  },
  {
   "cell_type": "markdown",
   "id": "ee36bde9",
   "metadata": {},
   "source": [
    "## 28. Find the position of missing value in numpy array\n",
    "<pre>\n",
    "Find: \n",
    "1. Number of missing values\n",
    "2. Row number that contains missing values\n",
    "3. The NaN row value\n",
    "\n",
    "Given Input:\n",
    "arr = np.array([[1, 2, 3],\n",
    "                [4, np.NaN, 6],\n",
    "                [7, 8, 9],\n",
    "                [np.NaN, np.NaN, np.NaN]\n",
    "               ])\n",
    "\n",
    "Desired Output:\n",
    "Number of missing values: \n",
    " 4\n",
    "Row contains missing values: \n",
    " (array([1, 3]),)\n",
    "The NaN row: \n",
    " [[ 4. nan  6.]\n",
    " [nan nan nan]]</pre>"
   ]
  },
  {
   "cell_type": "code",
   "execution_count": 15,
   "id": "96adc074",
   "metadata": {},
   "outputs": [
    {
     "data": {
      "text/plain": [
       "array([[ 1.,  2.,  3.],\n",
       "       [ 4., nan,  6.],\n",
       "       [ 7.,  8.,  9.],\n",
       "       [nan, nan, nan]])"
      ]
     },
     "execution_count": 15,
     "metadata": {},
     "output_type": "execute_result"
    }
   ],
   "source": [
    "arr = np.array([[1,2,3],\n",
    "                [4,np.NaN,6],\n",
    "                [7,8,9],\n",
    "                [np.NaN,np.NaN,np.NaN]\n",
    "               ])\n",
    "arr"
   ]
  },
  {
   "cell_type": "code",
   "execution_count": 16,
   "id": "9bb39e59",
   "metadata": {},
   "outputs": [
    {
     "name": "stdout",
     "output_type": "stream",
     "text": [
      "Number of missing values: \n",
      " 4\n",
      "Row contains missing values: \n",
      " (array([1, 3]),)\n",
      "The NaN row: \n",
      " [[ 4. nan  6.]\n",
      " [nan nan nan]]\n"
     ]
    }
   ],
   "source": [
    "print(\"Number of missing values: \\n\", np.isnan(arr).sum())\n",
    "print(\"Row contains missing values: \\n\", \n",
    "                      np.where(np.any(np.isnan(arr)==True,axis=1)) )\n",
    "print(\"The NaN row: \\n\",arr[np.where(np.any(np.isnan(arr)==True,axis=1))])"
   ]
  },
  {
   "cell_type": "markdown",
   "id": "612fcfc9",
   "metadata": {},
   "source": [
    "## 29. Filter with conditions\n",
    "<pre>\n",
    "Filter the first column < 9 and fourth column > 4\n",
    "Given Input:\n",
    "arr = np.array([[1, 2, 3, 4],\n",
    "                [5, 6, 7, 8],\n",
    "                [9, 10, 11, 12]\n",
    "               ])\n",
    "\n",
    "Desired Output:\n",
    "$> arr[conditions]\n",
    "array([[5, 6, 7, 8]])"
   ]
  },
  {
   "cell_type": "code",
   "execution_count": 17,
   "id": "1b49e56d",
   "metadata": {},
   "outputs": [
    {
     "data": {
      "text/plain": [
       "array([[ 1,  2,  3,  4],\n",
       "       [ 5,  6,  7,  8],\n",
       "       [ 9, 10, 11, 12]])"
      ]
     },
     "execution_count": 17,
     "metadata": {},
     "output_type": "execute_result"
    }
   ],
   "source": [
    "arr = np.array([[1, 2, 3, 4],\n",
    "                [5, 6, 7, 8],\n",
    "                [9, 10, 11, 12]\n",
    "               ])\n",
    "arr"
   ]
  },
  {
   "cell_type": "code",
   "execution_count": 18,
   "id": "ae837bea",
   "metadata": {},
   "outputs": [],
   "source": [
    "conditions = (arr[:, 0] < 9) & (arr[:, 3] > 4)"
   ]
  },
  {
   "cell_type": "code",
   "execution_count": 19,
   "id": "c96874c9",
   "metadata": {},
   "outputs": [
    {
     "data": {
      "text/plain": [
       "array([[5, 6, 7, 8]])"
      ]
     },
     "execution_count": 19,
     "metadata": {},
     "output_type": "execute_result"
    }
   ],
   "source": [
    "arr[conditions]"
   ]
  },
  {
   "cell_type": "markdown",
   "id": "63c60c7d",
   "metadata": {},
   "source": [
    "## 30. Inverse set of array\n",
    "<pre>Multiply the non-NaN array by 2\n",
    "Given Input:\n",
    "arr = np.array([[1,2,3],\n",
    "                [4,np.NaN,6],\n",
    "                [7,8,9],\n",
    "                [np.NaN,np.NaN,np.NaN]\n",
    "               ])\n",
    "arr[np.any(np.isnan(arr), axis=1)]\n",
    "$> array([[ 4., nan,  6.],\n",
    "         [nan, nan, nan]])\n",
    "         \n",
    "Desired Output:\n",
    "array([[ 2.,  4.,  6.],\n",
    "       [14., 16., 18.]])"
   ]
  },
  {
   "cell_type": "code",
   "execution_count": 20,
   "id": "14dd95ce",
   "metadata": {},
   "outputs": [
    {
     "data": {
      "text/plain": [
       "array([[ 4., nan,  6.],\n",
       "       [nan, nan, nan]])"
      ]
     },
     "execution_count": 20,
     "metadata": {},
     "output_type": "execute_result"
    }
   ],
   "source": [
    "arr = np.array([[1,2,3],\n",
    "                [4,np.NaN,6],\n",
    "                [7,8,9],\n",
    "                [np.NaN,np.NaN,np.NaN]\n",
    "               ])\n",
    "arr[np.any(np.isnan(arr), axis=1)]"
   ]
  },
  {
   "cell_type": "markdown",
   "id": "9472c2e9",
   "metadata": {},
   "source": [
    "### ~ means the inverse set of given array"
   ]
  },
  {
   "cell_type": "code",
   "execution_count": 21,
   "id": "144c0953",
   "metadata": {},
   "outputs": [
    {
     "data": {
      "text/plain": [
       "array([[ 2.,  4.,  6.],\n",
       "       [14., 16., 18.]])"
      ]
     },
     "execution_count": 21,
     "metadata": {},
     "output_type": "execute_result"
    }
   ],
   "source": [
    "arr[~np.any(np.isnan(arr), axis=1)] * 2"
   ]
  },
  {
   "cell_type": "markdown",
   "id": "c18c57e2",
   "metadata": {},
   "source": [
    "## 31. Drop rows that contain a missing value from a numpy array\n",
    "<pre>\n",
    "Given Input:\n",
    "arr = np.array([[1,2,3],\n",
    "                [4,np.NaN,6],\n",
    "                [7,8,9],\n",
    "                [np.NaN,np.NaN,np.NaN]\n",
    "               ])\n",
    "               \n",
    "Desired Output:\n",
    "array([[1., 2., 3.],\n",
    "       [7., 8., 9.]])\n",
    "</pre>"
   ]
  },
  {
   "cell_type": "code",
   "execution_count": 22,
   "id": "67d0dea5",
   "metadata": {},
   "outputs": [],
   "source": [
    "arr = np.array([[1,2,3],\n",
    "                [4,np.NaN,6],\n",
    "                [7,8,9],\n",
    "                [np.NaN,np.NaN,np.NaN]\n",
    "               ])"
   ]
  },
  {
   "cell_type": "code",
   "execution_count": 23,
   "id": "c947a4df",
   "metadata": {},
   "outputs": [
    {
     "data": {
      "text/plain": [
       "array([[1., 2., 3.],\n",
       "       [7., 8., 9.]])"
      ]
     },
     "execution_count": 23,
     "metadata": {},
     "output_type": "execute_result"
    }
   ],
   "source": [
    "arr = arr[~np.any(np.isnan(arr), axis=1)]\n",
    "arr"
   ]
  },
  {
   "cell_type": "markdown",
   "id": "d58cb3d2",
   "metadata": {},
   "source": [
    "## 32. Find the correlation between two numpy array\n",
    "<pre>\n",
    "Find the correlation of array a and b\n",
    "Given Input:\n",
    "a = np.random.random(size=5)\n",
    "b = np.random.random(size=5)\n",
    "$> a\n",
    "array([0.384083, 0.813738, 0.869471, 0.410821, 0.669355])\n",
    "$> b\n",
    "array([0.384083, 0.813738, 0.869471, 0.410821, 0.669355])\n",
    "\n",
    "Desired Output:\n",
    "$> array([[1.      , 0.184966],\n",
    "       [0.184966, 1.      ]])</pre>\n"
   ]
  },
  {
   "cell_type": "code",
   "execution_count": 24,
   "id": "172a4eb5",
   "metadata": {},
   "outputs": [],
   "source": [
    "a = np.random.random(size=5)\n",
    "b = np.random.random(size=5)"
   ]
  },
  {
   "cell_type": "code",
   "execution_count": 25,
   "id": "43696948",
   "metadata": {},
   "outputs": [
    {
     "data": {
      "text/plain": [
       "array([0.377191, 0.033956, 0.169348, 0.558323, 0.809845])"
      ]
     },
     "execution_count": 25,
     "metadata": {},
     "output_type": "execute_result"
    }
   ],
   "source": [
    "a"
   ]
  },
  {
   "cell_type": "code",
   "execution_count": 26,
   "id": "8137edae",
   "metadata": {},
   "outputs": [
    {
     "data": {
      "text/plain": [
       "array([0.38564 , 0.281109, 0.582122, 0.496087, 0.543999])"
      ]
     },
     "execution_count": 26,
     "metadata": {},
     "output_type": "execute_result"
    }
   ],
   "source": [
    "b"
   ]
  },
  {
   "cell_type": "code",
   "execution_count": 27,
   "id": "1855552f",
   "metadata": {},
   "outputs": [
    {
     "data": {
      "text/plain": [
       "array([[1.      , 0.519918],\n",
       "       [0.519918, 1.      ]])"
      ]
     },
     "execution_count": 27,
     "metadata": {},
     "output_type": "execute_result"
    }
   ],
   "source": [
    "np.corrcoef(a, b)"
   ]
  },
  {
   "cell_type": "markdown",
   "id": "310b3c95",
   "metadata": {},
   "source": [
    "## 33. Count NaN and non-NaN in numpy array\n",
    "<pre> \n",
    "Given Input:\n",
    "arr = np.array([0, 1, 2, 3, np.NaN, 5, np.NaN, np.NaN])\n",
    "arr\n",
    "$> array([ 0.,  1.,  2.,  3., nan,  5., nan, nan])\n",
    "\n",
    "Desired Output:\n",
    "$> There are 5 non-NaN.\n",
    "$> There are 3 NaN.</pre> \n"
   ]
  },
  {
   "cell_type": "code",
   "execution_count": 28,
   "id": "19677a5e",
   "metadata": {},
   "outputs": [
    {
     "data": {
      "text/plain": [
       "array([ 0.,  1.,  2.,  3., nan,  5., nan, nan])"
      ]
     },
     "execution_count": 28,
     "metadata": {},
     "output_type": "execute_result"
    }
   ],
   "source": [
    "arr = np.array([0, 1, 2, 3, np.NaN, 5, np.NaN, np.NaN])\n",
    "arr"
   ]
  },
  {
   "cell_type": "code",
   "execution_count": 29,
   "id": "c03087f9",
   "metadata": {},
   "outputs": [
    {
     "name": "stdout",
     "output_type": "stream",
     "text": [
      "There are 5 non-NaN.\n"
     ]
    }
   ],
   "source": [
    "print(f\"There are {np.count_nonzero(~np.isnan(arr))} non-NaN.\")"
   ]
  },
  {
   "cell_type": "code",
   "execution_count": 30,
   "id": "0de3948d",
   "metadata": {},
   "outputs": [
    {
     "name": "stdout",
     "output_type": "stream",
     "text": [
      "There are 3 NaN.\n"
     ]
    }
   ],
   "source": [
    "print(f\"There are {np.count_nonzero(np.isnan(arr))} NaN.\")"
   ]
  },
  {
   "cell_type": "markdown",
   "id": "a8e497cd",
   "metadata": {},
   "source": [
    "## 34. Replace all missing values with 0 in a numpy array\n",
    "<pre>Given Input:\n",
    "arr = np.array([0, 1, 2, 3, np.NaN, 5, np.NaN, np.NaN])\n",
    "arr\n",
    "$> array([ 0.,  1.,  2.,  3., nan,  5., nan, nan])\n",
    "\n",
    "Desired Output:\n",
    "$> array([0., 1., 2., 3., 0., 5., 0., 0.])\n",
    "</pre> "
   ]
  },
  {
   "cell_type": "code",
   "execution_count": 31,
   "id": "059d073b",
   "metadata": {},
   "outputs": [
    {
     "data": {
      "text/plain": [
       "array([ 0.,  1.,  2.,  3., nan,  5., nan, nan])"
      ]
     },
     "execution_count": 31,
     "metadata": {},
     "output_type": "execute_result"
    }
   ],
   "source": [
    "arr = np.array([0, 1, 2, 3, np.NaN, 5, np.NaN, np.NaN])\n",
    "arr"
   ]
  },
  {
   "cell_type": "code",
   "execution_count": 32,
   "id": "520d2992",
   "metadata": {},
   "outputs": [
    {
     "data": {
      "text/plain": [
       "array([0., 1., 2., 3., 0., 5., 0., 0.])"
      ]
     },
     "execution_count": 32,
     "metadata": {},
     "output_type": "execute_result"
    }
   ],
   "source": [
    "arr[np.isnan(arr)] = 0\n",
    "arr"
   ]
  },
  {
   "cell_type": "markdown",
   "id": "72f8cf83",
   "metadata": {},
   "source": [
    "## 35. Replace all missing values with mean in a numpy array\n",
    "<pre>Given Input:\n",
    "arr = np.array([0, 1, 2, 3, np.NaN, 5, np.NaN, np.NaN])\n",
    "\n",
    "Desired Output:\n",
    "$> arr\n",
    "array([0. , 1. , 2. , 3. , 2.2, 5. , 2.2, 2.2])</pre>"
   ]
  },
  {
   "cell_type": "code",
   "execution_count": 33,
   "id": "8c3780b1",
   "metadata": {},
   "outputs": [
    {
     "data": {
      "text/plain": [
       "array([ 0.,  1.,  2.,  3., nan,  5., nan, nan])"
      ]
     },
     "execution_count": 33,
     "metadata": {},
     "output_type": "execute_result"
    }
   ],
   "source": [
    "arr = np.array([0, 1, 2, 3, np.NaN, 5, np.NaN, np.NaN])\n",
    "arr"
   ]
  },
  {
   "cell_type": "code",
   "execution_count": 34,
   "id": "49f49068",
   "metadata": {},
   "outputs": [
    {
     "data": {
      "text/plain": [
       "array([0. , 1. , 2. , 3. , 2.2, 5. , 2.2, 2.2])"
      ]
     },
     "execution_count": 34,
     "metadata": {},
     "output_type": "execute_result"
    }
   ],
   "source": [
    "arr[np.isnan(arr)] = np.mean(arr[~np.isnan(arr)])\n",
    "arr"
   ]
  },
  {
   "cell_type": "markdown",
   "id": "2151bbf6",
   "metadata": {},
   "source": [
    "## 36. Find the count of unique values in a numpy array\n",
    "<pre>Given Input:\n",
    "$> stud_gender = ['Male','Male','Female','Male','Female','Female','Female']\n",
    "$> stud_gender\n",
    "['Male', 'Male', 'Female', 'Male', 'Female', 'Female', 'Female']\n",
    "\n",
    "Desired Output:</pre>\n",
    "(array(['Female', 'Male'], dtype='<U6'), array([4, 3]))"
   ]
  },
  {
   "cell_type": "code",
   "execution_count": 35,
   "id": "7b46b3d8",
   "metadata": {},
   "outputs": [
    {
     "data": {
      "text/plain": [
       "['Male', 'Male', 'Female', 'Male', 'Female', 'Female', 'Female']"
      ]
     },
     "execution_count": 35,
     "metadata": {},
     "output_type": "execute_result"
    }
   ],
   "source": [
    "stud_gender = ['Male','Male','Female','Male','Female','Female','Female']\n",
    "stud_gender"
   ]
  },
  {
   "cell_type": "code",
   "execution_count": 36,
   "id": "6d37199d",
   "metadata": {},
   "outputs": [
    {
     "data": {
      "text/plain": [
       "array(['Female', 'Male'], dtype='<U6')"
      ]
     },
     "execution_count": 36,
     "metadata": {},
     "output_type": "execute_result"
    }
   ],
   "source": [
    "np.unique(stud_gender)"
   ]
  },
  {
   "cell_type": "code",
   "execution_count": 37,
   "id": "e56c6252",
   "metadata": {},
   "outputs": [
    {
     "data": {
      "text/plain": [
       "(array(['Female', 'Male'], dtype='<U6'), array([4, 3]))"
      ]
     },
     "execution_count": 37,
     "metadata": {},
     "output_type": "execute_result"
    }
   ],
   "source": [
    "np.unique(stud_gender, return_counts=True)"
   ]
  },
  {
   "cell_type": "markdown",
   "id": "db4d90fe",
   "metadata": {},
   "source": [
    "## 37. Convert numeric value to categoric value\n",
    "<pre>Given Input:\n",
    "$> stud_result = np.random.randint(0, 100, size=50)\n",
    "$> stud_result\n",
    "array([ 9, 86,  6, 67, 14, 64, 18, 83,  5, 66, 15, 68, 66, 58,  1, 64,  8,\n",
    "       64, 97, 12, 45, 12,  1,  0, 21, 75, 12, 15, 46, 76, 50, 21,  2, 31,\n",
    "        5, 54, 91, 48, 10, 89, 52, 61, 52, 85, 40, 28,  3, 29, 20, 40])\n",
    "\n",
    "Desired Output:\n",
    "Categorize the reult in 'Fail':below 50, 'Pass':blow 70, 'Good':below 100'\n",
    "</pre>"
   ]
  },
  {
   "cell_type": "code",
   "execution_count": 38,
   "id": "faa568f6",
   "metadata": {},
   "outputs": [
    {
     "data": {
      "text/plain": [
       "array([45, 52, 15, 15, 55, 59, 67, 97, 32, 29, 76, 55, 59, 17,  1, 12, 55,\n",
       "       13,  1, 36, 66, 48, 59, 12, 62, 40, 90, 37, 45, 86, 29, 94, 36, 83,\n",
       "       66, 44, 34, 53,  2, 75, 41, 35, 70, 35,  9,  1, 87, 89, 50, 94])"
      ]
     },
     "execution_count": 38,
     "metadata": {},
     "output_type": "execute_result"
    }
   ],
   "source": [
    "stud_result = np.random.randint(0, 100, size=50)\n",
    "stud_result"
   ]
  },
  {
   "cell_type": "code",
   "execution_count": 39,
   "id": "008d9d1c",
   "metadata": {},
   "outputs": [
    {
     "data": {
      "text/plain": [
       "array([1, 2, 1, 1, 2, 2, 2, 3, 1, 1, 3, 2, 2, 1, 1, 1, 2, 1, 1, 1, 2, 1,\n",
       "       2, 1, 2, 1, 3, 1, 1, 3, 1, 3, 1, 3, 2, 1, 1, 2, 1, 3, 1, 1, 3, 1,\n",
       "       1, 1, 3, 3, 2, 3])"
      ]
     },
     "execution_count": 39,
     "metadata": {},
     "output_type": "execute_result"
    }
   ],
   "source": [
    "# digitize the result in to 4 ranges \n",
    "cat = np.digitize(stud_result, np.array([0, 50, 70, 100]))\n",
    "cat"
   ]
  },
  {
   "cell_type": "code",
   "execution_count": 40,
   "id": "49683829",
   "metadata": {},
   "outputs": [],
   "source": [
    "cat_label = {1:'Fail', 2:'Pass', 3:'Good'}"
   ]
  },
  {
   "cell_type": "code",
   "execution_count": 41,
   "id": "48f4973f",
   "metadata": {},
   "outputs": [
    {
     "data": {
      "text/plain": [
       "['Fail',\n",
       " 'Pass',\n",
       " 'Fail',\n",
       " 'Fail',\n",
       " 'Pass',\n",
       " 'Pass',\n",
       " 'Pass',\n",
       " 'Good',\n",
       " 'Fail',\n",
       " 'Fail',\n",
       " 'Good',\n",
       " 'Pass',\n",
       " 'Pass',\n",
       " 'Fail',\n",
       " 'Fail',\n",
       " 'Fail',\n",
       " 'Pass',\n",
       " 'Fail',\n",
       " 'Fail',\n",
       " 'Fail',\n",
       " 'Pass',\n",
       " 'Fail',\n",
       " 'Pass',\n",
       " 'Fail',\n",
       " 'Pass',\n",
       " 'Fail',\n",
       " 'Good',\n",
       " 'Fail',\n",
       " 'Fail',\n",
       " 'Good',\n",
       " 'Fail',\n",
       " 'Good',\n",
       " 'Fail',\n",
       " 'Good',\n",
       " 'Pass',\n",
       " 'Fail',\n",
       " 'Fail',\n",
       " 'Pass',\n",
       " 'Fail',\n",
       " 'Good',\n",
       " 'Fail',\n",
       " 'Fail',\n",
       " 'Good',\n",
       " 'Fail',\n",
       " 'Fail',\n",
       " 'Fail',\n",
       " 'Good',\n",
       " 'Good',\n",
       " 'Pass',\n",
       " 'Good']"
      ]
     },
     "execution_count": 41,
     "metadata": {},
     "output_type": "execute_result"
    }
   ],
   "source": [
    "result_in_cat = [cat_label[x] for x in cat]\n",
    "result_in_cat"
   ]
  },
  {
   "cell_type": "code",
   "execution_count": null,
   "id": "f2876d10",
   "metadata": {},
   "outputs": [],
   "source": []
  }
 ],
 "metadata": {
  "kernelspec": {
   "display_name": "Python 3 (ipykernel)",
   "language": "python",
   "name": "python3"
  },
  "language_info": {
   "codemirror_mode": {
    "name": "ipython",
    "version": 3
   },
   "file_extension": ".py",
   "mimetype": "text/x-python",
   "name": "python",
   "nbconvert_exporter": "python",
   "pygments_lexer": "ipython3",
   "version": "3.9.13"
  }
 },
 "nbformat": 4,
 "nbformat_minor": 5
}
