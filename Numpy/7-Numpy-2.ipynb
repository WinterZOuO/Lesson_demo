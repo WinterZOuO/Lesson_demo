{
 "cells": [
  {
   "cell_type": "markdown",
   "id": "ec2f521d",
   "metadata": {},
   "source": [
    "# Scalar and Vector "
   ]
  },
  {
   "cell_type": "code",
   "execution_count": 1,
   "id": "0155fec8",
   "metadata": {},
   "outputs": [],
   "source": [
    "import numpy as np\n",
    "# Scalar \n",
    "s = 1"
   ]
  },
  {
   "cell_type": "code",
   "execution_count": 2,
   "id": "19c6e84a",
   "metadata": {},
   "outputs": [
    {
     "name": "stdout",
     "output_type": "stream",
     "text": [
      "v1 shape:  (3,)\n",
      "v2 shape:  (2, 1)\n"
     ]
    }
   ],
   "source": [
    "# Vector\n",
    "v1 = np.array([1,4,5])  # horizontal\n",
    "v2 = np.array([[1],\n",
    "               [-5]])   # vetical vector\n",
    "print(\"v1 shape: \", v1.shape) \n",
    "print(\"v2 shape: \", v2.shape)"
   ]
  },
  {
   "cell_type": "code",
   "execution_count": 3,
   "id": "fdea21e9",
   "metadata": {},
   "outputs": [
    {
     "data": {
      "text/plain": [
       "array([[ 1,  4,  5],\n",
       "       [-5,  8,  9]])"
      ]
     },
     "execution_count": 3,
     "metadata": {},
     "output_type": "execute_result"
    }
   ],
   "source": [
    "# Matrice\n",
    "m = np.array([[1, 4, 5], \n",
    "              [-5, 8, 9]])\n",
    "m"
   ]
  },
  {
   "cell_type": "code",
   "execution_count": 4,
   "id": "849c0f8b",
   "metadata": {},
   "outputs": [
    {
     "data": {
      "text/plain": [
       "(2, 3)"
      ]
     },
     "execution_count": 4,
     "metadata": {},
     "output_type": "execute_result"
    }
   ],
   "source": [
    "m.shape"
   ]
  },
  {
   "attachments": {
    "matrix-python-example.webp": {
     "image/webp": "[encoded data removed]"
    }
   },
   "cell_type": "markdown",
   "id": "e523f6a5",
   "metadata": {},
   "source": [
    "![matrix-python-example.webp](attachment:matrix-python-example.webp)"
   ]
  },
  {
   "cell_type": "markdown",
   "id": "2894570b",
   "metadata": {},
   "source": [
    "# .reshape"
   ]
  },
  {
   "cell_type": "code",
   "execution_count": 5,
   "id": "38d5c370",
   "metadata": {},
   "outputs": [
    {
     "data": {
      "text/plain": [
       "array([0, 1, 2, 3, 4, 5])"
      ]
     },
     "execution_count": 5,
     "metadata": {},
     "output_type": "execute_result"
    }
   ],
   "source": [
    "a = np.arange(6)\n",
    "a"
   ]
  },
  {
   "cell_type": "code",
   "execution_count": 6,
   "id": "a4df3515",
   "metadata": {},
   "outputs": [
    {
     "data": {
      "text/plain": [
       "array([[0, 1],\n",
       "       [2, 3],\n",
       "       [4, 5]])"
      ]
     },
     "execution_count": 6,
     "metadata": {},
     "output_type": "execute_result"
    }
   ],
   "source": [
    "a = np.reshape(a,(3, 2))\n",
    "a"
   ]
  },
  {
   "cell_type": "markdown",
   "id": "30de5d43",
   "metadata": {},
   "source": [
    "# .T  (same as .transpose)"
   ]
  },
  {
   "cell_type": "code",
   "execution_count": 7,
   "id": "a42ec996",
   "metadata": {},
   "outputs": [
    {
     "data": {
      "text/plain": [
       "array([[1, 2],\n",
       "       [3, 4],\n",
       "       [5, 6]])"
      ]
     },
     "execution_count": 7,
     "metadata": {},
     "output_type": "execute_result"
    }
   ],
   "source": [
    "b = np.array([[1,2],\n",
    "              [3,4],\n",
    "              [5,6]])\n",
    "b"
   ]
  },
  {
   "cell_type": "code",
   "execution_count": 8,
   "id": "463dbb1e",
   "metadata": {},
   "outputs": [
    {
     "data": {
      "text/plain": [
       "array([[1, 3, 5],\n",
       "       [2, 4, 6]])"
      ]
     },
     "execution_count": 8,
     "metadata": {},
     "output_type": "execute_result"
    }
   ],
   "source": [
    "b.T"
   ]
  },
  {
   "cell_type": "markdown",
   "id": "2eb24b9a",
   "metadata": {},
   "source": [
    "# .flatten"
   ]
  },
  {
   "cell_type": "code",
   "execution_count": 9,
   "id": "96c6eaef",
   "metadata": {},
   "outputs": [
    {
     "data": {
      "text/plain": [
       "array([1, 2, 3, 4, 5, 6])"
      ]
     },
     "execution_count": 9,
     "metadata": {},
     "output_type": "execute_result"
    }
   ],
   "source": [
    "b = np.array([[1,2],\n",
    "              [3,4],\n",
    "              [5,6]])\n",
    "b.flatten()"
   ]
  },
  {
   "cell_type": "markdown",
   "id": "93a91240",
   "metadata": {},
   "source": [
    "# .concatenate((a, b), axis=0)"
   ]
  },
  {
   "cell_type": "code",
   "execution_count": 10,
   "id": "e028dc4d",
   "metadata": {},
   "outputs": [
    {
     "data": {
      "text/plain": [
       "array([[1, 2],\n",
       "       [3, 4],\n",
       "       [5, 6]])"
      ]
     },
     "execution_count": 10,
     "metadata": {},
     "output_type": "execute_result"
    }
   ],
   "source": [
    "a = np.array([[1, 2], [3, 4]])\n",
    "b = np.array([[5, 6]])\n",
    "np.concatenate((a, b), axis=0)"
   ]
  },
  {
   "cell_type": "code",
   "execution_count": 11,
   "id": "0f7af4f3",
   "metadata": {},
   "outputs": [
    {
     "data": {
      "text/plain": [
       "array([[1, 2, 5],\n",
       "       [3, 4, 6]])"
      ]
     },
     "execution_count": 11,
     "metadata": {},
     "output_type": "execute_result"
    }
   ],
   "source": [
    "np.concatenate((a, b.T), axis=1)"
   ]
  },
  {
   "cell_type": "code",
   "execution_count": 12,
   "id": "c4bd8fbd",
   "metadata": {},
   "outputs": [
    {
     "data": {
      "text/plain": [
       "array([1, 2, 3, 4, 5, 6])"
      ]
     },
     "execution_count": 12,
     "metadata": {},
     "output_type": "execute_result"
    }
   ],
   "source": [
    "np.concatenate((a, b), axis=None)"
   ]
  },
  {
   "cell_type": "markdown",
   "id": "fc8c0a91",
   "metadata": {},
   "source": [
    "# .split"
   ]
  },
  {
   "cell_type": "code",
   "execution_count": 13,
   "id": "5c74de2d",
   "metadata": {},
   "outputs": [
    {
     "data": {
      "text/plain": [
       "array([0, 1, 2, 3, 4, 5, 6, 7, 8])"
      ]
     },
     "execution_count": 13,
     "metadata": {},
     "output_type": "execute_result"
    }
   ],
   "source": [
    "x = np.arange(9)\n",
    "x"
   ]
  },
  {
   "cell_type": "code",
   "execution_count": 14,
   "id": "bc2fb3ff",
   "metadata": {},
   "outputs": [],
   "source": [
    "arr1, arr2, arr3 = np.split(x, 3)"
   ]
  },
  {
   "cell_type": "code",
   "execution_count": 15,
   "id": "ec56de9a",
   "metadata": {},
   "outputs": [
    {
     "data": {
      "text/plain": [
       "array([0, 1, 2])"
      ]
     },
     "execution_count": 15,
     "metadata": {},
     "output_type": "execute_result"
    }
   ],
   "source": [
    "arr1"
   ]
  },
  {
   "cell_type": "code",
   "execution_count": 16,
   "id": "2548559b",
   "metadata": {},
   "outputs": [
    {
     "data": {
      "text/plain": [
       "[array([], dtype=int64), array([0, 1, 2, 3, 4, 5]), array([6, 7, 8])]"
      ]
     },
     "execution_count": 16,
     "metadata": {},
     "output_type": "execute_result"
    }
   ],
   "source": [
    "np.split(x, [0,6])"
   ]
  },
  {
   "cell_type": "code",
   "execution_count": 17,
   "id": "4ade8452",
   "metadata": {},
   "outputs": [
    {
     "data": {
      "text/plain": [
       "array([0, 1, 2, 3, 4, 5])"
      ]
     },
     "execution_count": 17,
     "metadata": {},
     "output_type": "execute_result"
    }
   ],
   "source": [
    "np.split(x, [0,6])[1]"
   ]
  },
  {
   "cell_type": "code",
   "execution_count": 18,
   "id": "0aaafe3b",
   "metadata": {},
   "outputs": [
    {
     "data": {
      "text/plain": [
       "array([6, 7, 8])"
      ]
     },
     "execution_count": 18,
     "metadata": {},
     "output_type": "execute_result"
    }
   ],
   "source": [
    "np.split(x, [0,6])[2]"
   ]
  },
  {
   "cell_type": "markdown",
   "id": "cea6fc10",
   "metadata": {},
   "source": [
    "# .vsplit"
   ]
  },
  {
   "cell_type": "code",
   "execution_count": 19,
   "id": "5d2614ad",
   "metadata": {},
   "outputs": [
    {
     "data": {
      "text/plain": [
       "array([[ 0.,  1.,  2.,  3.],\n",
       "       [ 4.,  5.,  6.,  7.],\n",
       "       [ 8.,  9., 10., 11.],\n",
       "       [12., 13., 14., 15.]])"
      ]
     },
     "execution_count": 19,
     "metadata": {},
     "output_type": "execute_result"
    }
   ],
   "source": [
    "x = np.array([[ 0.,   1.,   2.,   3.],\n",
    "       [ 4.,   5.,   6.,   7.],\n",
    "       [ 8.,   9.,  10.,  11.],\n",
    "       [12.,  13.,  14.,  15.]])\n",
    "x"
   ]
  },
  {
   "cell_type": "code",
   "execution_count": 20,
   "id": "142a6b87",
   "metadata": {},
   "outputs": [
    {
     "data": {
      "text/plain": [
       "[array([[0., 1., 2., 3.],\n",
       "        [4., 5., 6., 7.]]),\n",
       " array([[ 8.,  9., 10., 11.],\n",
       "        [12., 13., 14., 15.]])]"
      ]
     },
     "execution_count": 20,
     "metadata": {},
     "output_type": "execute_result"
    }
   ],
   "source": [
    "np.vsplit(x, 2)"
   ]
  },
  {
   "cell_type": "markdown",
   "id": "ff258faf",
   "metadata": {},
   "source": [
    "# .append"
   ]
  },
  {
   "cell_type": "code",
   "execution_count": 21,
   "id": "15adfcfd",
   "metadata": {},
   "outputs": [
    {
     "data": {
      "text/plain": [
       "array([[1, 2, 3],\n",
       "       [4, 5, 6]])"
      ]
     },
     "execution_count": 21,
     "metadata": {},
     "output_type": "execute_result"
    }
   ],
   "source": [
    "x = np.arange(1,7).reshape(2,3)\n",
    "x"
   ]
  },
  {
   "cell_type": "code",
   "execution_count": 22,
   "id": "3510b242",
   "metadata": {},
   "outputs": [
    {
     "data": {
      "text/plain": [
       "array([[1, 2, 3],\n",
       "       [4, 5, 6],\n",
       "       [7, 8, 9]])"
      ]
     },
     "execution_count": 22,
     "metadata": {},
     "output_type": "execute_result"
    }
   ],
   "source": [
    "x = np.append(x, [[7,8,9]], axis=0)\n",
    "x"
   ]
  },
  {
   "cell_type": "code",
   "execution_count": 23,
   "id": "99b9ac88",
   "metadata": {},
   "outputs": [
    {
     "data": {
      "text/plain": [
       "array([[1. , 2. , 3. , 3.5],\n",
       "       [4. , 5. , 6. , 6.5],\n",
       "       [7. , 8. , 9. , 9.5]])"
      ]
     },
     "execution_count": 23,
     "metadata": {},
     "output_type": "execute_result"
    }
   ],
   "source": [
    "np.append(x, [[3.5],[6.5],[9.5]], axis=1)"
   ]
  },
  {
   "cell_type": "markdown",
   "id": "b2ffaacd",
   "metadata": {},
   "source": [
    "# .insert"
   ]
  },
  {
   "cell_type": "code",
   "execution_count": 24,
   "id": "ff61b9a6",
   "metadata": {},
   "outputs": [
    {
     "data": {
      "text/plain": [
       "array([[1, 1],\n",
       "       [2, 2],\n",
       "       [3, 3]])"
      ]
     },
     "execution_count": 24,
     "metadata": {},
     "output_type": "execute_result"
    }
   ],
   "source": [
    "a = np.array([[1, 1], [2, 2], [3, 3]])\n",
    "a"
   ]
  },
  {
   "cell_type": "code",
   "execution_count": 25,
   "id": "4ffa47c8",
   "metadata": {},
   "outputs": [
    {
     "data": {
      "text/plain": [
       "array([1, 5, 1, 2, 2, 3, 3])"
      ]
     },
     "execution_count": 25,
     "metadata": {},
     "output_type": "execute_result"
    }
   ],
   "source": [
    "np.insert(a, 1, 5)"
   ]
  },
  {
   "cell_type": "code",
   "execution_count": 26,
   "id": "48296899",
   "metadata": {},
   "outputs": [
    {
     "data": {
      "text/plain": [
       "array([[1, 1, 1],\n",
       "       [2, 2, 2],\n",
       "       [3, 3, 3]])"
      ]
     },
     "execution_count": 26,
     "metadata": {},
     "output_type": "execute_result"
    }
   ],
   "source": [
    "np.insert(a, [1], [[1],[2],[3]], axis=1)"
   ]
  },
  {
   "cell_type": "markdown",
   "id": "eea85a67",
   "metadata": {},
   "source": [
    "# .delete"
   ]
  },
  {
   "cell_type": "code",
   "execution_count": 27,
   "id": "f7c4df95",
   "metadata": {},
   "outputs": [
    {
     "data": {
      "text/plain": [
       "array([[ 1,  2,  3,  4],\n",
       "       [ 5,  6,  7,  8],\n",
       "       [ 9, 10, 11, 12]])"
      ]
     },
     "execution_count": 27,
     "metadata": {},
     "output_type": "execute_result"
    }
   ],
   "source": [
    "arr = np.array([[1,2,3,4], [5,6,7,8], [9,10,11,12]])\n",
    "arr"
   ]
  },
  {
   "cell_type": "code",
   "execution_count": 28,
   "id": "55aa956c",
   "metadata": {},
   "outputs": [
    {
     "data": {
      "text/plain": [
       "array([[1, 2, 3, 4],\n",
       "       [5, 6, 7, 8]])"
      ]
     },
     "execution_count": 28,
     "metadata": {},
     "output_type": "execute_result"
    }
   ],
   "source": [
    "np.delete(arr, 2, 0)"
   ]
  },
  {
   "cell_type": "code",
   "execution_count": 29,
   "id": "5c68c48c",
   "metadata": {},
   "outputs": [
    {
     "data": {
      "text/plain": [
       "array([[ 9, 10, 11, 12]])"
      ]
     },
     "execution_count": 29,
     "metadata": {},
     "output_type": "execute_result"
    }
   ],
   "source": [
    "np.delete(arr, [0,1], 0)"
   ]
  },
  {
   "cell_type": "code",
   "execution_count": 30,
   "id": "8974287d",
   "metadata": {},
   "outputs": [
    {
     "data": {
      "text/plain": [
       "array([[ 1,  2,  4],\n",
       "       [ 5,  6,  8],\n",
       "       [ 9, 10, 12]])"
      ]
     },
     "execution_count": 30,
     "metadata": {},
     "output_type": "execute_result"
    }
   ],
   "source": [
    "np.delete(arr, np.s_[2], 1)"
   ]
  },
  {
   "cell_type": "markdown",
   "id": "0cea002a",
   "metadata": {},
   "source": [
    "# .unique"
   ]
  },
  {
   "cell_type": "code",
   "execution_count": 31,
   "id": "a9517ad4",
   "metadata": {},
   "outputs": [
    {
     "data": {
      "text/plain": [
       "array([1, 2, 3, 5])"
      ]
     },
     "execution_count": 31,
     "metadata": {},
     "output_type": "execute_result"
    }
   ],
   "source": [
    "b = np.array([1,2,1,2,5,3,3])\n",
    "np.unique(b)"
   ]
  },
  {
   "cell_type": "code",
   "execution_count": 32,
   "id": "1cc78c9a",
   "metadata": {},
   "outputs": [
    {
     "data": {
      "text/plain": [
       "array([[1, 0, 0],\n",
       "       [2, 3, 4]])"
      ]
     },
     "execution_count": 32,
     "metadata": {},
     "output_type": "execute_result"
    }
   ],
   "source": [
    "r = np.array([[1, 0, 0], [1, 0, 0], [2, 3, 4]])\n",
    "np.unique(r, axis=0)  # return unique rows"
   ]
  },
  {
   "cell_type": "code",
   "execution_count": 33,
   "id": "d53caa5d",
   "metadata": {},
   "outputs": [
    {
     "data": {
      "text/plain": [
       "array([1, 2, 3, 4, 6])"
      ]
     },
     "execution_count": 33,
     "metadata": {},
     "output_type": "execute_result"
    }
   ],
   "source": [
    "a = np.array([1, 2, 6, 4, 2, 3, 2])\n",
    "values, counts = np.unique(a, return_counts=True)\n",
    "values  # arr of unique val"
   ]
  },
  {
   "cell_type": "code",
   "execution_count": 34,
   "id": "debb84b0",
   "metadata": {},
   "outputs": [
    {
     "data": {
      "text/plain": [
       "array([1, 3, 1, 1, 1])"
      ]
     },
     "execution_count": 34,
     "metadata": {},
     "output_type": "execute_result"
    }
   ],
   "source": [
    "counts  # count of unique val"
   ]
  },
  {
   "cell_type": "markdown",
   "id": "0aff783d",
   "metadata": {},
   "source": [
    "# Rounding decimal"
   ]
  },
  {
   "cell_type": "code",
   "execution_count": 83,
   "id": "5ca823a5",
   "metadata": {},
   "outputs": [],
   "source": [
    "arr = np.array([-1.99, -1.13, 0.56, 1.28, 2.10, 2.65])"
   ]
  },
  {
   "cell_type": "code",
   "execution_count": 84,
   "id": "703d7a0f",
   "metadata": {},
   "outputs": [
    {
     "data": {
      "text/plain": [
       "array([-1., -1.,  0.,  1.,  2.,  2.,  3.,  3.])"
      ]
     },
     "execution_count": 84,
     "metadata": {},
     "output_type": "execute_result"
    }
   ],
   "source": [
    "# truncate decimal\n",
    "np.trunc(arr)"
   ]
  },
  {
   "cell_type": "code",
   "execution_count": 85,
   "id": "d21444e6",
   "metadata": {},
   "outputs": [
    {
     "data": {
      "text/plain": [
       "array([-1., -1.,  0.,  1.,  2.,  2.,  3.,  3.])"
      ]
     },
     "execution_count": 85,
     "metadata": {},
     "output_type": "execute_result"
    }
   ],
   "source": [
    "# Round to nearest integer towards zero.\n",
    "np.fix(arr)"
   ]
  },
  {
   "cell_type": "code",
   "execution_count": 88,
   "id": "8eff8742",
   "metadata": {},
   "outputs": [
    {
     "data": {
      "text/plain": [
       "array([-1.9, -1.1,  0.5,  1.2,  2.1,  2.6,  3.2,  3.8])"
      ]
     },
     "execution_count": 88,
     "metadata": {},
     "output_type": "execute_result"
    }
   ],
   "source": [
    "# round off to n decimal point\n",
    "np.round(arr, 1)"
   ]
  },
  {
   "cell_type": "code",
   "execution_count": 87,
   "id": "45183145",
   "metadata": {},
   "outputs": [
    {
     "data": {
      "text/plain": [
       "array([-1., -1.,  1.,  2.,  3.,  3.,  4.,  4.])"
      ]
     },
     "execution_count": 87,
     "metadata": {},
     "output_type": "execute_result"
    }
   ],
   "source": [
    "np.ceil(arr)"
   ]
  },
  {
   "cell_type": "code",
   "execution_count": 86,
   "id": "48458c1d",
   "metadata": {},
   "outputs": [
    {
     "data": {
      "text/plain": [
       "array([-2., -2.,  0.,  1.,  2.,  2.,  3.,  3.])"
      ]
     },
     "execution_count": 86,
     "metadata": {},
     "output_type": "execute_result"
    }
   ],
   "source": [
    "np.floor(arr)"
   ]
  },
  {
   "cell_type": "markdown",
   "id": "9d69f717",
   "metadata": {},
   "source": [
    "# Random"
   ]
  },
  {
   "cell_type": "markdown",
   "id": "c4d981f5",
   "metadata": {},
   "source": [
    "#### Random integer"
   ]
  },
  {
   "cell_type": "code",
   "execution_count": 35,
   "id": "b2aa33e7",
   "metadata": {},
   "outputs": [
    {
     "data": {
      "text/plain": [
       "array([24, 56, 25, 73, 73, 48,  1, 91, 39, 57])"
      ]
     },
     "execution_count": 35,
     "metadata": {},
     "output_type": "execute_result"
    }
   ],
   "source": [
    "from numpy import random\n",
    "# Generate 10 ints between 0 and 99, inclusive\n",
    "random.randint(100 , size=(10)) "
   ]
  },
  {
   "cell_type": "code",
   "execution_count": 36,
   "id": "117ae2eb",
   "metadata": {},
   "outputs": [
    {
     "data": {
      "text/plain": [
       "array([[8, 4, 1, 3],\n",
       "       [3, 4, 3, 2]])"
      ]
     },
     "execution_count": 36,
     "metadata": {},
     "output_type": "execute_result"
    }
   ],
   "source": [
    "#Generate a 2 x 4 array of ints between 1 and 8, inclusive\n",
    "np.random.randint(1,9, size=(2, 4))"
   ]
  },
  {
   "cell_type": "markdown",
   "id": "03c513cf",
   "metadata": {},
   "source": [
    "#### Random float"
   ]
  },
  {
   "cell_type": "code",
   "execution_count": 37,
   "id": "703b6e55",
   "metadata": {},
   "outputs": [
    {
     "data": {
      "text/plain": [
       "array([0.54524517, 0.4410965 , 0.93035895, 0.35106125, 0.99023503])"
      ]
     },
     "execution_count": 37,
     "metadata": {},
     "output_type": "execute_result"
    }
   ],
   "source": [
    "random.rand(5)"
   ]
  },
  {
   "cell_type": "code",
   "execution_count": 38,
   "id": "3182f18d",
   "metadata": {
    "scrolled": true
   },
   "outputs": [
    {
     "data": {
      "text/plain": [
       "array([[0.33429914, 0.65336805, 0.64491468, 0.11113747, 0.21371252],\n",
       "       [0.75600816, 0.01593841, 0.94573442, 0.62463752, 0.47970496],\n",
       "       [0.58628434, 0.03079783, 0.49016939, 0.38547439, 0.90437069],\n",
       "       [0.92474069, 0.32933077, 0.7376118 , 0.04599451, 0.97709438]])"
      ]
     },
     "execution_count": 38,
     "metadata": {},
     "output_type": "execute_result"
    }
   ],
   "source": [
    "random.rand(4,5)"
   ]
  },
  {
   "cell_type": "code",
   "execution_count": 39,
   "id": "dab52e9e",
   "metadata": {},
   "outputs": [
    {
     "data": {
      "text/plain": [
       "array([[[0.92761547, 0.0749071 , 0.27212865, 0.94223002, 0.42031626],\n",
       "        [0.98321916, 0.35835499, 0.03334502, 0.82240601, 0.9649208 ],\n",
       "        [0.18363209, 0.97609813, 0.41476096, 0.02971622, 0.24115536],\n",
       "        [0.46204612, 0.94132031, 0.18944451, 0.09109179, 0.84240998]],\n",
       "\n",
       "       [[0.83273982, 0.1990021 , 0.95203915, 0.95769014, 0.73755075],\n",
       "        [0.42239813, 0.48411948, 0.05981386, 0.97889064, 0.29676185],\n",
       "        [0.78973852, 0.83252307, 0.41509751, 0.43400013, 0.73896674],\n",
       "        [0.28817201, 0.20304755, 0.81424438, 0.74246371, 0.63551038]],\n",
       "\n",
       "       [[0.00621073, 0.26124258, 0.43644765, 0.96751356, 0.63644492],\n",
       "        [0.76168437, 0.38650373, 0.2212372 , 0.27941118, 0.09802397],\n",
       "        [0.21296236, 0.01073155, 0.18459977, 0.60736215, 0.40943608],\n",
       "        [0.09072803, 0.87991556, 0.88733982, 0.01899057, 0.6404267 ]]])"
      ]
     },
     "execution_count": 39,
     "metadata": {},
     "output_type": "execute_result"
    }
   ],
   "source": [
    "random.rand(3,4,5)"
   ]
  },
  {
   "cell_type": "markdown",
   "id": "bd511ccf",
   "metadata": {},
   "source": [
    "#### random.choice"
   ]
  },
  {
   "cell_type": "code",
   "execution_count": 40,
   "id": "b7ed629a",
   "metadata": {},
   "outputs": [
    {
     "data": {
      "text/plain": [
       "array([14, 27, 18, 29, 11,  1, 26,  4, 14,  8])"
      ]
     },
     "execution_count": 40,
     "metadata": {},
     "output_type": "execute_result"
    }
   ],
   "source": [
    "# choice of 1-29, pick 10 random, repeated number allowed\n",
    "random.choice(np.arange(1,30), 10, replace=True)"
   ]
  },
  {
   "cell_type": "code",
   "execution_count": 41,
   "id": "9109f1c6",
   "metadata": {},
   "outputs": [
    {
     "data": {
      "text/plain": [
       "array(['D', 'B'], dtype='<U1')"
      ]
     },
     "execution_count": 41,
     "metadata": {},
     "output_type": "execute_result"
    }
   ],
   "source": [
    "random.choice([\"A\",\"B\",\"C\",\"D\"], 2, replace=False)"
   ]
  },
  {
   "cell_type": "code",
   "execution_count": 42,
   "id": "50130912",
   "metadata": {},
   "outputs": [
    {
     "data": {
      "text/plain": [
       "[3, 10, 13, 16, 27, 45]"
      ]
     },
     "execution_count": 42,
     "metadata": {},
     "output_type": "execute_result"
    }
   ],
   "source": [
    "# pick 6 random mark 6 number\n",
    "mark6 = random.choice(np.arange(1,50), 6, replace=False)\n",
    "sorted(mark6)"
   ]
  },
  {
   "cell_type": "code",
   "execution_count": 43,
   "id": "1a3fb9ec",
   "metadata": {},
   "outputs": [
    {
     "data": {
      "text/plain": [
       "['K', 'f', 'S', '\\\\', 'a', 'g', 'V', 'B']"
      ]
     },
     "execution_count": 43,
     "metadata": {},
     "output_type": "execute_result"
    }
   ],
   "source": [
    "# Generate ASCII code character from 64 to 126\n",
    "pw = [chr(i) for i in list( random.choice(np.arange(64,127), 8, replace=False))]\n",
    "pw"
   ]
  },
  {
   "cell_type": "code",
   "execution_count": 44,
   "id": "a9560a5c",
   "metadata": {},
   "outputs": [
    {
     "data": {
      "text/plain": [
       "'KfS\\\\agVB'"
      ]
     },
     "execution_count": 44,
     "metadata": {},
     "output_type": "execute_result"
    }
   ],
   "source": [
    "for ctr, p in enumerate(pw):\n",
    "    if ctr == 0:\n",
    "        px = ''\n",
    "    px += p\n",
    "px"
   ]
  },
  {
   "cell_type": "markdown",
   "id": "d3164d93",
   "metadata": {},
   "source": [
    "ASCCI code table: https://web.alfredstate.edu/faculty/weimandn/miscellaneous/ascii/ascii_index.html"
   ]
  },
  {
   "cell_type": "markdown",
   "id": "74afd291",
   "metadata": {},
   "source": [
    "# random.uniform"
   ]
  },
  {
   "cell_type": "code",
   "execution_count": 45,
   "id": "f09e652b",
   "metadata": {},
   "outputs": [
    {
     "data": {
      "text/plain": [
       "array([-0.29649648, -0.73291883,  0.63057169, -0.68107064,  0.02695146,\n",
       "        0.23390735, -0.29118624,  0.34181125,  0.81374968, -0.16477113,\n",
       "       -0.31204329,  0.66951991, -0.41241771, -0.01755972,  0.24242325,\n",
       "       -0.72851271, -0.75004489,  0.09336338, -0.72842532, -0.12290739])"
      ]
     },
     "execution_count": 45,
     "metadata": {},
     "output_type": "execute_result"
    }
   ],
   "source": [
    "# random number range -1 to +1 , size: 20\n",
    "s = np.random.uniform(-1,1,20)\n",
    "s"
   ]
  },
  {
   "cell_type": "markdown",
   "id": "d03bc1db",
   "metadata": {},
   "source": [
    "# np.ndenumerate"
   ]
  },
  {
   "cell_type": "code",
   "execution_count": 46,
   "id": "d8be1b6a",
   "metadata": {},
   "outputs": [
    {
     "name": "stdout",
     "output_type": "stream",
     "text": [
      "(0, 0) 1\n",
      "(0, 1) 2\n",
      "(1, 0) 3\n",
      "(1, 1) 4\n"
     ]
    }
   ],
   "source": [
    "a = np.array([[1, 2], [3, 4]])\n",
    "for index, x in np.ndenumerate(a):\n",
    "    print(index, x)"
   ]
  },
  {
   "cell_type": "markdown",
   "id": "e4d01c70",
   "metadata": {},
   "source": [
    "# Broadcasting"
   ]
  },
  {
   "cell_type": "markdown",
   "id": "e11cfc7d",
   "metadata": {},
   "source": [
    "### 1-D"
   ]
  },
  {
   "cell_type": "code",
   "execution_count": 47,
   "id": "8b4c7585",
   "metadata": {},
   "outputs": [
    {
     "data": {
      "text/plain": [
       "array([3, 4, 5, 6])"
      ]
     },
     "execution_count": 47,
     "metadata": {},
     "output_type": "execute_result"
    }
   ],
   "source": [
    "x = np.array([0,1,2,3])\n",
    "x+3"
   ]
  },
  {
   "cell_type": "code",
   "execution_count": 48,
   "id": "121ab06b",
   "metadata": {},
   "outputs": [
    {
     "data": {
      "text/plain": [
       "array([3, 4, 5, 6])"
      ]
     },
     "execution_count": 48,
     "metadata": {},
     "output_type": "execute_result"
    }
   ],
   "source": [
    "x = np.array([0,1,2,3])\n",
    "x + [3,3,3,3]"
   ]
  },
  {
   "cell_type": "markdown",
   "id": "9059ac8c",
   "metadata": {},
   "source": [
    "### 2-D"
   ]
  },
  {
   "cell_type": "code",
   "execution_count": 49,
   "id": "d8ccc2ef",
   "metadata": {},
   "outputs": [
    {
     "data": {
      "text/plain": [
       "array([[ 0,  1,  2,  3],\n",
       "       [ 4,  5,  6,  7],\n",
       "       [ 8,  9, 10, 11]])"
      ]
     },
     "execution_count": 49,
     "metadata": {},
     "output_type": "execute_result"
    }
   ],
   "source": [
    "a = np.arange(12).reshape((3,4))\n",
    "a"
   ]
  },
  {
   "cell_type": "code",
   "execution_count": 50,
   "id": "f8673600",
   "metadata": {},
   "outputs": [
    {
     "data": {
      "text/plain": [
       "array([[1],\n",
       "       [2],\n",
       "       [3]])"
      ]
     },
     "execution_count": 50,
     "metadata": {},
     "output_type": "execute_result"
    }
   ],
   "source": [
    "b = np.array([1 , 2 , 3])[:, None]\n",
    "b"
   ]
  },
  {
   "cell_type": "code",
   "execution_count": 51,
   "id": "295dfdec",
   "metadata": {},
   "outputs": [
    {
     "data": {
      "text/plain": [
       "array([[ 1,  2,  3,  4],\n",
       "       [ 6,  7,  8,  9],\n",
       "       [11, 12, 13, 14]])"
      ]
     },
     "execution_count": 51,
     "metadata": {},
     "output_type": "execute_result"
    }
   ],
   "source": [
    "a + b"
   ]
  },
  {
   "cell_type": "markdown",
   "id": "738b8912",
   "metadata": {},
   "source": [
    "### 3-D"
   ]
  },
  {
   "cell_type": "code",
   "execution_count": 52,
   "id": "106cdf38",
   "metadata": {},
   "outputs": [
    {
     "data": {
      "text/plain": [
       "array([[0., 0., 0., 0., 0.],\n",
       "       [0., 0., 0., 0., 0.],\n",
       "       [0., 0., 0., 0., 0.]])"
      ]
     },
     "execution_count": 52,
     "metadata": {},
     "output_type": "execute_result"
    }
   ],
   "source": [
    "x = np.zeros((3,5))\n",
    "x"
   ]
  },
  {
   "cell_type": "code",
   "execution_count": 53,
   "id": "4b4e3ba8",
   "metadata": {},
   "outputs": [
    {
     "data": {
      "text/plain": [
       "array([0., 0., 0., 0., 0., 0., 0., 0.])"
      ]
     },
     "execution_count": 53,
     "metadata": {},
     "output_type": "execute_result"
    }
   ],
   "source": [
    "y = np.zeros(8)\n",
    "y"
   ]
  },
  {
   "cell_type": "code",
   "execution_count": 54,
   "id": "a795ab66",
   "metadata": {},
   "outputs": [
    {
     "data": {
      "text/plain": [
       "array([[[0., 0., 0., 0., 0., 0., 0., 0.],\n",
       "        [0., 0., 0., 0., 0., 0., 0., 0.],\n",
       "        [0., 0., 0., 0., 0., 0., 0., 0.],\n",
       "        [0., 0., 0., 0., 0., 0., 0., 0.],\n",
       "        [0., 0., 0., 0., 0., 0., 0., 0.]],\n",
       "\n",
       "       [[0., 0., 0., 0., 0., 0., 0., 0.],\n",
       "        [0., 0., 0., 0., 0., 0., 0., 0.],\n",
       "        [0., 0., 0., 0., 0., 0., 0., 0.],\n",
       "        [0., 0., 0., 0., 0., 0., 0., 0.],\n",
       "        [0., 0., 0., 0., 0., 0., 0., 0.]],\n",
       "\n",
       "       [[0., 0., 0., 0., 0., 0., 0., 0.],\n",
       "        [0., 0., 0., 0., 0., 0., 0., 0.],\n",
       "        [0., 0., 0., 0., 0., 0., 0., 0.],\n",
       "        [0., 0., 0., 0., 0., 0., 0., 0.],\n",
       "        [0., 0., 0., 0., 0., 0., 0., 0.]]])"
      ]
     },
     "execution_count": 54,
     "metadata": {},
     "output_type": "execute_result"
    }
   ],
   "source": [
    "x[...,None] + y    # shape(3,5,8)"
   ]
  },
  {
   "cell_type": "code",
   "execution_count": 55,
   "id": "bc7c0715",
   "metadata": {},
   "outputs": [
    {
     "data": {
      "text/plain": [
       "array([[[0.],\n",
       "        [0.],\n",
       "        [0.],\n",
       "        [0.],\n",
       "        [0.]],\n",
       "\n",
       "       [[0.],\n",
       "        [0.],\n",
       "        [0.],\n",
       "        [0.],\n",
       "        [0.]],\n",
       "\n",
       "       [[0.],\n",
       "        [0.],\n",
       "        [0.],\n",
       "        [0.],\n",
       "        [0.]]])"
      ]
     },
     "execution_count": 55,
     "metadata": {},
     "output_type": "execute_result"
    }
   ],
   "source": [
    "x[...,None]"
   ]
  },
  {
   "cell_type": "markdown",
   "id": "83c85c61",
   "metadata": {},
   "source": [
    "### The ellipsis ... means as many : as needed"
   ]
  },
  {
   "cell_type": "markdown",
   "id": "a701e07b",
   "metadata": {},
   "source": [
    "# Universal functions - numpy.ufunc"
   ]
  },
  {
   "cell_type": "code",
   "execution_count": 56,
   "id": "bc152cd7",
   "metadata": {},
   "outputs": [
    {
     "data": {
      "text/plain": [
       "numpy.ufunc"
      ]
     },
     "execution_count": 56,
     "metadata": {},
     "output_type": "execute_result"
    }
   ],
   "source": [
    "type(np.sin)"
   ]
  },
  {
   "cell_type": "code",
   "execution_count": 57,
   "id": "8e7f4ef8",
   "metadata": {
    "scrolled": true
   },
   "outputs": [
    {
     "name": "stdout",
     "output_type": "stream",
     "text": [
      "sin(x, /, out=None, *, where=True, casting='same_kind', order='K', dtype=None, subok=True[, signature, extobj])\n",
      "\n",
      "Trigonometric sine, element-wise.\n",
      "\n",
      "Parameters\n",
      "----------\n",
      "x : array_like\n",
      "    Angle, in radians (:math:`2 \\pi` rad equals 360 degrees).\n",
      "out : ndarray, None, or tuple of ndarray and None, optional\n",
      "    A location into which the result is stored. If provided, it must have\n",
      "    a shape that the inputs broadcast to. If not provided or None,\n",
      "    a freshly-allocated array is returned. A tuple (possible only as a\n",
      "    keyword argument) must have length equal to the number of outputs.\n",
      "where : array_like, optional\n",
      "    This condition is broadcast over the input. At locations where the\n",
      "    condition is True, the `out` array will be set to the ufunc result.\n",
      "    Elsewhere, the `out` array will retain its original value.\n",
      "    Note that if an uninitialized `out` array is created via the default\n",
      "    ``out=None``, locations within it where the condition is False will\n",
      "    remain uninitialized.\n",
      "**kwargs\n",
      "    For other keyword-only arguments, see the\n",
      "    :ref:`ufunc docs <ufuncs.kwargs>`.\n",
      "\n",
      "Returns\n",
      "-------\n",
      "y : array_like\n",
      "    The sine of each element of x.\n",
      "    This is a scalar if `x` is a scalar.\n",
      "\n",
      "See Also\n",
      "--------\n",
      "arcsin, sinh, cos\n",
      "\n",
      "Notes\n",
      "-----\n",
      "The sine is one of the fundamental functions of trigonometry (the\n",
      "mathematical study of triangles).  Consider a circle of radius 1\n",
      "centered on the origin.  A ray comes in from the :math:`+x` axis, makes\n",
      "an angle at the origin (measured counter-clockwise from that axis), and\n",
      "departs from the origin.  The :math:`y` coordinate of the outgoing\n",
      "ray's intersection with the unit circle is the sine of that angle.  It\n",
      "ranges from -1 for :math:`x=3\\pi / 2` to +1 for :math:`\\pi / 2.`  The\n",
      "function has zeroes where the angle is a multiple of :math:`\\pi`.\n",
      "Sines of angles between :math:`\\pi` and :math:`2\\pi` are negative.\n",
      "The numerous properties of the sine and related functions are included\n",
      "in any standard trigonometry text.\n",
      "\n",
      "Examples\n",
      "--------\n",
      "Print sine of one angle:\n",
      "\n",
      ">>> np.sin(np.pi/2.)\n",
      "1.0\n",
      "\n",
      "Print sines of an array of angles given in degrees:\n",
      "\n",
      ">>> np.sin(np.array((0., 30., 45., 60., 90.)) * np.pi / 180. )\n",
      "array([ 0.        ,  0.5       ,  0.70710678,  0.8660254 ,  1.        ])\n",
      "\n",
      "Plot the sine function:\n",
      "\n",
      ">>> import matplotlib.pylab as plt\n",
      ">>> x = np.linspace(-np.pi, np.pi, 201)\n",
      ">>> plt.plot(x, np.sin(x))\n",
      ">>> plt.xlabel('Angle [rad]')\n",
      ">>> plt.ylabel('sin(x)')\n",
      ">>> plt.axis('tight')\n",
      ">>> plt.show()\n"
     ]
    }
   ],
   "source": [
    "np.info(np.sin)"
   ]
  },
  {
   "cell_type": "code",
   "execution_count": 58,
   "id": "0ff68806",
   "metadata": {},
   "outputs": [
    {
     "data": {
      "text/plain": [
       "array([0.        , 0.5       , 0.70710678, 0.8660254 , 1.        ])"
      ]
     },
     "execution_count": 58,
     "metadata": {},
     "output_type": "execute_result"
    }
   ],
   "source": [
    "np.sin(np.array((0., 30., 45., 60., 90.)) * np.pi / 180. )"
   ]
  },
  {
   "cell_type": "markdown",
   "id": "b1ec46a2",
   "metadata": {},
   "source": [
    "# Create your own ufunc"
   ]
  },
  {
   "cell_type": "code",
   "execution_count": 59,
   "id": "9aad28fb",
   "metadata": {},
   "outputs": [
    {
     "data": {
      "text/plain": [
       "array([2, 6, 12, 20], dtype=object)"
      ]
     },
     "execution_count": 59,
     "metadata": {},
     "output_type": "execute_result"
    }
   ],
   "source": [
    "def area_rect(x,y):\n",
    "    return x*y\n",
    "\n",
    "# create an ufunc with 2 input 1 output\n",
    "funcarea = np.frompyfunc(area_rect, 2, 1) \n",
    "\n",
    "arr1 = [1,2,3,4]\n",
    "arr2 = [2,3,4,5]\n",
    "funcarea(arr1, arr2)"
   ]
  },
  {
   "cell_type": "code",
   "execution_count": 60,
   "id": "82b6e847",
   "metadata": {},
   "outputs": [
    {
     "data": {
      "text/plain": [
       "numpy.ufunc"
      ]
     },
     "execution_count": 60,
     "metadata": {},
     "output_type": "execute_result"
    }
   ],
   "source": [
    "type(funcarea)"
   ]
  },
  {
   "cell_type": "markdown",
   "id": "04475493",
   "metadata": {},
   "source": [
    "# Filter"
   ]
  },
  {
   "cell_type": "code",
   "execution_count": 61,
   "id": "f94e89c7",
   "metadata": {},
   "outputs": [
    {
     "data": {
      "text/plain": [
       "array([1, 2, 3, 4, 5, 6, 7, 8, 9])"
      ]
     },
     "execution_count": 61,
     "metadata": {},
     "output_type": "execute_result"
    }
   ],
   "source": [
    "arr = np.array(np.arange(1,10))\n",
    "arr"
   ]
  },
  {
   "cell_type": "code",
   "execution_count": 62,
   "id": "4366ea05",
   "metadata": {},
   "outputs": [
    {
     "data": {
      "text/plain": [
       "array([2, 4, 6, 8])"
      ]
     },
     "execution_count": 62,
     "metadata": {},
     "output_type": "execute_result"
    }
   ],
   "source": [
    "# filter with even number condition\n",
    "arr[arr % 2 == 0]"
   ]
  },
  {
   "cell_type": "code",
   "execution_count": 63,
   "id": "928255a5",
   "metadata": {},
   "outputs": [
    {
     "data": {
      "text/plain": [
       "array([6, 7, 8, 9])"
      ]
     },
     "execution_count": 63,
     "metadata": {},
     "output_type": "execute_result"
    }
   ],
   "source": [
    "arr[arr > 5]"
   ]
  },
  {
   "cell_type": "markdown",
   "id": "7fe0b214",
   "metadata": {},
   "source": [
    "# Filter/Search with np.where"
   ]
  },
  {
   "cell_type": "code",
   "execution_count": 64,
   "id": "ba59a149",
   "metadata": {},
   "outputs": [
    {
     "data": {
      "text/plain": [
       "array([1, 2, 3, 4, 5])"
      ]
     },
     "execution_count": 64,
     "metadata": {},
     "output_type": "execute_result"
    }
   ],
   "source": [
    "arr = np.array(np.arange(1,6))\n",
    "arr"
   ]
  },
  {
   "cell_type": "code",
   "execution_count": 65,
   "id": "eb1276f8",
   "metadata": {},
   "outputs": [
    {
     "data": {
      "text/plain": [
       "array([1.1, 2.1, 2.9, 3.9, 4.9])"
      ]
     },
     "execution_count": 65,
     "metadata": {},
     "output_type": "execute_result"
    }
   ],
   "source": [
    "# if element >=3, -0.1, else +0.1\n",
    "np.where(arr>=3, arr-0.1, arr+0.1)"
   ]
  },
  {
   "cell_type": "code",
   "execution_count": 66,
   "id": "277c134f",
   "metadata": {},
   "outputs": [
    {
     "data": {
      "text/plain": [
       "array(['Fail', 'Fail', 'Pass', 'Pass', 'Pass'], dtype='<U4')"
      ]
     },
     "execution_count": 66,
     "metadata": {},
     "output_type": "execute_result"
    }
   ],
   "source": [
    "np.where(arr>=3, \"Pass\", \"Fail\")"
   ]
  },
  {
   "cell_type": "code",
   "execution_count": null,
   "id": "1d2ef3fe",
   "metadata": {},
   "outputs": [],
   "source": []
  },
  {
   "cell_type": "markdown",
   "id": "ba2881c5",
   "metadata": {},
   "source": [
    "# time your code"
   ]
  },
  {
   "cell_type": "markdown",
   "id": "ec7855b6",
   "metadata": {},
   "source": [
    "### timeit.timeit(stmt='pass', setup='pass', timer=<default timer>, number=1000000, globals=None)"
   ]
  },
  {
   "cell_type": "markdown",
   "id": "6362ad87",
   "metadata": {},
   "source": [
    "### timeit.repeat(stmt='pass', setup='pass', timer=<default timer>, repeat=5, number=1000000, globals=None)"
   ]
  },
  {
   "cell_type": "markdown",
   "id": "f4ede9c2",
   "metadata": {},
   "source": [
    "https://docs.python.org/3/library/timeit.html"
   ]
  },
  {
   "cell_type": "code",
   "execution_count": null,
   "id": "b6e48c4c",
   "metadata": {
    "scrolled": true
   },
   "outputs": [],
   "source": []
  },
  {
   "cell_type": "code",
   "execution_count": null,
   "id": "63399618",
   "metadata": {},
   "outputs": [],
   "source": []
  }
 ],
 "metadata": {
  "kernelspec": {
   "display_name": "Python 3 (ipykernel)",
   "language": "python",
   "name": "python3"
  },
  "language_info": {
   "codemirror_mode": {
    "name": "ipython",
    "version": 3
   },
   "file_extension": ".py",
   "mimetype": "text/x-python",
   "name": "python",
   "nbconvert_exporter": "python",
   "pygments_lexer": "ipython3",
   "version": "3.9.13"
  }
 },
 "nbformat": 4,
 "nbformat_minor": 5
}
