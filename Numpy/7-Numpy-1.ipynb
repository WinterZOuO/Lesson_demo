{
 "cells": [
  {
   "cell_type": "markdown",
   "id": "c5e320e1",
   "metadata": {},
   "source": [
    "# Import Numpy and Check its Version"
   ]
  },
  {
   "cell_type": "code",
   "execution_count": 1,
   "id": "f72e0d56",
   "metadata": {},
   "outputs": [
    {
     "data": {
      "text/plain": [
       "'1.24.3'"
      ]
     },
     "execution_count": 1,
     "metadata": {},
     "output_type": "execute_result"
    }
   ],
   "source": [
    "import numpy \n",
    "numpy.__version__\n"
   ]
  },
  {
   "cell_type": "markdown",
   "id": "09be0239",
   "metadata": {},
   "source": [
    "Usually we use initial np for ease of following coding "
   ]
  },
  {
   "cell_type": "code",
   "execution_count": 2,
   "id": "41865fe6",
   "metadata": {},
   "outputs": [],
   "source": [
    "import numpy as np"
   ]
  },
  {
   "cell_type": "code",
   "execution_count": 3,
   "id": "aa428afb",
   "metadata": {},
   "outputs": [
    {
     "name": "stdout",
     "output_type": "stream",
     "text": [
      "[1, 2, 3]\n"
     ]
    },
    {
     "data": {
      "text/plain": [
       "list"
      ]
     },
     "execution_count": 3,
     "metadata": {},
     "output_type": "execute_result"
    }
   ],
   "source": [
    "python_list = [1,2,3]\n",
    "print(python_list)\n",
    "type(python_list)"
   ]
  },
  {
   "cell_type": "markdown",
   "id": "b1ce2df6",
   "metadata": {},
   "source": [
    "# Create 1-D numpy array"
   ]
  },
  {
   "cell_type": "code",
   "execution_count": 4,
   "id": "9c893c56",
   "metadata": {},
   "outputs": [
    {
     "name": "stdout",
     "output_type": "stream",
     "text": [
      "[1 2 3]\n"
     ]
    },
    {
     "data": {
      "text/plain": [
       "numpy.ndarray"
      ]
     },
     "execution_count": 4,
     "metadata": {},
     "output_type": "execute_result"
    }
   ],
   "source": [
    "arr = np.array([1, 2, 3])\n",
    "print(arr)\n",
    "type(arr)"
   ]
  },
  {
   "cell_type": "code",
   "execution_count": 5,
   "id": "8c288605",
   "metadata": {},
   "outputs": [
    {
     "data": {
      "text/plain": [
       "(3,)"
      ]
     },
     "execution_count": 5,
     "metadata": {},
     "output_type": "execute_result"
    }
   ],
   "source": [
    "arr.shape"
   ]
  },
  {
   "cell_type": "markdown",
   "id": "e5be8960",
   "metadata": {},
   "source": [
    "# Slicing 1-D array"
   ]
  },
  {
   "cell_type": "code",
   "execution_count": 6,
   "id": "e7f8a2c6",
   "metadata": {},
   "outputs": [
    {
     "name": "stdout",
     "output_type": "stream",
     "text": [
      "1\n",
      "2\n",
      "3\n",
      "[1 2 3]\n",
      "[2 3]\n",
      "[1 2]\n"
     ]
    }
   ],
   "source": [
    "arr2 = np.array([1, 2, 3])\n",
    "print(arr2[0])\n",
    "print(arr2[1])\n",
    "print(arr2[-1])\n",
    "print(arr2[:])\n",
    "print(arr2[1:])\n",
    "print(arr2[:2])"
   ]
  },
  {
   "cell_type": "markdown",
   "id": "cc6ffc52",
   "metadata": {},
   "source": [
    "# Create 2-D array"
   ]
  },
  {
   "cell_type": "code",
   "execution_count": 7,
   "id": "4c42796d",
   "metadata": {},
   "outputs": [
    {
     "name": "stdout",
     "output_type": "stream",
     "text": [
      "[[1 2]\n",
      " [3 4]\n",
      " [5 6]\n",
      " [7 8]]\n"
     ]
    },
    {
     "data": {
      "text/plain": [
       "(4, 2)"
      ]
     },
     "execution_count": 7,
     "metadata": {},
     "output_type": "execute_result"
    }
   ],
   "source": [
    "arr_2D = np.array([[1,2],[3,4],[5,6],[7,8]])\n",
    "print(arr_2D)\n",
    "arr_2D.shape"
   ]
  },
  {
   "cell_type": "markdown",
   "id": "2d4422cc",
   "metadata": {},
   "source": [
    "# Slicing 2-D array"
   ]
  },
  {
   "cell_type": "code",
   "execution_count": 8,
   "id": "e735cf60",
   "metadata": {},
   "outputs": [
    {
     "name": "stdout",
     "output_type": "stream",
     "text": [
      "[3 4]\n",
      "7\n",
      "[[1 2]\n",
      " [3 4]]\n"
     ]
    }
   ],
   "source": [
    "arr_2D = np.array([[1,2],[3,4],[5,6],[7,8]])\n",
    "print(arr_2D[1])    # [3 4]\n",
    "print(arr_2D[3][0]) # 7\n",
    "print(arr_2D[:2])"
   ]
  },
  {
   "cell_type": "code",
   "execution_count": 7,
   "id": "2d35c485",
   "metadata": {
    "scrolled": false
   },
   "outputs": [
    {
     "name": "stdout",
     "output_type": "stream",
     "text": [
      "[1 3 5 7]\n",
      "[2 4 6 8]\n"
     ]
    },
    {
     "data": {
      "text/plain": [
       "[<matplotlib.lines.Line2D at 0x117819970>]"
      ]
     },
     "execution_count": 7,
     "metadata": {},
     "output_type": "execute_result"
    },
    {
     "data": {
      "image/png": "[encoded data removed]",
      "text/plain": [
       "<Figure size 640x480 with 1 Axes>"
      ]
     },
     "metadata": {},
     "output_type": "display_data"
    }
   ],
   "source": [
    "arr_2D = np.array([[1,2],[3,4],[5,6],[7,8]])\n",
    "print(arr_2D[:,0])\n",
    "print(arr_2D[:,1])\n",
    "\n",
    "import matplotlib.pyplot as plt\n",
    "plt.plot(arr_2D[:,0], arr_2D[:,1])"
   ]
  },
  {
   "cell_type": "markdown",
   "id": "e23baedd",
   "metadata": {},
   "source": [
    "# Reshape an array"
   ]
  },
  {
   "cell_type": "code",
   "execution_count": 10,
   "id": "a16c5424",
   "metadata": {},
   "outputs": [
    {
     "data": {
      "text/plain": [
       "(6,)"
      ]
     },
     "execution_count": 10,
     "metadata": {},
     "output_type": "execute_result"
    }
   ],
   "source": [
    "data = np.array([1,2,3,4,5,6])\n",
    "data.shape"
   ]
  },
  {
   "cell_type": "code",
   "execution_count": 11,
   "id": "cdbb84be",
   "metadata": {},
   "outputs": [
    {
     "data": {
      "text/plain": [
       "array([[1, 2, 3],\n",
       "       [4, 5, 6]])"
      ]
     },
     "execution_count": 11,
     "metadata": {},
     "output_type": "execute_result"
    }
   ],
   "source": [
    "data.reshape(2,3)"
   ]
  },
  {
   "cell_type": "code",
   "execution_count": 12,
   "id": "d7794237",
   "metadata": {},
   "outputs": [
    {
     "data": {
      "text/plain": [
       "array([[1, 2],\n",
       "       [3, 4],\n",
       "       [5, 6]])"
      ]
     },
     "execution_count": 12,
     "metadata": {},
     "output_type": "execute_result"
    }
   ],
   "source": [
    "data.reshape(3,2)"
   ]
  },
  {
   "cell_type": "code",
   "execution_count": 13,
   "id": "bc131e10",
   "metadata": {},
   "outputs": [
    {
     "data": {
      "text/plain": [
       "array([1, 2, 3, 4, 5, 6])"
      ]
     },
     "execution_count": 13,
     "metadata": {},
     "output_type": "execute_result"
    }
   ],
   "source": [
    "data  \n",
    "# If you need to process the reshape array later, you should assign it to a new name, i.e. data2=data.reshape(2,3)"
   ]
  },
  {
   "cell_type": "markdown",
   "id": "40d6db74",
   "metadata": {},
   "source": [
    "# Create a 3D array"
   ]
  },
  {
   "cell_type": "code",
   "execution_count": 14,
   "id": "dc5e52ab",
   "metadata": {},
   "outputs": [
    {
     "data": {
      "text/plain": [
       "array([[[0., 0., 0., 0.],\n",
       "        [0., 0., 0., 0.]],\n",
       "\n",
       "       [[0., 0., 0., 0.],\n",
       "        [0., 0., 0., 0.]],\n",
       "\n",
       "       [[0., 0., 0., 0.],\n",
       "        [0., 0., 0., 0.]]])"
      ]
     },
     "execution_count": 14,
     "metadata": {},
     "output_type": "execute_result"
    }
   ],
   "source": [
    "simple_3D = np.zeros((3,2,4))\n",
    "simple_3D"
   ]
  },
  {
   "cell_type": "code",
   "execution_count": 15,
   "id": "5ce07c63",
   "metadata": {},
   "outputs": [
    {
     "data": {
      "text/plain": [
       "3"
      ]
     },
     "execution_count": 15,
     "metadata": {},
     "output_type": "execute_result"
    }
   ],
   "source": [
    "simple_3D.ndim"
   ]
  },
  {
   "cell_type": "code",
   "execution_count": 4,
   "id": "be616b19",
   "metadata": {},
   "outputs": [
    {
     "data": {
      "text/plain": [
       "(3, 3, 3)"
      ]
     },
     "execution_count": 4,
     "metadata": {},
     "output_type": "execute_result"
    }
   ],
   "source": [
    "arr_3D = np.array([[[1,2,3],\n",
    "                   [4,5,6],\n",
    "                    [4,5,6],\n",
    "                   ],\n",
    "                   \n",
    "                   [[7,8,9],\n",
    "                   [10,11,12],\n",
    "                   [4,5,6],],\n",
    "                   \n",
    "                   [[1,2,3],\n",
    "                   [4,5,6],\n",
    "                   [4,5,6],],\n",
    "                  ])\n",
    "arr_3D.shape"
   ]
  },
  {
   "cell_type": "code",
   "execution_count": 17,
   "id": "591522d4",
   "metadata": {},
   "outputs": [
    {
     "data": {
      "image/png": "[encoded data removed]",
      "text/plain": [
       "<Figure size 432x288 with 1 Axes>"
      ]
     },
     "metadata": {
      "needs_background": "light"
     },
     "output_type": "display_data"
    }
   ],
   "source": [
    "X = arr_3D[:,0]  # 1,4,7,10\n",
    "Y = arr_3D[:,1]  # 2,5,8,11\n",
    "Z = arr_3D[:,2]  # 3,6,9,12\n",
    "\n",
    "from mpl_toolkits.mplot3d import axes3d\n",
    "import matplotlib.pyplot as plt\n",
    "fig, ax = plt.subplots(subplot_kw=dict(projection='3d'))\n",
    "ax.stem(X, Y, Z)\n",
    "plt.show()"
   ]
  },
  {
   "cell_type": "markdown",
   "id": "65bd3835",
   "metadata": {},
   "source": [
    "# Array Operation"
   ]
  },
  {
   "cell_type": "code",
   "execution_count": 18,
   "id": "2f0b572e",
   "metadata": {},
   "outputs": [
    {
     "data": {
      "text/plain": [
       "array([[1, 1, 1],\n",
       "       [2, 2, 2],\n",
       "       [3, 3, 3]])"
      ]
     },
     "execution_count": 18,
     "metadata": {},
     "output_type": "execute_result"
    }
   ],
   "source": [
    "data = np.array([[1,1,1],\n",
    "                 [2,2,2],\n",
    "                 [3,3,3]\n",
    "                ])\n",
    "data"
   ]
  },
  {
   "cell_type": "code",
   "execution_count": 19,
   "id": "4c524f23",
   "metadata": {},
   "outputs": [
    {
     "data": {
      "text/plain": [
       "array([[1.5, 1.5, 1.5],\n",
       "       [3. , 3. , 3. ],\n",
       "       [4.5, 4.5, 4.5]])"
      ]
     },
     "execution_count": 19,
     "metadata": {},
     "output_type": "execute_result"
    }
   ],
   "source": [
    "data*1.5"
   ]
  },
  {
   "cell_type": "code",
   "execution_count": 20,
   "id": "80e2c47f",
   "metadata": {},
   "outputs": [
    {
     "data": {
      "text/plain": [
       "array([[0.5, 0.5],\n",
       "       [0.4, 0.4]])"
      ]
     },
     "execution_count": 20,
     "metadata": {},
     "output_type": "execute_result"
    }
   ],
   "source": [
    "data2 = np.array([ [0.5,0.5],\n",
    "                  [0.4,0.4]  ])\n",
    "data2"
   ]
  },
  {
   "cell_type": "markdown",
   "id": "2aa4b5b8",
   "metadata": {},
   "source": [
    "# You may not operate shape with different in x-axis and y-axis, that confuse numpy/python ambiguity"
   ]
  },
  {
   "cell_type": "code",
   "execution_count": 21,
   "id": "eed652b8",
   "metadata": {},
   "outputs": [],
   "source": [
    "# data + data2\n",
    "# ValueError: operands could not be broadcast together with shapes (3,3) (2,2) "
   ]
  },
  {
   "cell_type": "code",
   "execution_count": 22,
   "id": "94abcff8",
   "metadata": {},
   "outputs": [
    {
     "data": {
      "text/plain": [
       "array([[0.5 , 0.5 , 0.05],\n",
       "       [0.4 , 0.4 , 0.4 ]])"
      ]
     },
     "execution_count": 22,
     "metadata": {},
     "output_type": "execute_result"
    }
   ],
   "source": [
    "data3 = np.array([ [0.5,0.5,.05],\n",
    "                  [0.4,0.4,0.4]  ])\n",
    "data3"
   ]
  },
  {
   "cell_type": "code",
   "execution_count": 23,
   "id": "491a90e9",
   "metadata": {},
   "outputs": [],
   "source": [
    "# data + data3\n",
    "# ValueError: operands could not be broadcast together with shapes (3,3) (2,3) "
   ]
  },
  {
   "cell_type": "code",
   "execution_count": 24,
   "id": "d8dfcde3",
   "metadata": {},
   "outputs": [
    {
     "data": {
      "text/plain": [
       "(1, 3)"
      ]
     },
     "execution_count": 24,
     "metadata": {},
     "output_type": "execute_result"
    }
   ],
   "source": [
    "data4 = np.array([ [0.5,0.5,.05],\n",
    "                 ])\n",
    "data4\n",
    "data4.shape"
   ]
  },
  {
   "cell_type": "code",
   "execution_count": 25,
   "id": "fe084f5d",
   "metadata": {},
   "outputs": [
    {
     "data": {
      "text/plain": [
       "array([[1.5 , 1.5 , 1.05],\n",
       "       [2.5 , 2.5 , 2.05],\n",
       "       [3.5 , 3.5 , 3.05]])"
      ]
     },
     "execution_count": 25,
     "metadata": {},
     "output_type": "execute_result"
    }
   ],
   "source": [
    "data+data4"
   ]
  },
  {
   "cell_type": "code",
   "execution_count": 26,
   "id": "09bf9a48",
   "metadata": {},
   "outputs": [
    {
     "data": {
      "text/plain": [
       "(3,)"
      ]
     },
     "execution_count": 26,
     "metadata": {},
     "output_type": "execute_result"
    }
   ],
   "source": [
    "data5 = np.array([ 0.1,0.1,0.1 ])\n",
    "data5\n",
    "data5.shape"
   ]
  },
  {
   "cell_type": "code",
   "execution_count": 27,
   "id": "fe793a97",
   "metadata": {},
   "outputs": [
    {
     "data": {
      "text/plain": [
       "array([[1.1, 1.1, 1.1],\n",
       "       [2.1, 2.1, 2.1],\n",
       "       [3.1, 3.1, 3.1]])"
      ]
     },
     "execution_count": 27,
     "metadata": {},
     "output_type": "execute_result"
    }
   ],
   "source": [
    "data+data5"
   ]
  },
  {
   "cell_type": "code",
   "execution_count": 28,
   "id": "c9b49786",
   "metadata": {},
   "outputs": [
    {
     "data": {
      "text/plain": [
       "2"
      ]
     },
     "execution_count": 28,
     "metadata": {},
     "output_type": "execute_result"
    }
   ],
   "source": [
    "(data+data5).ndim"
   ]
  },
  {
   "cell_type": "markdown",
   "id": "e89ab1cf",
   "metadata": {},
   "source": [
    "# in-class exercise"
   ]
  },
  {
   "cell_type": "code",
   "execution_count": 29,
   "id": "fa282a68",
   "metadata": {},
   "outputs": [
    {
     "name": "stdout",
     "output_type": "stream",
     "text": [
      "[0. 2. 4. 6.]\n",
      "[0. 1. 2. 3.]\n"
     ]
    },
    {
     "data": {
      "text/plain": [
       "[<matplotlib.lines.Line2D at 0x116cabe20>]"
      ]
     },
     "execution_count": 29,
     "metadata": {},
     "output_type": "execute_result"
    },
    {
     "data": {
      "image/png": "[encoded data removed]",
      "text/plain": [
       "<Figure size 432x288 with 1 Axes>"
      ]
     },
     "metadata": {
      "needs_background": "light"
     },
     "output_type": "display_data"
    }
   ],
   "source": [
    "data_trend = np.array([\n",
    "    [0,0],\n",
    "    [2,1],\n",
    "    [4,2],\n",
    "    [6,3]\n",
    "], dtype=float)\n",
    "\n",
    "x = data_trend[:,0]\n",
    "y = data_trend[:,1]\n",
    "print(x)\n",
    "print(y)\n",
    "\n",
    "import matplotlib.pyplot as plt\n",
    "\n",
    "plt.plot(x, y)"
   ]
  },
  {
   "cell_type": "code",
   "execution_count": 30,
   "id": "0d846b94",
   "metadata": {},
   "outputs": [
    {
     "name": "stdout",
     "output_type": "stream",
     "text": [
      "[[1. 1.]\n",
      " [3. 2.]\n",
      " [5. 3.]\n",
      " [7. 4.]]\n"
     ]
    }
   ],
   "source": [
    "# increase y-axis (alpha) by 1\n",
    "data_trend = data_trend + 1\n",
    "print(data_trend)"
   ]
  },
  {
   "cell_type": "code",
   "execution_count": 31,
   "id": "0ac42a1f",
   "metadata": {},
   "outputs": [
    {
     "name": "stdout",
     "output_type": "stream",
     "text": [
      "[[0.5 0.5]\n",
      " [1.5 1. ]\n",
      " [2.5 1.5]\n",
      " [3.5 2. ]]\n"
     ]
    }
   ],
   "source": [
    "# change the slope (beta) by 0.5\n",
    "data_trend = data_trend * 0.5\n",
    "print(data_trend)"
   ]
  },
  {
   "cell_type": "code",
   "execution_count": 32,
   "id": "5fbdd8d4",
   "metadata": {},
   "outputs": [
    {
     "name": "stdout",
     "output_type": "stream",
     "text": [
      "[0.5 1.5 2.5 3.5]\n",
      "[0.5 1.  1.5 2. ]\n"
     ]
    },
    {
     "data": {
      "text/plain": [
       "[<matplotlib.lines.Line2D at 0x116d11b80>]"
      ]
     },
     "execution_count": 32,
     "metadata": {},
     "output_type": "execute_result"
    },
    {
     "data": {
      "image/png": "[encoded data removed]",
      "text/plain": [
       "<Figure size 432x288 with 1 Axes>"
      ]
     },
     "metadata": {
      "needs_background": "light"
     },
     "output_type": "display_data"
    }
   ],
   "source": [
    "x = data_trend[:,0]\n",
    "y = data_trend[:,1]\n",
    "print(x)\n",
    "print(y)\n",
    "\n",
    "import matplotlib.pyplot as plt\n",
    "plt.plot(x, y)"
   ]
  },
  {
   "cell_type": "code",
   "execution_count": 33,
   "id": "27b3704f",
   "metadata": {},
   "outputs": [
    {
     "data": {
      "text/plain": [
       "dtype('float64')"
      ]
     },
     "execution_count": 33,
     "metadata": {},
     "output_type": "execute_result"
    }
   ],
   "source": [
    "# default float is 64, sometime you may need make it smaller for faster calculation in large size data\n",
    "data_trend.dtype"
   ]
  },
  {
   "cell_type": "markdown",
   "id": "9829ba28",
   "metadata": {},
   "source": [
    "# Common used functions"
   ]
  },
  {
   "cell_type": "code",
   "execution_count": 34,
   "id": "fb90c0c9",
   "metadata": {},
   "outputs": [
    {
     "data": {
      "text/plain": [
       "array([0.  , 0.25, 0.5 , 0.75, 1.  , 1.25, 1.5 , 1.75, 2.  ])"
      ]
     },
     "execution_count": 34,
     "metadata": {},
     "output_type": "execute_result"
    }
   ],
   "source": [
    "# generate evenly spaced numbers over a specified interval\n",
    "np.linspace(0,2,9) # (smallest number, largest number, total number)"
   ]
  },
  {
   "cell_type": "code",
   "execution_count": 35,
   "id": "2e34f5ee",
   "metadata": {},
   "outputs": [
    {
     "data": {
      "text/plain": [
       "array([0, 1, 2, 3, 4, 5, 6, 7, 8, 9])"
      ]
     },
     "execution_count": 35,
     "metadata": {},
     "output_type": "execute_result"
    }
   ],
   "source": [
    "# generate arrays with regularly incrementing values\n",
    "np.arange(10)"
   ]
  },
  {
   "cell_type": "code",
   "execution_count": 36,
   "id": "336750f4",
   "metadata": {},
   "outputs": [
    {
     "data": {
      "text/plain": [
       "array([9. , 9.1, 9.2, 9.3, 9.4, 9.5, 9.6, 9.7, 9.8, 9.9])"
      ]
     },
     "execution_count": 36,
     "metadata": {},
     "output_type": "execute_result"
    }
   ],
   "source": [
    "# np.arange(start, stop, interval)\n",
    "np.arange(9, 10, 0.1)"
   ]
  },
  {
   "cell_type": "code",
   "execution_count": 37,
   "id": "f8c7aaf2",
   "metadata": {},
   "outputs": [
    {
     "data": {
      "text/plain": [
       "array([83, 14, 55, 34,  4, 12, 65, 96, 55, 88])"
      ]
     },
     "execution_count": 37,
     "metadata": {},
     "output_type": "execute_result"
    }
   ],
   "source": [
    "# generate random integer (smallest integer, largest integer, total number)\n",
    "np.random.randint(1, 100, size=10)"
   ]
  },
  {
   "cell_type": "code",
   "execution_count": 38,
   "id": "5d9744eb",
   "metadata": {},
   "outputs": [
    {
     "data": {
      "text/plain": [
       "array([[0., 0., 0.],\n",
       "       [0., 0., 0.]])"
      ]
     },
     "execution_count": 38,
     "metadata": {},
     "output_type": "execute_result"
    }
   ],
   "source": [
    "# create array of all zero\n",
    "np.zeros((2,3))"
   ]
  },
  {
   "cell_type": "code",
   "execution_count": 39,
   "id": "bdca1c13",
   "metadata": {},
   "outputs": [
    {
     "data": {
      "text/plain": [
       "array([[1., 1.],\n",
       "       [1., 1.],\n",
       "       [1., 1.]])"
      ]
     },
     "execution_count": 39,
     "metadata": {},
     "output_type": "execute_result"
    }
   ],
   "source": [
    "# create array of all one\n",
    "np.ones((3,2))"
   ]
  },
  {
   "cell_type": "markdown",
   "id": "15510117",
   "metadata": {},
   "source": [
    "# Arithmetic operators and functions"
   ]
  },
  {
   "cell_type": "code",
   "execution_count": 40,
   "id": "ed87c0d6",
   "metadata": {},
   "outputs": [
    {
     "data": {
      "text/plain": [
       "3"
      ]
     },
     "execution_count": 40,
     "metadata": {},
     "output_type": "execute_result"
    }
   ],
   "source": [
    "# floor divide\n",
    "7//2"
   ]
  },
  {
   "cell_type": "code",
   "execution_count": 41,
   "id": "760281f3",
   "metadata": {},
   "outputs": [
    {
     "data": {
      "text/plain": [
       "1"
      ]
     },
     "execution_count": 41,
     "metadata": {},
     "output_type": "execute_result"
    }
   ],
   "source": [
    "# modulas, remainder\n",
    "np.mod(7,2)"
   ]
  },
  {
   "cell_type": "code",
   "execution_count": 42,
   "id": "34c8f58d",
   "metadata": {},
   "outputs": [
    {
     "data": {
      "text/plain": [
       "8"
      ]
     },
     "execution_count": 42,
     "metadata": {},
     "output_type": "execute_result"
    }
   ],
   "source": [
    "# power\n",
    "2**3"
   ]
  },
  {
   "cell_type": "code",
   "execution_count": 43,
   "id": "33ab040d",
   "metadata": {},
   "outputs": [
    {
     "data": {
      "text/plain": [
       "3.0"
      ]
     },
     "execution_count": 43,
     "metadata": {},
     "output_type": "execute_result"
    }
   ],
   "source": [
    "# square root\n",
    "np.sqrt(9)"
   ]
  },
  {
   "cell_type": "code",
   "execution_count": 44,
   "id": "770027fc",
   "metadata": {},
   "outputs": [
    {
     "data": {
      "text/plain": [
       "3.0"
      ]
     },
     "execution_count": 44,
     "metadata": {},
     "output_type": "execute_result"
    }
   ],
   "source": [
    "# 10 logarithm of the input \n",
    "np.log10(1000)"
   ]
  },
  {
   "cell_type": "code",
   "execution_count": 45,
   "id": "6c087dba",
   "metadata": {},
   "outputs": [
    {
     "data": {
      "text/plain": [
       "1.0"
      ]
     },
     "execution_count": 45,
     "metadata": {},
     "output_type": "execute_result"
    }
   ],
   "source": [
    "# natural logarithm, element-wise.\n",
    "np.log(2.718281828459045)"
   ]
  },
  {
   "cell_type": "code",
   "execution_count": 46,
   "id": "24b35420",
   "metadata": {},
   "outputs": [
    {
     "data": {
      "text/plain": [
       "2.718281828459045"
      ]
     },
     "execution_count": 46,
     "metadata": {},
     "output_type": "execute_result"
    }
   ],
   "source": [
    "# exponential of all elements in the input\n",
    "np.exp(1)"
   ]
  },
  {
   "cell_type": "code",
   "execution_count": 47,
   "id": "dff1c193",
   "metadata": {},
   "outputs": [
    {
     "data": {
      "text/plain": [
       "3.14"
      ]
     },
     "execution_count": 47,
     "metadata": {},
     "output_type": "execute_result"
    }
   ],
   "source": [
    "np.around(3.14159265359, decimals=2, out=None)"
   ]
  },
  {
   "cell_type": "code",
   "execution_count": 48,
   "id": "a99728a4",
   "metadata": {},
   "outputs": [
    {
     "data": {
      "text/plain": [
       "array([4., 4., 3.])"
      ]
     },
     "execution_count": 48,
     "metadata": {},
     "output_type": "execute_result"
    }
   ],
   "source": [
    "# Return the ceiling of the input, element-wise\n",
    "np.ceil([3.1, 3.9, 3])"
   ]
  },
  {
   "cell_type": "code",
   "execution_count": 49,
   "id": "9d80874b",
   "metadata": {},
   "outputs": [
    {
     "data": {
      "text/plain": [
       "array([3., 3., 3.])"
      ]
     },
     "execution_count": 49,
     "metadata": {},
     "output_type": "execute_result"
    }
   ],
   "source": [
    "# Return the floor of the input, element-wise\n",
    "np.floor([3.9, 3.2, 3])"
   ]
  },
  {
   "cell_type": "code",
   "execution_count": 50,
   "id": "e4be43d7",
   "metadata": {},
   "outputs": [
    {
     "data": {
      "text/plain": [
       "array([1., 1., 2., 2.])"
      ]
     },
     "execution_count": 50,
     "metadata": {},
     "output_type": "execute_result"
    }
   ],
   "source": [
    "# Round elements of the array to the nearest integer\n",
    "np.rint([1.1, 1.49, 1.50, 1.8])"
   ]
  },
  {
   "cell_type": "markdown",
   "id": "aad6f0f2",
   "metadata": {},
   "source": [
    "# Aggregate Functions"
   ]
  },
  {
   "cell_type": "code",
   "execution_count": 51,
   "id": "1311d806",
   "metadata": {},
   "outputs": [
    {
     "data": {
      "text/plain": [
       "array([0. , 0.5, 1. , 1.5, 2. , 2.5, 3. , 3.5, 4. , 4.5, 5. , 5.5, 6. ,\n",
       "       6.5, 7. , 7.5, 8. , 8.5, 9. , 9.5])"
      ]
     },
     "execution_count": 51,
     "metadata": {},
     "output_type": "execute_result"
    }
   ],
   "source": [
    "arr = np.arange(0,10,0.5)\n",
    "arr"
   ]
  },
  {
   "cell_type": "code",
   "execution_count": 52,
   "id": "07e73d86",
   "metadata": {},
   "outputs": [
    {
     "data": {
      "text/plain": [
       "20"
      ]
     },
     "execution_count": 52,
     "metadata": {},
     "output_type": "execute_result"
    }
   ],
   "source": [
    "arr.size"
   ]
  },
  {
   "cell_type": "code",
   "execution_count": 53,
   "id": "8e682050",
   "metadata": {},
   "outputs": [
    {
     "data": {
      "text/plain": [
       "95.0"
      ]
     },
     "execution_count": 53,
     "metadata": {},
     "output_type": "execute_result"
    }
   ],
   "source": [
    "arr.sum()"
   ]
  },
  {
   "cell_type": "code",
   "execution_count": 54,
   "id": "5fdddbdf",
   "metadata": {},
   "outputs": [
    {
     "data": {
      "text/plain": [
       "0.0"
      ]
     },
     "execution_count": 54,
     "metadata": {},
     "output_type": "execute_result"
    }
   ],
   "source": [
    "arr.min()"
   ]
  },
  {
   "cell_type": "code",
   "execution_count": 55,
   "id": "4bbb6a59",
   "metadata": {},
   "outputs": [
    {
     "data": {
      "text/plain": [
       "9.5"
      ]
     },
     "execution_count": 55,
     "metadata": {},
     "output_type": "execute_result"
    }
   ],
   "source": [
    "arr.max()"
   ]
  },
  {
   "cell_type": "code",
   "execution_count": 56,
   "id": "b282cab1",
   "metadata": {},
   "outputs": [
    {
     "data": {
      "text/plain": [
       "4.75"
      ]
     },
     "execution_count": 56,
     "metadata": {},
     "output_type": "execute_result"
    }
   ],
   "source": [
    "arr.mean()"
   ]
  },
  {
   "cell_type": "code",
   "execution_count": 57,
   "id": "f6ffdc7a",
   "metadata": {},
   "outputs": [
    {
     "data": {
      "text/plain": [
       "4.75"
      ]
     },
     "execution_count": 57,
     "metadata": {},
     "output_type": "execute_result"
    }
   ],
   "source": [
    "np.median(arr)"
   ]
  },
  {
   "cell_type": "code",
   "execution_count": 58,
   "id": "b646df66",
   "metadata": {},
   "outputs": [
    {
     "data": {
      "text/plain": [
       "2.883140648667699"
      ]
     },
     "execution_count": 58,
     "metadata": {},
     "output_type": "execute_result"
    }
   ],
   "source": [
    "# Standard Deviation \n",
    "np.std(arr) "
   ]
  },
  {
   "cell_type": "markdown",
   "id": "d4b08589",
   "metadata": {},
   "source": [
    "# Structured Array"
   ]
  },
  {
   "cell_type": "code",
   "execution_count": 59,
   "id": "5d239c70",
   "metadata": {},
   "outputs": [
    {
     "data": {
      "text/plain": [
       "array([('Alice', 'F', 30, 3500.5), ('Ben', 'M', 35, 2800.3)],\n",
       "      dtype=[('name', '<U10'), ('gender', '<U1'), ('age', '<i4'), ('order_amount', '<f16')])"
      ]
     },
     "execution_count": 59,
     "metadata": {},
     "output_type": "execute_result"
    }
   ],
   "source": [
    "# create an empty array with settings\n",
    "client = np.array([('Alice','F',30,3500.5),\n",
    "    ('Ben','M',35,2800.3),],dtype=[('name', 'U10'), ('gender', 'U1'), ('age', 'i4'), ('order_amount', 'f16')])\n",
    "client"
   ]
  },
  {
   "cell_type": "code",
   "execution_count": 60,
   "id": "95a2b89c",
   "metadata": {},
   "outputs": [
    {
     "data": {
      "text/plain": [
       "('Alice', 'F', 30, 3500.5)"
      ]
     },
     "execution_count": 60,
     "metadata": {},
     "output_type": "execute_result"
    }
   ],
   "source": [
    "client[0]"
   ]
  },
  {
   "cell_type": "code",
   "execution_count": 61,
   "id": "b7d480e7",
   "metadata": {},
   "outputs": [
    {
     "data": {
      "text/plain": [
       "numpy.ndarray"
      ]
     },
     "execution_count": 61,
     "metadata": {},
     "output_type": "execute_result"
    }
   ],
   "source": [
    "type(client)"
   ]
  },
  {
   "cell_type": "code",
   "execution_count": 62,
   "id": "8c33c679",
   "metadata": {},
   "outputs": [
    {
     "data": {
      "text/plain": [
       "array([('Alice', 'F', 30, 3500.5), ('Ben', 'M', 35, 2800.3)],\n",
       "      dtype=[('name', '<U10'), ('gender', '<U1'), ('age', '<i4'), ('order_amount', '<f16')])"
      ]
     },
     "execution_count": 62,
     "metadata": {},
     "output_type": "execute_result"
    }
   ],
   "source": [
    "new_client = client.copy()\n",
    "new_client"
   ]
  },
  {
   "cell_type": "code",
   "execution_count": 63,
   "id": "0b26caaf",
   "metadata": {},
   "outputs": [
    {
     "data": {
      "text/plain": [
       "('Alice', 'F', 30, 3500.5)"
      ]
     },
     "execution_count": 63,
     "metadata": {},
     "output_type": "execute_result"
    }
   ],
   "source": [
    "new_client[0]"
   ]
  },
  {
   "cell_type": "code",
   "execution_count": 64,
   "id": "eddcffc7",
   "metadata": {},
   "outputs": [],
   "source": [
    "new_client[0][2]=18"
   ]
  },
  {
   "cell_type": "code",
   "execution_count": 65,
   "id": "0cc6aad0",
   "metadata": {},
   "outputs": [
    {
     "data": {
      "text/plain": [
       "('Alice', 'F', 18, 3500.5)"
      ]
     },
     "execution_count": 65,
     "metadata": {},
     "output_type": "execute_result"
    }
   ],
   "source": [
    "new_client[0]"
   ]
  },
  {
   "cell_type": "markdown",
   "id": "d31d3f8a",
   "metadata": {},
   "source": [
    "# Comparison Operator"
   ]
  },
  {
   "cell_type": "code",
   "execution_count": 66,
   "id": "d6b9dded",
   "metadata": {},
   "outputs": [
    {
     "data": {
      "text/plain": [
       "array([ True,  True, False, False, False])"
      ]
     },
     "execution_count": 66,
     "metadata": {},
     "output_type": "execute_result"
    }
   ],
   "source": [
    "arr = np.array([1, 2, 3, 4, 5])\n",
    "arr < 3"
   ]
  },
  {
   "cell_type": "code",
   "execution_count": 67,
   "id": "4b17c74b",
   "metadata": {},
   "outputs": [
    {
     "data": {
      "text/plain": [
       "array([False, False,  True,  True,  True])"
      ]
     },
     "execution_count": 67,
     "metadata": {},
     "output_type": "execute_result"
    }
   ],
   "source": [
    "arr >= 3"
   ]
  },
  {
   "cell_type": "code",
   "execution_count": 68,
   "id": "107d26bc",
   "metadata": {},
   "outputs": [
    {
     "data": {
      "text/plain": [
       "array([ True,  True, False,  True,  True])"
      ]
     },
     "execution_count": 68,
     "metadata": {},
     "output_type": "execute_result"
    }
   ],
   "source": [
    "arr != 3"
   ]
  },
  {
   "cell_type": "code",
   "execution_count": 69,
   "id": "3ecef393",
   "metadata": {},
   "outputs": [
    {
     "data": {
      "text/plain": [
       "array([False, False,  True, False, False])"
      ]
     },
     "execution_count": 69,
     "metadata": {},
     "output_type": "execute_result"
    }
   ],
   "source": [
    "arr == 3"
   ]
  },
  {
   "cell_type": "code",
   "execution_count": 70,
   "id": "8c3a7004",
   "metadata": {},
   "outputs": [
    {
     "data": {
      "text/plain": [
       "5"
      ]
     },
     "execution_count": 70,
     "metadata": {},
     "output_type": "execute_result"
    }
   ],
   "source": [
    "len(arr)"
   ]
  },
  {
   "cell_type": "code",
   "execution_count": 71,
   "id": "f56725cf",
   "metadata": {},
   "outputs": [
    {
     "data": {
      "text/plain": [
       "4"
      ]
     },
     "execution_count": 71,
     "metadata": {},
     "output_type": "execute_result"
    }
   ],
   "source": [
    "np.count_nonzero(arr>=2)"
   ]
  },
  {
   "cell_type": "markdown",
   "id": "927fb298",
   "metadata": {},
   "source": [
    "# Array Manipulation"
   ]
  },
  {
   "cell_type": "code",
   "execution_count": 72,
   "id": "2dad2e6d",
   "metadata": {},
   "outputs": [
    {
     "data": {
      "text/plain": [
       "array([[0., 0.]])"
      ]
     },
     "execution_count": 72,
     "metadata": {},
     "output_type": "execute_result"
    }
   ],
   "source": [
    "arr = np.zeros([1,2])\n",
    "arr"
   ]
  },
  {
   "cell_type": "code",
   "execution_count": 73,
   "id": "876380d1",
   "metadata": {},
   "outputs": [
    {
     "data": {
      "text/plain": [
       "array([[0., 0.],\n",
       "       [2., 2.]])"
      ]
     },
     "execution_count": 73,
     "metadata": {},
     "output_type": "execute_result"
    }
   ],
   "source": [
    "# Append values to the end of an array\n",
    "# numpy.append(arr, values, axis=None) \n",
    "arr = np.append(arr, [[2,2]], axis=0)\n",
    "arr"
   ]
  },
  {
   "cell_type": "code",
   "execution_count": 74,
   "id": "467a9025",
   "metadata": {},
   "outputs": [
    {
     "data": {
      "text/plain": [
       "array([0., 0., 2., 2.])"
      ]
     },
     "execution_count": 74,
     "metadata": {},
     "output_type": "execute_result"
    }
   ],
   "source": [
    "arr = arr.flatten()\n",
    "arr"
   ]
  },
  {
   "cell_type": "code",
   "execution_count": 75,
   "id": "c98014a5",
   "metadata": {},
   "outputs": [
    {
     "data": {
      "text/plain": [
       "array([[0., 0.],\n",
       "       [2., 2.]])"
      ]
     },
     "execution_count": 75,
     "metadata": {},
     "output_type": "execute_result"
    }
   ],
   "source": [
    "arr = arr.reshape([2,2])\n",
    "arr"
   ]
  },
  {
   "cell_type": "code",
   "execution_count": 76,
   "id": "37adb7d5",
   "metadata": {},
   "outputs": [
    {
     "data": {
      "text/plain": [
       "array([[0., 0.],\n",
       "       [1., 1.],\n",
       "       [2., 2.]])"
      ]
     },
     "execution_count": 76,
     "metadata": {},
     "output_type": "execute_result"
    }
   ],
   "source": [
    "# Insert values along the given axis before the given indices.\n",
    "# numpy.insert(arr, obj, values, axis=None) , axis=0 means insert by row \n",
    "arr = np.insert(arr, [1], [1,1], axis=0)\n",
    "arr"
   ]
  },
  {
   "cell_type": "code",
   "execution_count": 77,
   "id": "affb5d62",
   "metadata": {},
   "outputs": [
    {
     "data": {
      "text/plain": [
       "array([[0., 3., 0.],\n",
       "       [1., 3., 1.],\n",
       "       [2., 3., 2.]])"
      ]
     },
     "execution_count": 77,
     "metadata": {},
     "output_type": "execute_result"
    }
   ],
   "source": [
    "# axis=0 means insert by column\n",
    "arr = np.insert(arr, [1], [3], axis=1)\n",
    "arr"
   ]
  },
  {
   "cell_type": "code",
   "execution_count": 78,
   "id": "4f14c213",
   "metadata": {},
   "outputs": [
    {
     "data": {
      "text/plain": [
       "array([[0., 3., 0.],\n",
       "       [1., 3., 1.],\n",
       "       [2., 3., 2.],\n",
       "       [3., 3., 3.]])"
      ]
     },
     "execution_count": 78,
     "metadata": {},
     "output_type": "execute_result"
    }
   ],
   "source": [
    "# Join a sequence of arrays along an existing axis.\n",
    "# numpy.concatenate((a1, a2, ...), axis=0, out=None, dtype=None, casting=\"same_kind\")\n",
    "arr2 = np.array([[3,3,3]])\n",
    "arr3 = np.concatenate((arr,arr2), axis=0)\n",
    "arr3"
   ]
  },
  {
   "cell_type": "markdown",
   "id": "019a8c60",
   "metadata": {},
   "source": [
    "# np.array Conversion"
   ]
  },
  {
   "cell_type": "code",
   "execution_count": 79,
   "id": "dac80067",
   "metadata": {},
   "outputs": [
    {
     "data": {
      "text/plain": [
       "numpy.ndarray"
      ]
     },
     "execution_count": 79,
     "metadata": {},
     "output_type": "execute_result"
    }
   ],
   "source": [
    "# Python list to np.array\n",
    "arr = np.array([1,2,3,4,5])\n",
    "type(arr)"
   ]
  },
  {
   "cell_type": "code",
   "execution_count": 80,
   "id": "86797ccc",
   "metadata": {},
   "outputs": [
    {
     "data": {
      "text/plain": [
       "list"
      ]
     },
     "execution_count": 80,
     "metadata": {},
     "output_type": "execute_result"
    }
   ],
   "source": [
    "# np.array to Python list\n",
    "p_list = arr.tolist()\n",
    "type(p_list)"
   ]
  },
  {
   "cell_type": "code",
   "execution_count": 81,
   "id": "bd976606",
   "metadata": {},
   "outputs": [
    {
     "data": {
      "text/plain": [
       "numpy.ndarray"
      ]
     },
     "execution_count": 81,
     "metadata": {},
     "output_type": "execute_result"
    }
   ],
   "source": [
    "# Tuple to np.array\n",
    "arr1 = np.array((1,2,3,4,5))\n",
    "type(arr1)"
   ]
  },
  {
   "cell_type": "code",
   "execution_count": 82,
   "id": "11f02fcd",
   "metadata": {},
   "outputs": [
    {
     "data": {
      "text/plain": [
       "tuple"
      ]
     },
     "execution_count": 82,
     "metadata": {},
     "output_type": "execute_result"
    }
   ],
   "source": [
    "p_tuple = tuple(arr1)\n",
    "type(p_tuple)"
   ]
  },
  {
   "cell_type": "markdown",
   "id": "cc53297a",
   "metadata": {},
   "source": [
    "# I/O"
   ]
  },
  {
   "cell_type": "code",
   "execution_count": 83,
   "id": "2686adea",
   "metadata": {},
   "outputs": [],
   "source": [
    "arr = np.arange(10)\n",
    "\n",
    "from tempfile import TemporaryFile\n",
    "myfile = TemporaryFile()\n",
    "\n",
    "# numpy.save(file, arr, allow_pickle=True, fix_imports=True)\n",
    "np.save(myfile , arr, allow_pickle=True, fix_imports=True)"
   ]
  },
  {
   "cell_type": "code",
   "execution_count": 84,
   "id": "3b984e34",
   "metadata": {},
   "outputs": [
    {
     "data": {
      "text/plain": [
       "array([0, 1, 2, 3, 4, 5, 6, 7, 8, 9])"
      ]
     },
     "execution_count": 84,
     "metadata": {},
     "output_type": "execute_result"
    }
   ],
   "source": [
    "x = myfile.seek(0)\n",
    "np.load(myfile, allow_pickle=True)"
   ]
  },
  {
   "cell_type": "code",
   "execution_count": 5,
   "id": "6a31569b",
   "metadata": {},
   "outputs": [],
   "source": [
    "with open('test.npy', 'wb') as f:\n",
    "    np.save(f, np.array([[1, 2],[3, 4]]))\n"
   ]
  },
  {
   "cell_type": "code",
   "execution_count": 6,
   "id": "068aca13",
   "metadata": {},
   "outputs": [
    {
     "name": "stdout",
     "output_type": "stream",
     "text": [
      "[[1 2]\n",
      " [3 4]]\n"
     ]
    }
   ],
   "source": [
    "with open('test.npy', 'rb') as f:\n",
    "    a = np.load(f)\n",
    "    \n",
    "print(a)"
   ]
  },
  {
   "cell_type": "code",
   "execution_count": null,
   "id": "a58c050b",
   "metadata": {},
   "outputs": [],
   "source": []
  }
 ],
 "metadata": {
  "kernelspec": {
   "display_name": "Python 3 (ipykernel)",
   "language": "python",
   "name": "python3"
  },
  "language_info": {
   "codemirror_mode": {
    "name": "ipython",
    "version": 3
   },
   "file_extension": ".py",
   "mimetype": "text/x-python",
   "name": "python",
   "nbconvert_exporter": "python",
   "pygments_lexer": "ipython3",
   "version": "3.9.13"
  }
 },
 "nbformat": 4,
 "nbformat_minor": 5
}
